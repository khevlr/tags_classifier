{
  "cells": [
    {
      "cell_type": "code",
      "execution_count": 82,
      "metadata": {
        "id": "v6iSo4AW72rA"
      },
      "outputs": [],
      "source": [
        "import pandas as pd\n",
        "import os\n",
        "import requests\n",
        "from bs4 import BeautifulSoup\n",
        "import time\n",
        "import random\n",
        "import ast\n",
        "from collections import Counter\n"
      ]
    },
    {
      "cell_type": "markdown",
      "metadata": {},
      "source": [
        "## parsing"
      ]
    },
    {
      "cell_type": "code",
      "execution_count": 3,
      "metadata": {
        "id": "68g-N2LZGpi-"
      },
      "outputs": [],
      "source": [
        "new_tags_list = []"
      ]
    },
    {
      "cell_type": "code",
      "execution_count": 4,
      "metadata": {},
      "outputs": [],
      "source": [
        "link_to_tags_list = 'https://kaz.tengrinews.kz/tags/%D0%B2%D1%81%D0%B5/'"
      ]
    },
    {
      "cell_type": "code",
      "execution_count": 5,
      "metadata": {},
      "outputs": [],
      "source": [
        "r = requests.get(link_to_tags_list)\n",
        "soup = BeautifulSoup(r.text, 'html.parser')\n",
        "uls = soup.find_all('ul', class_='tn-tag-list')\n",
        "\n",
        "for ul in uls:\n",
        "    li_items = ul.find_all('li')\n",
        "    for li in li_items:\n",
        "        a_tag = li.find('a')\n",
        "        if a_tag:\n",
        "            tag_text = a_tag.text.strip()\n",
        "            new_tags_list.append(tag_text)"
      ]
    },
    {
      "cell_type": "code",
      "execution_count": 6,
      "metadata": {},
      "outputs": [
        {
          "data": {
            "text/plain": [
              "3649"
            ]
          },
          "execution_count": 6,
          "metadata": {},
          "output_type": "execute_result"
        }
      ],
      "source": [
        "len(new_tags_list)"
      ]
    },
    {
      "cell_type": "code",
      "execution_count": 7,
      "metadata": {},
      "outputs": [],
      "source": [
        "new_tags_list = [s.replace(' ', '-') for s in new_tags_list]"
      ]
    },
    {
      "cell_type": "code",
      "execution_count": 12,
      "metadata": {},
      "outputs": [
        {
          "data": {
            "text/plain": [
              "3203"
            ]
          },
          "execution_count": 12,
          "metadata": {},
          "output_type": "execute_result"
        }
      ],
      "source": [
        "new_tags_list.index('айсберг')"
      ]
    },
    {
      "cell_type": "code",
      "execution_count": null,
      "metadata": {},
      "outputs": [],
      "source": [
        "cut_tags_list = []\n",
        "\n",
        "for tag in new_tags_list[3204:]:\n",
        "  tag_url = f\"\"\"https://kaz.tengrinews.kz/tag/{tag}/page/20/\"\"\"\n",
        "\n",
        "  try:\n",
        "    r = requests.get(tag_url)\n",
        "    if r.status_code == 404:\n",
        "      print(f'Page not found: tag - {tag}')\n",
        "    r.raise_for_status()\n",
        "  except requests.exceptions.RequestException as e:\n",
        "    print(f\"Error {tag_url}: {e}\")\n",
        "\n",
        "  soup = BeautifulSoup(r.text, 'html.parser')\n",
        "  spans = soup.find_all('span', class_='content_main_item_title')\n",
        "\n",
        "  if not spans:\n",
        "    print(f\"Нет статей на странице: {tag_url}\")\n",
        "  else:\n",
        "    cut_tags_list.append(tag)"
      ]
    },
    {
      "cell_type": "code",
      "execution_count": 15,
      "metadata": {},
      "outputs": [],
      "source": [
        "tags = cut_tags_list.copy()"
      ]
    },
    {
      "cell_type": "code",
      "execution_count": 17,
      "metadata": {},
      "outputs": [],
      "source": [
        "import json \n",
        "\n",
        "# Сохраняем в файл\n",
        "with open(\"tags.json\", \"w\", encoding=\"utf-8\") as f:\n",
        "    json.dump(tags, f, ensure_ascii=False, indent=2)"
      ]
    },
    {
      "cell_type": "code",
      "execution_count": 20,
      "metadata": {},
      "outputs": [],
      "source": [
        "with open(\"tags.json\", \"r\", encoding=\"utf-8\") as f:\n",
        "    new_tags = json.load(f)"
      ]
    },
    {
      "cell_type": "code",
      "execution_count": 21,
      "metadata": {},
      "outputs": [
        {
          "data": {
            "text/plain": [
              "1394"
            ]
          },
          "execution_count": 21,
          "metadata": {},
          "output_type": "execute_result"
        }
      ],
      "source": [
        "len(new_tags)"
      ]
    },
    {
      "cell_type": "code",
      "execution_count": 31,
      "metadata": {},
      "outputs": [
        {
          "data": {
            "text/plain": [
              "['БТА-Банк',\n",
              " 'Телеарна',\n",
              " 'Банк-ЦентрКредит',\n",
              " 'Футболдан-Қазақстан-чемпионаты',\n",
              " 'Еврофутбол',\n",
              " 'Классикалық-музыка',\n",
              " 'ҚР-Ұлттық-банкі',\n",
              " 'Экспорт',\n",
              " 'Халықаралық-ғарыш-станциясы',\n",
              " 'Сбербанк',\n",
              " 'Банк-Развития-Казахстана',\n",
              " 'Өнертабыс',\n",
              " 'Телефония',\n",
              " 'Инновациялар',\n",
              " 'Цифровые-технологии',\n",
              " 'Чемпионат-мира-по-футболу',\n",
              " 'Дін',\n",
              " 'Автокөліктер',\n",
              " 'Терроризм',\n",
              " 'Музыкалық-жүлде',\n",
              " 'Ғылыми-жаңалық',\n",
              " 'Футболдан-Еуропа-чемпионаты',\n",
              " 'Казкоммерцбанк',\n",
              " 'Халық-банкі',\n",
              " 'Футболдан-Қазақстан-құрамасы',\n",
              " 'Ұлы-Отан-соғысы',\n",
              " 'Интернет-қарақшылық',\n",
              " 'Армия',\n",
              " 'Мемлекеттік-Дума',\n",
              " 'Ғылым',\n",
              " 'Нурбанк',\n",
              " 'Евразийский-банк',\n",
              " 'Рок-музыка',\n",
              " 'Альянс-Банк',\n",
              " 'Сыртқы-саясат',\n",
              " 'Банкроттық',\n",
              " 'Казахтелеком',\n",
              " 'Сауалнама',\n",
              " 'Шаңғы-спорты',\n",
              " 'Соғыс',\n",
              " 'Ұялы-телефондар',\n",
              " 'Всемирный-банк',\n",
              " 'Рэп-музыка',\n",
              " 'Ғылыми-тәжірибе',\n",
              " 'Өнеркәсіп',\n",
              " 'Музыка-фестивалі',\n",
              " 'Жол-көлік-оқиғасы',\n",
              " 'Телесериал',\n",
              " 'Көлік-саласы',\n",
              " 'Экономические-преступления',\n",
              " 'Альфа-банк',\n",
              " 'Поп-музыка',\n",
              " 'Қазатомөнеркәсіп',\n",
              " 'Банк-России',\n",
              " 'Білім-беру',\n",
              " 'Денсаулық',\n",
              " 'Телефон-терроризмі',\n",
              " 'Мемлекеттік-сатып-алулар',\n",
              " 'Музыкалық-хит-шеру',\n",
              " 'Азия-даму-банкі',\n",
              " 'Электронды-музыка',\n",
              " 'Автоспорт',\n",
              " 'Ауа-райы',\n",
              " 'Интернет',\n",
              " 'Нанотехнологиялар',\n",
              " 'Ұлттық-Банк',\n",
              " 'Технология',\n",
              " 'Үшінші-дүниежүзілік-соғыс',\n",
              " 'Саяхат',\n",
              " 'Мемлекеттік-бағдарлама',\n",
              " 'Журналистика',\n",
              " 'Саясат',\n",
              " 'Дүниежүзілік-денсаулық-сақтау-ұйымы',\n",
              " 'көліктер',\n",
              " 'Мынбаев-Сауат',\n",
              " 'Тұрғын-үй-құрылыс-жинақ-банкі',\n",
              " 'спорт',\n",
              " 'KazSat-3',\n",
              " 'Қонаев',\n",
              " 'Казачество',\n",
              " 'iPod',\n",
              " 'Су',\n",
              " 'Рейтинг',\n",
              " 'МегаФон',\n",
              " 'ЕАЭО',\n",
              " 'Миллиардеры',\n",
              " 'Импорт',\n",
              " 'Құс-тұмауы',\n",
              " 'Солтүстік-Осетия',\n",
              " 'Панама',\n",
              " 'Репрессия',\n",
              " 'әкім',\n",
              " 'BBC',\n",
              " 'Еуропалық-одақ',\n",
              " \"Кот-д'Ивуар\",\n",
              " 'Дауылды-ескерту',\n",
              " 'Тобол-ФК-(Костанай)',\n",
              " 'Lufthansa',\n",
              " 'Текелі',\n",
              " 'Гиннесс',\n",
              " 'WBO',\n",
              " 'ТҮҚЖБ',\n",
              " 'Экология',\n",
              " 'Amre',\n",
              " 'Брюс-Ли',\n",
              " 'Кака',\n",
              " 'Қарттар-үйі',\n",
              " 'Алтын',\n",
              " 'Балет',\n",
              " 'Алашорда',\n",
              " 'Қорғаныс-министрлігі',\n",
              " 'ЮКОС',\n",
              " 'Коэн-Саша-Барон',\n",
              " 'Санкция',\n",
              " 'Тағайындау',\n",
              " 'Жаркент',\n",
              " 'Черногория',\n",
              " 'Иерусалим',\n",
              " 'Жамишев-Болат',\n",
              " 'Шешенстан',\n",
              " 'Ferrari',\n",
              " 'Қарағанды-облысы',\n",
              " 'Сарыарқа',\n",
              " 'Шеру',\n",
              " 'ЮАР',\n",
              " 'Эмиграция',\n",
              " 'Евро',\n",
              " 'Adal',\n",
              " 'Мәнерлеп-сырғанау',\n",
              " 'Дискриминация',\n",
              " 'Башкирия',\n",
              " 'Электроника',\n",
              " 'Тараз',\n",
              " 'Якутия',\n",
              " 'ДСҰ',\n",
              " 'Моуринью-Жозе',\n",
              " 'Сырдария-өзені',\n",
              " 'Құрылыс',\n",
              " 'Әзірбайжан',\n",
              " 'Босния-и-Герцеговина',\n",
              " 'Эрмитаж',\n",
              " 'Келімбетов-Қайрат',\n",
              " 'Арыс',\n",
              " 'Шыңғысхан',\n",
              " 'Авиация',\n",
              " 'Медведев-Дмитрий',\n",
              " 'ИИДМ',\n",
              " 'Qazkom',\n",
              " 'Пентагон',\n",
              " 'Сайденов-Анвар',\n",
              " 'Роналдиньо',\n",
              " 'Ноутбук',\n",
              " 'Көмір',\n",
              " 'Самұрық-Қазына',\n",
              " 'Қаржы-жүйесі',\n",
              " 'Шүменов-Дортико',\n",
              " 'Шахтер-ФК-(Караганда)',\n",
              " 'ЖҚЕ',\n",
              " 'ҰОК',\n",
              " 'Жұмыстан-шығару',\n",
              " 'Нұр-Сұлтан-Әкім',\n",
              " 'Сот-төрелігі',\n",
              " 'Астана-ФК',\n",
              " 'Биология',\n",
              " 'Майк-Тайсон',\n",
              " 'Жарнама',\n",
              " 'YouTube',\n",
              " 'IATA',\n",
              " 'eBay',\n",
              " 'Бали',\n",
              " 'Ли-Джет',\n",
              " 'Жеңіс-күні',\n",
              " 'Билли-Джо-Сондерс',\n",
              " 'Бангладеш',\n",
              " 'Қаза',\n",
              " 'NASA',\n",
              " 'Елтаңба',\n",
              " 'Степногорск',\n",
              " 'Перу',\n",
              " 'Полторанин',\n",
              " 'Сауль-\"Канело\"-Альварес',\n",
              " 'Сәтбаев',\n",
              " 'Шевченко-Андрей',\n",
              " 'Семіздік',\n",
              " 'Әдеби-жүлде',\n",
              " 'ҚБТУ',\n",
              " 'Ливерпуль',\n",
              " 'Кличко-Виталий',\n",
              " 'ВВП',\n",
              " 'Қарағанды',\n",
              " 'Торговая-марка',\n",
              " 'Полиц',\n",
              " 'Пугачева-Алла',\n",
              " 'Армстронг-Лэнс',\n",
              " 'Психология',\n",
              " 'ҚАЖД',\n",
              " 'Жұлдыздар',\n",
              " 'Бакиев-Курманбек',\n",
              " 'Нұрлан-Нығматулин',\n",
              " 'Дәрі-дәрмек',\n",
              " 'Муайтай',\n",
              " 'Пикассо-Пабло',\n",
              " 'Батыс-Қазақстан-облысы',\n",
              " 'Тапшылық',\n",
              " 'БҰҰ',\n",
              " 'Мұнай',\n",
              " 'Сан-Марино',\n",
              " 'Давос',\n",
              " 'Доскалиев-Жаксылык',\n",
              " 'Porsche',\n",
              " 'Әдебиет',\n",
              " 'Әлеуметтік-желі',\n",
              " 'Инфляция',\n",
              " 'Онлайн-конференция',\n",
              " 'Продюсер',\n",
              " 'Электронды-үкімет',\n",
              " 'Чан-Джеки',\n",
              " 'Қуат-Хамитов',\n",
              " 'Шекара',\n",
              " 'ТЭФИ',\n",
              " 'Медеу',\n",
              " 'Қазгидромет',\n",
              " 'Петропавл',\n",
              " 'министр',\n",
              " 'ҚазҒЗИ',\n",
              " 'Жоғарғы-оқу-орны',\n",
              " 'Париж',\n",
              " 'Шанхай-ынтымақтастық-ұйымы',\n",
              " 'ҰҚТ',\n",
              " 'Мектеп',\n",
              " 'Хабаровск',\n",
              " 'Қостанай-облысы',\n",
              " 'Отар',\n",
              " 'Бутан',\n",
              " 'Гонконг',\n",
              " 'Грипп',\n",
              " 'Moderna',\n",
              " 'Есіл',\n",
              " 'Хезболла',\n",
              " 'Долг',\n",
              " 'Балық-шаруашылығы',\n",
              " 'Куршавель',\n",
              " 'Медресе',\n",
              " 'Ақсу',\n",
              " 'Салық',\n",
              " 'Қазақстан-халқы-Ассамблеясы',\n",
              " 'FlyArystan',\n",
              " 'Хусейн-Саддам',\n",
              " 'Саркози-Николя',\n",
              " 'Пара',\n",
              " 'Ди-джей',\n",
              " 'Молдова',\n",
              " 'Аршавин-Андрей',\n",
              " 'Еуразиялық-одақ',\n",
              " 'Қарыз',\n",
              " 'Дағыстан',\n",
              " 'Рим-Папасы',\n",
              " 'Қазселденқорғау',\n",
              " 'Горбачев-Михаил',\n",
              " 'Маңғыстау-облысы',\n",
              " 'Шакира',\n",
              " 'Сеул',\n",
              " 'Жириновский-Владимир',\n",
              " 'Уимблдон',\n",
              " 'Фиджи',\n",
              " 'Допинг',\n",
              " 'Playboy',\n",
              " 'Таиланд',\n",
              " 'Шнобель',\n",
              " 'Айдар-Шәрібаев',\n",
              " 'Нидерланды',\n",
              " 'Олимпиада-в-Сочи',\n",
              " 'Ұлыбритания',\n",
              " 'Қар-көшкіні',\n",
              " 'Тянь-Шань',\n",
              " 'Еуро-2020',\n",
              " 'Щучинск',\n",
              " 'Honda',\n",
              " 'Арман-Оспанов',\n",
              " 'Бекшин',\n",
              " 'Пакьяо-Мэнни',\n",
              " 'Волонтер',\n",
              " 'Айыппұл',\n",
              " 'Золото',\n",
              " 'Робертс-Джулия',\n",
              " 'Мальдив-аралдары',\n",
              " 'Эйр-Астана',\n",
              " 'Ақтау',\n",
              " 'Генетика',\n",
              " 'Су-тасқыны',\n",
              " 'Ойын-сауық',\n",
              " 'пандемия',\n",
              " 'Ауыл-шаруашылығы',\n",
              " 'Тергеу',\n",
              " 'Жамбыл-облысы-Қаза',\n",
              " 'Грекия',\n",
              " 'WhatsApp',\n",
              " 'Чехия',\n",
              " 'Boeing',\n",
              " 'Қазақмыс']"
            ]
          },
          "execution_count": 31,
          "metadata": {},
          "output_type": "execute_result"
        }
      ],
      "source": [
        "with open('general_tags.json', \"r\", encoding=\"utf-8\") as f:\n",
        "    general_tags = json.load(f)\n",
        "\n",
        "general_tags"
      ]
    },
    {
      "cell_type": "code",
      "execution_count": 33,
      "metadata": {},
      "outputs": [
        {
          "data": {
            "text/plain": [
              "300"
            ]
          },
          "execution_count": 33,
          "metadata": {},
          "output_type": "execute_result"
        }
      ],
      "source": [
        "len(general_tags)"
      ]
    },
    {
      "cell_type": "code",
      "execution_count": 32,
      "metadata": {},
      "outputs": [
        {
          "data": {
            "text/plain": [
              "['Жоғарғы-оқу-орны',\n",
              " 'Всемирный-банк',\n",
              " 'Куршавель',\n",
              " 'Саркози-Николя',\n",
              " 'Нұрлан-Нығматулин',\n",
              " 'Коэн-Саша-Барон',\n",
              " 'Шекара',\n",
              " 'Телефон-терроризмі',\n",
              " 'Онлайн-конференция',\n",
              " 'Ұялы-телефондар',\n",
              " 'Қаржы-жүйесі',\n",
              " 'Ойын-сауық',\n",
              " 'Шахтер-ФК-(Караганда)',\n",
              " 'Горбачев-Михаил',\n",
              " 'Қар-көшкіні',\n",
              " 'Электронды-музыка',\n",
              " 'Щучинск',\n",
              " 'eBay',\n",
              " 'Бакиев-Курманбек',\n",
              " 'Қуат-Хамитов',\n",
              " 'Эрмитаж',\n",
              " 'iPod',\n",
              " 'Тянь-Шань',\n",
              " 'Рим-Папасы',\n",
              " 'Телеарна',\n",
              " 'Мектеп',\n",
              " 'әкім',\n",
              " 'Солтүстік-Осетия',\n",
              " 'Билли-Джо-Сондерс',\n",
              " 'ТҮҚЖБ',\n",
              " 'Балық-шаруашылығы',\n",
              " 'Золото',\n",
              " 'Ұлыбритания',\n",
              " 'Босния-и-Герцеговина',\n",
              " 'Көлік-саласы',\n",
              " 'Ауа-райы',\n",
              " 'Бали',\n",
              " 'Электронды-үкімет',\n",
              " 'Инновациялар',\n",
              " 'Тергеу',\n",
              " 'Шешенстан',\n",
              " 'Батыс-Қазақстан-облысы',\n",
              " 'Самұрық-Қазына',\n",
              " 'Ұлттық-Банк',\n",
              " 'Париж',\n",
              " 'Мемлекеттік-сатып-алулар',\n",
              " 'Классикалық-музыка',\n",
              " 'Долг',\n",
              " 'Музыка-фестивалі',\n",
              " 'Интернет',\n",
              " 'Алтын',\n",
              " 'Дискриминация',\n",
              " 'Муайтай',\n",
              " 'Қарттар-үйі',\n",
              " 'Еуро-2020',\n",
              " 'Терроризм',\n",
              " 'Кака',\n",
              " 'Тобол-ФК-(Костанай)',\n",
              " 'Білім-беру',\n",
              " 'Футболдан-Қазақстан-құрамасы',\n",
              " 'Саясат',\n",
              " 'Porsche',\n",
              " 'Қазселденқорғау',\n",
              " 'Құс-тұмауы',\n",
              " 'спорт']"
            ]
          },
          "execution_count": 32,
          "metadata": {},
          "output_type": "execute_result"
        }
      ],
      "source": [
        "sample_new_tags = random.sample(general_tags, 65)\n",
        "sample_new_tags"
      ]
    },
    {
      "cell_type": "code",
      "execution_count": 39,
      "metadata": {
        "id": "fuHEs6uNGWFm"
      },
      "outputs": [],
      "source": [
        "def get_articles_list(tag):\n",
        "  default_url = 'https://kaz.tengrinews.kz/tag/'\n",
        "  cnt = 0\n",
        "  page_num = 1\n",
        "  all_links = []\n",
        "\n",
        "  while cnt < 300:\n",
        "    if page_num == 1:\n",
        "      tag_url = default_url + tag\n",
        "    else:\n",
        "      tag_url = default_url + tag + '/page' + str(page_num)\n",
        "\n",
        "    try:\n",
        "      r = requests.get(tag_url, timeout=(3, 5))\n",
        "      if r.status_code == 404:\n",
        "        print(f\"Page not found: tag - {tag}, page num - {page_num}, number of articles - {cnt}\")\n",
        "        break\n",
        "      r.raise_for_status()\n",
        "    except requests.exceptions.RequestException as e:\n",
        "      print(f\"Error no page {tag_url}: {e}\")\n",
        "      break\n",
        "\n",
        "    soup = BeautifulSoup(r.text, 'html.parser')\n",
        "    spans = soup.find_all('span', class_='content_main_item_title')\n",
        "    if not spans:\n",
        "      print(f\"Нет статей на странице: {tag_url}\")\n",
        "      break\n",
        "\n",
        "    for span in spans:\n",
        "      link = span.find('a')\n",
        "      if link and link.get('href'):\n",
        "        all_links.append('https://kaz.tengrinews.kz' + link.get('href'))\n",
        "        cnt += 1\n",
        "\n",
        "    page_num += 1\n",
        "\n",
        "  return all_links\n",
        "\n",
        "\n",
        "def get_text_tags(url):\n",
        "  try:\n",
        "    r = requests.get(url, timeout=(3,5))\n",
        "    r.raise_for_status()\n",
        "  except requests.exceptions.Timeout:\n",
        "    print(f\"Timeout при загрузке: {url}\")\n",
        "    return \"\", []\n",
        "  except requests.exceptions.RequestException as e:\n",
        "    print(f\"Error downloading {url}: {e}\")\n",
        "    return \"\", []\n",
        "  soup = BeautifulSoup(r.text, 'html.parser')\n",
        "  text_div = soup.find('div', class_='content_main_text')\n",
        "  elements = text_div.find_all(['p', 'li'])\n",
        "  article_text = []\n",
        "  for el in elements:\n",
        "    for tag in el.find_all(['a', 'img', 'em', 'strong', 'span']):\n",
        "        tag.decompose()\n",
        "    text = el.get_text(strip=True)\n",
        "    if text:\n",
        "        article_text.append(text)\n",
        "  tags = []\n",
        "  tags_spans = soup.find('div', class_='content_main_text_tags')\n",
        "  if tags_spans:\n",
        "      tags_spans = tags_spans.find_all('a')\n",
        "      for tag in tags_spans:\n",
        "          tags_text = (tag.get_text()).lower()\n",
        "          tags.append(tags_text)\n",
        "\n",
        "  return '\\n'.join(article_text), tags\n"
      ]
    },
    {
      "cell_type": "code",
      "execution_count": null,
      "metadata": {
        "colab": {
          "base_uri": "https://localhost:8080/",
          "height": 1000
        },
        "id": "0w2-URCgSEeP",
        "outputId": "f3a0894a-2af4-46d3-dedf-e9b287ea339d"
      },
      "outputs": [
        {
          "name": "stdout",
          "output_type": "stream",
          "text": [
            "Жоғарғы-оқу-орны\n",
            "Жоғарғы-оқу-орны ✅\n",
            "Всемирный-банк\n",
            "Всемирный-банк ✅\n",
            "Куршавель\n",
            "Куршавель ✅\n",
            "Саркози-Николя\n",
            "Саркози-Николя ✅\n",
            "Нұрлан-Нығматулин\n",
            "Нұрлан-Нығматулин ✅\n",
            "Коэн-Саша-Барон\n",
            "Коэн-Саша-Барон ✅\n",
            "Шекара\n",
            "Шекара ✅\n",
            "Телефон-терроризмі\n",
            "Телефон-терроризмі ✅\n",
            "Онлайн-конференция\n",
            "Timeout при загрузке: https://kaz.tengrinews.kz/kazakhstan_news/baskalarga-nesie-rasmdeyd-deputat-onlayn-alayaktyik-maselesn-331588/\n",
            "Онлайн-конференция ✅\n",
            "Ұялы-телефондар\n",
            "Ұялы-телефондар ✅\n",
            "Қаржы-жүйесі\n",
            "Қаржы-жүйесі ✅\n",
            "Ойын-сауық\n",
            "Ойын-сауық ✅\n",
            "Шахтер-ФК-(Караганда)\n",
            "Шахтер-ФК-(Караганда) ✅\n",
            "Горбачев-Михаил\n",
            "Горбачев-Михаил ✅\n",
            "Қар-көшкіні\n",
            "Қар-көшкіні ✅\n",
            "Электронды-музыка\n",
            "Электронды-музыка ✅\n",
            "Щучинск\n",
            "Щучинск ✅\n",
            "eBay\n",
            "eBay ✅\n",
            "Бакиев-Курманбек\n",
            "Бакиев-Курманбек ✅\n",
            "Қуат-Хамитов\n",
            "Қуат-Хамитов ✅\n",
            "Эрмитаж\n",
            "Timeout при загрузке: https://kaz.tengrinews.kz/oner/kazakstanda-ermitajdyin-filialyi-ashyiluyi-mumkn-256226/\n",
            "Error downloading https://kaz.tengrinews.kz/oner/kazakstanda-ermitajdyin-filialyi-ashyiluyi-mumkn-256226/: HTTPSConnectionPool(host='kaz.tengrinews.kz', port=443): Max retries exceeded with url: /oner/kazakstanda-ermitajdyin-filialyi-ashyiluyi-mumkn-256226/ (Caused by NameResolutionError(\"<urllib3.connection.HTTPSConnection object at 0x000001806B3DBCE0>: Failed to resolve 'kaz.tengrinews.kz' ([Errno 11001] getaddrinfo failed)\"))\n",
            "Error downloading https://kaz.tengrinews.kz/oner/kazakstanda-ermitajdyin-filialyi-ashyiluyi-mumkn-256226/: HTTPSConnectionPool(host='kaz.tengrinews.kz', port=443): Max retries exceeded with url: /oner/kazakstanda-ermitajdyin-filialyi-ashyiluyi-mumkn-256226/ (Caused by NameResolutionError(\"<urllib3.connection.HTTPSConnection object at 0x000001806A97AF90>: Failed to resolve 'kaz.tengrinews.kz' ([Errno 11001] getaddrinfo failed)\"))\n",
            "Error downloading https://kaz.tengrinews.kz/oner/kazakstanda-ermitajdyin-filialyi-ashyiluyi-mumkn-256226/: HTTPSConnectionPool(host='kaz.tengrinews.kz', port=443): Max retries exceeded with url: /oner/kazakstanda-ermitajdyin-filialyi-ashyiluyi-mumkn-256226/ (Caused by NameResolutionError(\"<urllib3.connection.HTTPSConnection object at 0x000001806B3D9190>: Failed to resolve 'kaz.tengrinews.kz' ([Errno 11001] getaddrinfo failed)\"))\n",
            "Error downloading https://kaz.tengrinews.kz/oner/kazakstanda-ermitajdyin-filialyi-ashyiluyi-mumkn-256226/: HTTPSConnectionPool(host='kaz.tengrinews.kz', port=443): Max retries exceeded with url: /oner/kazakstanda-ermitajdyin-filialyi-ashyiluyi-mumkn-256226/ (Caused by NameResolutionError(\"<urllib3.connection.HTTPSConnection object at 0x000001806AF08140>: Failed to resolve 'kaz.tengrinews.kz' ([Errno 11001] getaddrinfo failed)\"))\n",
            "Error downloading https://kaz.tengrinews.kz/oner/kazakstanda-ermitajdyin-filialyi-ashyiluyi-mumkn-256226/: HTTPSConnectionPool(host='kaz.tengrinews.kz', port=443): Max retries exceeded with url: /oner/kazakstanda-ermitajdyin-filialyi-ashyiluyi-mumkn-256226/ (Caused by NameResolutionError(\"<urllib3.connection.HTTPSConnection object at 0x000001806AF09EE0>: Failed to resolve 'kaz.tengrinews.kz' ([Errno 11001] getaddrinfo failed)\"))\n",
            "Error downloading https://kaz.tengrinews.kz/oner/kazakstanda-ermitajdyin-filialyi-ashyiluyi-mumkn-256226/: HTTPSConnectionPool(host='kaz.tengrinews.kz', port=443): Max retries exceeded with url: /oner/kazakstanda-ermitajdyin-filialyi-ashyiluyi-mumkn-256226/ (Caused by NameResolutionError(\"<urllib3.connection.HTTPSConnection object at 0x000001806AF0AFF0>: Failed to resolve 'kaz.tengrinews.kz' ([Errno 11001] getaddrinfo failed)\"))\n",
            "Error downloading https://kaz.tengrinews.kz/oner/kazakstanda-ermitajdyin-filialyi-ashyiluyi-mumkn-256226/: HTTPSConnectionPool(host='kaz.tengrinews.kz', port=443): Max retries exceeded with url: /oner/kazakstanda-ermitajdyin-filialyi-ashyiluyi-mumkn-256226/ (Caused by NameResolutionError(\"<urllib3.connection.HTTPSConnection object at 0x000001806B3D92B0>: Failed to resolve 'kaz.tengrinews.kz' ([Errno 11001] getaddrinfo failed)\"))\n",
            "Error downloading https://kaz.tengrinews.kz/oner/kazakstanda-ermitajdyin-filialyi-ashyiluyi-mumkn-256226/: HTTPSConnectionPool(host='kaz.tengrinews.kz', port=443): Max retries exceeded with url: /oner/kazakstanda-ermitajdyin-filialyi-ashyiluyi-mumkn-256226/ (Caused by NameResolutionError(\"<urllib3.connection.HTTPSConnection object at 0x000001806B3DA0F0>: Failed to resolve 'kaz.tengrinews.kz' ([Errno 11001] getaddrinfo failed)\"))\n",
            "Error downloading https://kaz.tengrinews.kz/oner/kazakstanda-ermitajdyin-filialyi-ashyiluyi-mumkn-256226/: HTTPSConnectionPool(host='kaz.tengrinews.kz', port=443): Max retries exceeded with url: /oner/kazakstanda-ermitajdyin-filialyi-ashyiluyi-mumkn-256226/ (Caused by NameResolutionError(\"<urllib3.connection.HTTPSConnection object at 0x0000018068AE0EF0>: Failed to resolve 'kaz.tengrinews.kz' ([Errno 11001] getaddrinfo failed)\"))\n",
            "Error downloading https://kaz.tengrinews.kz/oner/kazakstanda-ermitajdyin-filialyi-ashyiluyi-mumkn-256226/: HTTPSConnectionPool(host='kaz.tengrinews.kz', port=443): Max retries exceeded with url: /oner/kazakstanda-ermitajdyin-filialyi-ashyiluyi-mumkn-256226/ (Caused by NameResolutionError(\"<urllib3.connection.HTTPSConnection object at 0x000001806AF0B7A0>: Failed to resolve 'kaz.tengrinews.kz' ([Errno 11001] getaddrinfo failed)\"))\n",
            "Error downloading https://kaz.tengrinews.kz/oner/kazakstanda-ermitajdyin-filialyi-ashyiluyi-mumkn-256226/: HTTPSConnectionPool(host='kaz.tengrinews.kz', port=443): Max retries exceeded with url: /oner/kazakstanda-ermitajdyin-filialyi-ashyiluyi-mumkn-256226/ (Caused by NameResolutionError(\"<urllib3.connection.HTTPSConnection object at 0x000001806AF08110>: Failed to resolve 'kaz.tengrinews.kz' ([Errno 11001] getaddrinfo failed)\"))\n",
            "Error downloading https://kaz.tengrinews.kz/oner/kazakstanda-ermitajdyin-filialyi-ashyiluyi-mumkn-256226/: HTTPSConnectionPool(host='kaz.tengrinews.kz', port=443): Max retries exceeded with url: /oner/kazakstanda-ermitajdyin-filialyi-ashyiluyi-mumkn-256226/ (Caused by NameResolutionError(\"<urllib3.connection.HTTPSConnection object at 0x000001806AF08D10>: Failed to resolve 'kaz.tengrinews.kz' ([Errno 11001] getaddrinfo failed)\"))\n",
            "Error downloading https://kaz.tengrinews.kz/oner/kazakstanda-ermitajdyin-filialyi-ashyiluyi-mumkn-256226/: HTTPSConnectionPool(host='kaz.tengrinews.kz', port=443): Max retries exceeded with url: /oner/kazakstanda-ermitajdyin-filialyi-ashyiluyi-mumkn-256226/ (Caused by NameResolutionError(\"<urllib3.connection.HTTPSConnection object at 0x000001806AF0B680>: Failed to resolve 'kaz.tengrinews.kz' ([Errno 11001] getaddrinfo failed)\"))\n",
            "Error downloading https://kaz.tengrinews.kz/oner/kazakstanda-ermitajdyin-filialyi-ashyiluyi-mumkn-256226/: HTTPSConnectionPool(host='kaz.tengrinews.kz', port=443): Max retries exceeded with url: /oner/kazakstanda-ermitajdyin-filialyi-ashyiluyi-mumkn-256226/ (Caused by NameResolutionError(\"<urllib3.connection.HTTPSConnection object at 0x000001806B3D8470>: Failed to resolve 'kaz.tengrinews.kz' ([Errno 11001] getaddrinfo failed)\"))\n",
            "Error downloading https://kaz.tengrinews.kz/oner/kazakstanda-ermitajdyin-filialyi-ashyiluyi-mumkn-256226/: HTTPSConnectionPool(host='kaz.tengrinews.kz', port=443): Max retries exceeded with url: /oner/kazakstanda-ermitajdyin-filialyi-ashyiluyi-mumkn-256226/ (Caused by NameResolutionError(\"<urllib3.connection.HTTPSConnection object at 0x000001806B3DB1D0>: Failed to resolve 'kaz.tengrinews.kz' ([Errno 11001] getaddrinfo failed)\"))\n",
            "Error downloading https://kaz.tengrinews.kz/oner/kazakstanda-ermitajdyin-filialyi-ashyiluyi-mumkn-256226/: HTTPSConnectionPool(host='kaz.tengrinews.kz', port=443): Max retries exceeded with url: /oner/kazakstanda-ermitajdyin-filialyi-ashyiluyi-mumkn-256226/ (Caused by NameResolutionError(\"<urllib3.connection.HTTPSConnection object at 0x000001806AF0B2F0>: Failed to resolve 'kaz.tengrinews.kz' ([Errno 11001] getaddrinfo failed)\"))\n",
            "Error downloading https://kaz.tengrinews.kz/oner/kazakstanda-ermitajdyin-filialyi-ashyiluyi-mumkn-256226/: HTTPSConnectionPool(host='kaz.tengrinews.kz', port=443): Max retries exceeded with url: /oner/kazakstanda-ermitajdyin-filialyi-ashyiluyi-mumkn-256226/ (Caused by NameResolutionError(\"<urllib3.connection.HTTPSConnection object at 0x000001806AF0A210>: Failed to resolve 'kaz.tengrinews.kz' ([Errno 11001] getaddrinfo failed)\"))\n",
            "Error downloading https://kaz.tengrinews.kz/oner/kazakstanda-ermitajdyin-filialyi-ashyiluyi-mumkn-256226/: HTTPSConnectionPool(host='kaz.tengrinews.kz', port=443): Max retries exceeded with url: /oner/kazakstanda-ermitajdyin-filialyi-ashyiluyi-mumkn-256226/ (Caused by NameResolutionError(\"<urllib3.connection.HTTPSConnection object at 0x000001806AF0AFF0>: Failed to resolve 'kaz.tengrinews.kz' ([Errno 11001] getaddrinfo failed)\"))\n",
            "Error downloading https://kaz.tengrinews.kz/oner/kazakstanda-ermitajdyin-filialyi-ashyiluyi-mumkn-256226/: HTTPSConnectionPool(host='kaz.tengrinews.kz', port=443): Max retries exceeded with url: /oner/kazakstanda-ermitajdyin-filialyi-ashyiluyi-mumkn-256226/ (Caused by NameResolutionError(\"<urllib3.connection.HTTPSConnection object at 0x000001806AF09BE0>: Failed to resolve 'kaz.tengrinews.kz' ([Errno 11001] getaddrinfo failed)\"))\n",
            "Error downloading https://kaz.tengrinews.kz/oner/kazakstanda-ermitajdyin-filialyi-ashyiluyi-mumkn-256226/: HTTPSConnectionPool(host='kaz.tengrinews.kz', port=443): Max retries exceeded with url: /oner/kazakstanda-ermitajdyin-filialyi-ashyiluyi-mumkn-256226/ (Caused by NameResolutionError(\"<urllib3.connection.HTTPSConnection object at 0x000001806B3D8C50>: Failed to resolve 'kaz.tengrinews.kz' ([Errno 11001] getaddrinfo failed)\"))\n",
            "Error downloading https://kaz.tengrinews.kz/oner/kazakstanda-ermitajdyin-filialyi-ashyiluyi-mumkn-256226/: HTTPSConnectionPool(host='kaz.tengrinews.kz', port=443): Max retries exceeded with url: /oner/kazakstanda-ermitajdyin-filialyi-ashyiluyi-mumkn-256226/ (Caused by NameResolutionError(\"<urllib3.connection.HTTPSConnection object at 0x000001806A01DD00>: Failed to resolve 'kaz.tengrinews.kz' ([Errno 11001] getaddrinfo failed)\"))\n",
            "Error downloading https://kaz.tengrinews.kz/oner/kazakstanda-ermitajdyin-filialyi-ashyiluyi-mumkn-256226/: HTTPSConnectionPool(host='kaz.tengrinews.kz', port=443): Max retries exceeded with url: /oner/kazakstanda-ermitajdyin-filialyi-ashyiluyi-mumkn-256226/ (Caused by NameResolutionError(\"<urllib3.connection.HTTPSConnection object at 0x000001806AF08C80>: Failed to resolve 'kaz.tengrinews.kz' ([Errno 11001] getaddrinfo failed)\"))\n",
            "Error downloading https://kaz.tengrinews.kz/oner/kazakstanda-ermitajdyin-filialyi-ashyiluyi-mumkn-256226/: HTTPSConnectionPool(host='kaz.tengrinews.kz', port=443): Max retries exceeded with url: /oner/kazakstanda-ermitajdyin-filialyi-ashyiluyi-mumkn-256226/ (Caused by NameResolutionError(\"<urllib3.connection.HTTPSConnection object at 0x000001806AF08A40>: Failed to resolve 'kaz.tengrinews.kz' ([Errno 11001] getaddrinfo failed)\"))\n",
            "Error downloading https://kaz.tengrinews.kz/oner/kazakstanda-ermitajdyin-filialyi-ashyiluyi-mumkn-256226/: HTTPSConnectionPool(host='kaz.tengrinews.kz', port=443): Max retries exceeded with url: /oner/kazakstanda-ermitajdyin-filialyi-ashyiluyi-mumkn-256226/ (Caused by NameResolutionError(\"<urllib3.connection.HTTPSConnection object at 0x000001806AF08E60>: Failed to resolve 'kaz.tengrinews.kz' ([Errno 11001] getaddrinfo failed)\"))\n",
            "Error downloading https://kaz.tengrinews.kz/oner/kazakstanda-ermitajdyin-filialyi-ashyiluyi-mumkn-256226/: HTTPSConnectionPool(host='kaz.tengrinews.kz', port=443): Max retries exceeded with url: /oner/kazakstanda-ermitajdyin-filialyi-ashyiluyi-mumkn-256226/ (Caused by NameResolutionError(\"<urllib3.connection.HTTPSConnection object at 0x000001806AF0AEA0>: Failed to resolve 'kaz.tengrinews.kz' ([Errno 11001] getaddrinfo failed)\"))\n",
            "Error downloading https://kaz.tengrinews.kz/oner/kazakstanda-ermitajdyin-filialyi-ashyiluyi-mumkn-256226/: HTTPSConnectionPool(host='kaz.tengrinews.kz', port=443): Max retries exceeded with url: /oner/kazakstanda-ermitajdyin-filialyi-ashyiluyi-mumkn-256226/ (Caused by NameResolutionError(\"<urllib3.connection.HTTPSConnection object at 0x000001806B492F90>: Failed to resolve 'kaz.tengrinews.kz' ([Errno 11001] getaddrinfo failed)\"))\n",
            "Error downloading https://kaz.tengrinews.kz/oner/kazakstanda-ermitajdyin-filialyi-ashyiluyi-mumkn-256226/: HTTPSConnectionPool(host='kaz.tengrinews.kz', port=443): Max retries exceeded with url: /oner/kazakstanda-ermitajdyin-filialyi-ashyiluyi-mumkn-256226/ (Caused by NameResolutionError(\"<urllib3.connection.HTTPSConnection object at 0x000001806B3DA510>: Failed to resolve 'kaz.tengrinews.kz' ([Errno 11001] getaddrinfo failed)\"))\n",
            "Error downloading https://kaz.tengrinews.kz/oner/kazakstanda-ermitajdyin-filialyi-ashyiluyi-mumkn-256226/: HTTPSConnectionPool(host='kaz.tengrinews.kz', port=443): Max retries exceeded with url: /oner/kazakstanda-ermitajdyin-filialyi-ashyiluyi-mumkn-256226/ (Caused by NameResolutionError(\"<urllib3.connection.HTTPSConnection object at 0x000001806AF09BB0>: Failed to resolve 'kaz.tengrinews.kz' ([Errno 11001] getaddrinfo failed)\"))\n",
            "Error downloading https://kaz.tengrinews.kz/oner/kazakstanda-ermitajdyin-filialyi-ashyiluyi-mumkn-256226/: HTTPSConnectionPool(host='kaz.tengrinews.kz', port=443): Max retries exceeded with url: /oner/kazakstanda-ermitajdyin-filialyi-ashyiluyi-mumkn-256226/ (Caused by NameResolutionError(\"<urllib3.connection.HTTPSConnection object at 0x000001806AF0B4A0>: Failed to resolve 'kaz.tengrinews.kz' ([Errno 11001] getaddrinfo failed)\"))\n",
            "Error downloading https://kaz.tengrinews.kz/oner/kazakstanda-ermitajdyin-filialyi-ashyiluyi-mumkn-256226/: HTTPSConnectionPool(host='kaz.tengrinews.kz', port=443): Max retries exceeded with url: /oner/kazakstanda-ermitajdyin-filialyi-ashyiluyi-mumkn-256226/ (Caused by NameResolutionError(\"<urllib3.connection.HTTPSConnection object at 0x000001806AF0B470>: Failed to resolve 'kaz.tengrinews.kz' ([Errno 11001] getaddrinfo failed)\"))\n",
            "Error downloading https://kaz.tengrinews.kz/oner/kazakstanda-ermitajdyin-filialyi-ashyiluyi-mumkn-256226/: HTTPSConnectionPool(host='kaz.tengrinews.kz', port=443): Max retries exceeded with url: /oner/kazakstanda-ermitajdyin-filialyi-ashyiluyi-mumkn-256226/ (Caused by NameResolutionError(\"<urllib3.connection.HTTPSConnection object at 0x000001806AF09F40>: Failed to resolve 'kaz.tengrinews.kz' ([Errno 11001] getaddrinfo failed)\"))\n",
            "Error downloading https://kaz.tengrinews.kz/oner/kazakstanda-ermitajdyin-filialyi-ashyiluyi-mumkn-256226/: HTTPSConnectionPool(host='kaz.tengrinews.kz', port=443): Max retries exceeded with url: /oner/kazakstanda-ermitajdyin-filialyi-ashyiluyi-mumkn-256226/ (Caused by NameResolutionError(\"<urllib3.connection.HTTPSConnection object at 0x000001806AF08170>: Failed to resolve 'kaz.tengrinews.kz' ([Errno 11001] getaddrinfo failed)\"))\n",
            "Error downloading https://kaz.tengrinews.kz/oner/kazakstanda-ermitajdyin-filialyi-ashyiluyi-mumkn-256226/: HTTPSConnectionPool(host='kaz.tengrinews.kz', port=443): Max retries exceeded with url: /oner/kazakstanda-ermitajdyin-filialyi-ashyiluyi-mumkn-256226/ (Caused by NameResolutionError(\"<urllib3.connection.HTTPSConnection object at 0x000001806B3DB4A0>: Failed to resolve 'kaz.tengrinews.kz' ([Errno 11001] getaddrinfo failed)\"))\n",
            "Error downloading https://kaz.tengrinews.kz/oner/kazakstanda-ermitajdyin-filialyi-ashyiluyi-mumkn-256226/: HTTPSConnectionPool(host='kaz.tengrinews.kz', port=443): Max retries exceeded with url: /oner/kazakstanda-ermitajdyin-filialyi-ashyiluyi-mumkn-256226/ (Caused by NameResolutionError(\"<urllib3.connection.HTTPSConnection object at 0x000001806AF08710>: Failed to resolve 'kaz.tengrinews.kz' ([Errno 11001] getaddrinfo failed)\"))\n",
            "Error downloading https://kaz.tengrinews.kz/oner/kazakstanda-ermitajdyin-filialyi-ashyiluyi-mumkn-256226/: HTTPSConnectionPool(host='kaz.tengrinews.kz', port=443): Max retries exceeded with url: /oner/kazakstanda-ermitajdyin-filialyi-ashyiluyi-mumkn-256226/ (Caused by NameResolutionError(\"<urllib3.connection.HTTPSConnection object at 0x000001806AF08A40>: Failed to resolve 'kaz.tengrinews.kz' ([Errno 11001] getaddrinfo failed)\"))\n",
            "Error downloading https://kaz.tengrinews.kz/oner/kazakstanda-ermitajdyin-filialyi-ashyiluyi-mumkn-256226/: HTTPSConnectionPool(host='kaz.tengrinews.kz', port=443): Max retries exceeded with url: /oner/kazakstanda-ermitajdyin-filialyi-ashyiluyi-mumkn-256226/ (Caused by NameResolutionError(\"<urllib3.connection.HTTPSConnection object at 0x000001806AF0BFB0>: Failed to resolve 'kaz.tengrinews.kz' ([Errno 11001] getaddrinfo failed)\"))\n",
            "Error downloading https://kaz.tengrinews.kz/oner/kazakstanda-ermitajdyin-filialyi-ashyiluyi-mumkn-256226/: HTTPSConnectionPool(host='kaz.tengrinews.kz', port=443): Max retries exceeded with url: /oner/kazakstanda-ermitajdyin-filialyi-ashyiluyi-mumkn-256226/ (Caused by NameResolutionError(\"<urllib3.connection.HTTPSConnection object at 0x000001806AF0AEA0>: Failed to resolve 'kaz.tengrinews.kz' ([Errno 11001] getaddrinfo failed)\"))\n",
            "Error downloading https://kaz.tengrinews.kz/oner/kazakstanda-ermitajdyin-filialyi-ashyiluyi-mumkn-256226/: HTTPSConnectionPool(host='kaz.tengrinews.kz', port=443): Max retries exceeded with url: /oner/kazakstanda-ermitajdyin-filialyi-ashyiluyi-mumkn-256226/ (Caused by NameResolutionError(\"<urllib3.connection.HTTPSConnection object at 0x000001806A1C54F0>: Failed to resolve 'kaz.tengrinews.kz' ([Errno 11001] getaddrinfo failed)\"))\n",
            "Error downloading https://kaz.tengrinews.kz/oner/kazakstanda-ermitajdyin-filialyi-ashyiluyi-mumkn-256226/: HTTPSConnectionPool(host='kaz.tengrinews.kz', port=443): Max retries exceeded with url: /oner/kazakstanda-ermitajdyin-filialyi-ashyiluyi-mumkn-256226/ (Caused by NameResolutionError(\"<urllib3.connection.HTTPSConnection object at 0x000001806B436D50>: Failed to resolve 'kaz.tengrinews.kz' ([Errno 11001] getaddrinfo failed)\"))\n",
            "Error downloading https://kaz.tengrinews.kz/oner/kazakstanda-ermitajdyin-filialyi-ashyiluyi-mumkn-256226/: HTTPSConnectionPool(host='kaz.tengrinews.kz', port=443): Max retries exceeded with url: /oner/kazakstanda-ermitajdyin-filialyi-ashyiluyi-mumkn-256226/ (Caused by NameResolutionError(\"<urllib3.connection.HTTPSConnection object at 0x000001806B3DAA80>: Failed to resolve 'kaz.tengrinews.kz' ([Errno 11001] getaddrinfo failed)\"))\n",
            "Error downloading https://kaz.tengrinews.kz/oner/kazakstanda-ermitajdyin-filialyi-ashyiluyi-mumkn-256226/: HTTPSConnectionPool(host='kaz.tengrinews.kz', port=443): Max retries exceeded with url: /oner/kazakstanda-ermitajdyin-filialyi-ashyiluyi-mumkn-256226/ (Caused by NameResolutionError(\"<urllib3.connection.HTTPSConnection object at 0x000001806AF0BB30>: Failed to resolve 'kaz.tengrinews.kz' ([Errno 11001] getaddrinfo failed)\"))\n",
            "Error downloading https://kaz.tengrinews.kz/oner/kazakstanda-ermitajdyin-filialyi-ashyiluyi-mumkn-256226/: HTTPSConnectionPool(host='kaz.tengrinews.kz', port=443): Max retries exceeded with url: /oner/kazakstanda-ermitajdyin-filialyi-ashyiluyi-mumkn-256226/ (Caused by NameResolutionError(\"<urllib3.connection.HTTPSConnection object at 0x000001806AF0BFB0>: Failed to resolve 'kaz.tengrinews.kz' ([Errno 11001] getaddrinfo failed)\"))\n",
            "Error downloading https://kaz.tengrinews.kz/oner/kazakstanda-ermitajdyin-filialyi-ashyiluyi-mumkn-256226/: HTTPSConnectionPool(host='kaz.tengrinews.kz', port=443): Max retries exceeded with url: /oner/kazakstanda-ermitajdyin-filialyi-ashyiluyi-mumkn-256226/ (Caused by NameResolutionError(\"<urllib3.connection.HTTPSConnection object at 0x000001806AF0B470>: Failed to resolve 'kaz.tengrinews.kz' ([Errno 11001] getaddrinfo failed)\"))\n",
            "Error downloading https://kaz.tengrinews.kz/oner/kazakstanda-ermitajdyin-filialyi-ashyiluyi-mumkn-256226/: HTTPSConnectionPool(host='kaz.tengrinews.kz', port=443): Max retries exceeded with url: /oner/kazakstanda-ermitajdyin-filialyi-ashyiluyi-mumkn-256226/ (Caused by NameResolutionError(\"<urllib3.connection.HTTPSConnection object at 0x000001806AF0A2D0>: Failed to resolve 'kaz.tengrinews.kz' ([Errno 11001] getaddrinfo failed)\"))\n",
            "Error downloading https://kaz.tengrinews.kz/oner/kazakstanda-ermitajdyin-filialyi-ashyiluyi-mumkn-256226/: HTTPSConnectionPool(host='kaz.tengrinews.kz', port=443): Max retries exceeded with url: /oner/kazakstanda-ermitajdyin-filialyi-ashyiluyi-mumkn-256226/ (Caused by NameResolutionError(\"<urllib3.connection.HTTPSConnection object at 0x000001806B3D94C0>: Failed to resolve 'kaz.tengrinews.kz' ([Errno 11001] getaddrinfo failed)\"))\n",
            "Error downloading https://kaz.tengrinews.kz/oner/kazakstanda-ermitajdyin-filialyi-ashyiluyi-mumkn-256226/: HTTPSConnectionPool(host='kaz.tengrinews.kz', port=443): Max retries exceeded with url: /oner/kazakstanda-ermitajdyin-filialyi-ashyiluyi-mumkn-256226/ (Caused by NameResolutionError(\"<urllib3.connection.HTTPSConnection object at 0x000001806AF086B0>: Failed to resolve 'kaz.tengrinews.kz' ([Errno 11001] getaddrinfo failed)\"))\n",
            "Error downloading https://kaz.tengrinews.kz/oner/kazakstanda-ermitajdyin-filialyi-ashyiluyi-mumkn-256226/: HTTPSConnectionPool(host='kaz.tengrinews.kz', port=443): Max retries exceeded with url: /oner/kazakstanda-ermitajdyin-filialyi-ashyiluyi-mumkn-256226/ (Caused by NameResolutionError(\"<urllib3.connection.HTTPSConnection object at 0x000001806AF0AA20>: Failed to resolve 'kaz.tengrinews.kz' ([Errno 11001] getaddrinfo failed)\"))\n",
            "Error downloading https://kaz.tengrinews.kz/oner/kazakstanda-ermitajdyin-filialyi-ashyiluyi-mumkn-256226/: HTTPSConnectionPool(host='kaz.tengrinews.kz', port=443): Max retries exceeded with url: /oner/kazakstanda-ermitajdyin-filialyi-ashyiluyi-mumkn-256226/ (Caused by NameResolutionError(\"<urllib3.connection.HTTPSConnection object at 0x000001806AF08740>: Failed to resolve 'kaz.tengrinews.kz' ([Errno 11001] getaddrinfo failed)\"))\n",
            "Error downloading https://kaz.tengrinews.kz/oner/kazakstanda-ermitajdyin-filialyi-ashyiluyi-mumkn-256226/: HTTPSConnectionPool(host='kaz.tengrinews.kz', port=443): Max retries exceeded with url: /oner/kazakstanda-ermitajdyin-filialyi-ashyiluyi-mumkn-256226/ (Caused by NameResolutionError(\"<urllib3.connection.HTTPSConnection object at 0x000001806AF08A10>: Failed to resolve 'kaz.tengrinews.kz' ([Errno 11001] getaddrinfo failed)\"))\n",
            "Error downloading https://kaz.tengrinews.kz/oner/kazakstanda-ermitajdyin-filialyi-ashyiluyi-mumkn-256226/: HTTPSConnectionPool(host='kaz.tengrinews.kz', port=443): Max retries exceeded with url: /oner/kazakstanda-ermitajdyin-filialyi-ashyiluyi-mumkn-256226/ (Caused by NameResolutionError(\"<urllib3.connection.HTTPSConnection object at 0x000001806C90CF80>: Failed to resolve 'kaz.tengrinews.kz' ([Errno 11001] getaddrinfo failed)\"))\n",
            "Error downloading https://kaz.tengrinews.kz/oner/kazakstanda-ermitajdyin-filialyi-ashyiluyi-mumkn-256226/: HTTPSConnectionPool(host='kaz.tengrinews.kz', port=443): Max retries exceeded with url: /oner/kazakstanda-ermitajdyin-filialyi-ashyiluyi-mumkn-256226/ (Caused by NameResolutionError(\"<urllib3.connection.HTTPSConnection object at 0x000001806A1C7800>: Failed to resolve 'kaz.tengrinews.kz' ([Errno 11001] getaddrinfo failed)\"))\n",
            "Error downloading https://kaz.tengrinews.kz/oner/kazakstanda-ermitajdyin-filialyi-ashyiluyi-mumkn-256226/: HTTPSConnectionPool(host='kaz.tengrinews.kz', port=443): Max retries exceeded with url: /oner/kazakstanda-ermitajdyin-filialyi-ashyiluyi-mumkn-256226/ (Caused by NameResolutionError(\"<urllib3.connection.HTTPSConnection object at 0x000001806AF0A810>: Failed to resolve 'kaz.tengrinews.kz' ([Errno 11001] getaddrinfo failed)\"))\n",
            "Error downloading https://kaz.tengrinews.kz/oner/kazakstanda-ermitajdyin-filialyi-ashyiluyi-mumkn-256226/: HTTPSConnectionPool(host='kaz.tengrinews.kz', port=443): Max retries exceeded with url: /oner/kazakstanda-ermitajdyin-filialyi-ashyiluyi-mumkn-256226/ (Caused by NameResolutionError(\"<urllib3.connection.HTTPSConnection object at 0x000001806AF09B80>: Failed to resolve 'kaz.tengrinews.kz' ([Errno 11001] getaddrinfo failed)\"))\n",
            "Error downloading https://kaz.tengrinews.kz/oner/kazakstanda-ermitajdyin-filialyi-ashyiluyi-mumkn-256226/: HTTPSConnectionPool(host='kaz.tengrinews.kz', port=443): Max retries exceeded with url: /oner/kazakstanda-ermitajdyin-filialyi-ashyiluyi-mumkn-256226/ (Caused by NameResolutionError(\"<urllib3.connection.HTTPSConnection object at 0x000001806AF0ACF0>: Failed to resolve 'kaz.tengrinews.kz' ([Errno 11001] getaddrinfo failed)\"))\n",
            "Error downloading https://kaz.tengrinews.kz/oner/kazakstanda-ermitajdyin-filialyi-ashyiluyi-mumkn-256226/: HTTPSConnectionPool(host='kaz.tengrinews.kz', port=443): Max retries exceeded with url: /oner/kazakstanda-ermitajdyin-filialyi-ashyiluyi-mumkn-256226/ (Caused by NameResolutionError(\"<urllib3.connection.HTTPSConnection object at 0x000001806AF0AF90>: Failed to resolve 'kaz.tengrinews.kz' ([Errno 11001] getaddrinfo failed)\"))\n",
            "Error downloading https://kaz.tengrinews.kz/oner/kazakstanda-ermitajdyin-filialyi-ashyiluyi-mumkn-256226/: HTTPSConnectionPool(host='kaz.tengrinews.kz', port=443): Max retries exceeded with url: /oner/kazakstanda-ermitajdyin-filialyi-ashyiluyi-mumkn-256226/ (Caused by NameResolutionError(\"<urllib3.connection.HTTPSConnection object at 0x000001806B3D97C0>: Failed to resolve 'kaz.tengrinews.kz' ([Errno 11001] getaddrinfo failed)\"))\n",
            "Error downloading https://kaz.tengrinews.kz/oner/kazakstanda-ermitajdyin-filialyi-ashyiluyi-mumkn-256226/: HTTPSConnectionPool(host='kaz.tengrinews.kz', port=443): Max retries exceeded with url: /oner/kazakstanda-ermitajdyin-filialyi-ashyiluyi-mumkn-256226/ (Caused by NameResolutionError(\"<urllib3.connection.HTTPSConnection object at 0x000001806A1C5610>: Failed to resolve 'kaz.tengrinews.kz' ([Errno 11001] getaddrinfo failed)\"))\n",
            "Error downloading https://kaz.tengrinews.kz/oner/kazakstanda-ermitajdyin-filialyi-ashyiluyi-mumkn-256226/: HTTPSConnectionPool(host='kaz.tengrinews.kz', port=443): Max retries exceeded with url: /oner/kazakstanda-ermitajdyin-filialyi-ashyiluyi-mumkn-256226/ (Caused by NameResolutionError(\"<urllib3.connection.HTTPSConnection object at 0x000001806C90E3F0>: Failed to resolve 'kaz.tengrinews.kz' ([Errno 11001] getaddrinfo failed)\"))\n",
            "Error downloading https://kaz.tengrinews.kz/oner/kazakstanda-ermitajdyin-filialyi-ashyiluyi-mumkn-256226/: HTTPSConnectionPool(host='kaz.tengrinews.kz', port=443): Max retries exceeded with url: /oner/kazakstanda-ermitajdyin-filialyi-ashyiluyi-mumkn-256226/ (Caused by NameResolutionError(\"<urllib3.connection.HTTPSConnection object at 0x000001806B3D87A0>: Failed to resolve 'kaz.tengrinews.kz' ([Errno 11001] getaddrinfo failed)\"))\n",
            "Error downloading https://kaz.tengrinews.kz/oner/kazakstanda-ermitajdyin-filialyi-ashyiluyi-mumkn-256226/: HTTPSConnectionPool(host='kaz.tengrinews.kz', port=443): Max retries exceeded with url: /oner/kazakstanda-ermitajdyin-filialyi-ashyiluyi-mumkn-256226/ (Caused by NameResolutionError(\"<urllib3.connection.HTTPSConnection object at 0x000001806AF0B1A0>: Failed to resolve 'kaz.tengrinews.kz' ([Errno 11001] getaddrinfo failed)\"))\n",
            "Error downloading https://kaz.tengrinews.kz/oner/kazakstanda-ermitajdyin-filialyi-ashyiluyi-mumkn-256226/: HTTPSConnectionPool(host='kaz.tengrinews.kz', port=443): Max retries exceeded with url: /oner/kazakstanda-ermitajdyin-filialyi-ashyiluyi-mumkn-256226/ (Caused by NameResolutionError(\"<urllib3.connection.HTTPSConnection object at 0x000001806AF0A570>: Failed to resolve 'kaz.tengrinews.kz' ([Errno 11001] getaddrinfo failed)\"))\n",
            "Error downloading https://kaz.tengrinews.kz/oner/kazakstanda-ermitajdyin-filialyi-ashyiluyi-mumkn-256226/: HTTPSConnectionPool(host='kaz.tengrinews.kz', port=443): Max retries exceeded with url: /oner/kazakstanda-ermitajdyin-filialyi-ashyiluyi-mumkn-256226/ (Caused by NameResolutionError(\"<urllib3.connection.HTTPSConnection object at 0x000001806AF08C20>: Failed to resolve 'kaz.tengrinews.kz' ([Errno 11001] getaddrinfo failed)\"))\n",
            "Error downloading https://kaz.tengrinews.kz/oner/kazakstanda-ermitajdyin-filialyi-ashyiluyi-mumkn-256226/: HTTPSConnectionPool(host='kaz.tengrinews.kz', port=443): Max retries exceeded with url: /oner/kazakstanda-ermitajdyin-filialyi-ashyiluyi-mumkn-256226/ (Caused by NameResolutionError(\"<urllib3.connection.HTTPSConnection object at 0x000001806AF094F0>: Failed to resolve 'kaz.tengrinews.kz' ([Errno 11001] getaddrinfo failed)\"))\n",
            "Error downloading https://kaz.tengrinews.kz/oner/kazakstanda-ermitajdyin-filialyi-ashyiluyi-mumkn-256226/: HTTPSConnectionPool(host='kaz.tengrinews.kz', port=443): Max retries exceeded with url: /oner/kazakstanda-ermitajdyin-filialyi-ashyiluyi-mumkn-256226/ (Caused by NameResolutionError(\"<urllib3.connection.HTTPSConnection object at 0x0000018068AE2ED0>: Failed to resolve 'kaz.tengrinews.kz' ([Errno 11001] getaddrinfo failed)\"))\n",
            "Error downloading https://kaz.tengrinews.kz/oner/kazakstanda-ermitajdyin-filialyi-ashyiluyi-mumkn-256226/: HTTPSConnectionPool(host='kaz.tengrinews.kz', port=443): Max retries exceeded with url: /oner/kazakstanda-ermitajdyin-filialyi-ashyiluyi-mumkn-256226/ (Caused by NameResolutionError(\"<urllib3.connection.HTTPSConnection object at 0x000001806B3D9190>: Failed to resolve 'kaz.tengrinews.kz' ([Errno 11001] getaddrinfo failed)\"))\n",
            "Error downloading https://kaz.tengrinews.kz/oner/kazakstanda-ermitajdyin-filialyi-ashyiluyi-mumkn-256226/: HTTPSConnectionPool(host='kaz.tengrinews.kz', port=443): Max retries exceeded with url: /oner/kazakstanda-ermitajdyin-filialyi-ashyiluyi-mumkn-256226/ (Caused by NameResolutionError(\"<urllib3.connection.HTTPSConnection object at 0x000001806AF0A5D0>: Failed to resolve 'kaz.tengrinews.kz' ([Errno 11001] getaddrinfo failed)\"))\n",
            "Error downloading https://kaz.tengrinews.kz/oner/kazakstanda-ermitajdyin-filialyi-ashyiluyi-mumkn-256226/: HTTPSConnectionPool(host='kaz.tengrinews.kz', port=443): Max retries exceeded with url: /oner/kazakstanda-ermitajdyin-filialyi-ashyiluyi-mumkn-256226/ (Caused by NameResolutionError(\"<urllib3.connection.HTTPSConnection object at 0x000001806AF0AFF0>: Failed to resolve 'kaz.tengrinews.kz' ([Errno 11001] getaddrinfo failed)\"))\n",
            "Error downloading https://kaz.tengrinews.kz/oner/kazakstanda-ermitajdyin-filialyi-ashyiluyi-mumkn-256226/: HTTPSConnectionPool(host='kaz.tengrinews.kz', port=443): Max retries exceeded with url: /oner/kazakstanda-ermitajdyin-filialyi-ashyiluyi-mumkn-256226/ (Caused by NameResolutionError(\"<urllib3.connection.HTTPSConnection object at 0x000001806AF08F20>: Failed to resolve 'kaz.tengrinews.kz' ([Errno 11001] getaddrinfo failed)\"))\n",
            "Error downloading https://kaz.tengrinews.kz/oner/kazakstanda-ermitajdyin-filialyi-ashyiluyi-mumkn-256226/: HTTPSConnectionPool(host='kaz.tengrinews.kz', port=443): Max retries exceeded with url: /oner/kazakstanda-ermitajdyin-filialyi-ashyiluyi-mumkn-256226/ (Caused by NameResolutionError(\"<urllib3.connection.HTTPSConnection object at 0x000001806AF0BCE0>: Failed to resolve 'kaz.tengrinews.kz' ([Errno 11001] getaddrinfo failed)\"))\n",
            "Error downloading https://kaz.tengrinews.kz/oner/kazakstanda-ermitajdyin-filialyi-ashyiluyi-mumkn-256226/: HTTPSConnectionPool(host='kaz.tengrinews.kz', port=443): Max retries exceeded with url: /oner/kazakstanda-ermitajdyin-filialyi-ashyiluyi-mumkn-256226/ (Caused by NameResolutionError(\"<urllib3.connection.HTTPSConnection object at 0x000001806AF0B380>: Failed to resolve 'kaz.tengrinews.kz' ([Errno 11001] getaddrinfo failed)\"))\n",
            "Error downloading https://kaz.tengrinews.kz/oner/kazakstanda-ermitajdyin-filialyi-ashyiluyi-mumkn-256226/: HTTPSConnectionPool(host='kaz.tengrinews.kz', port=443): Max retries exceeded with url: /oner/kazakstanda-ermitajdyin-filialyi-ashyiluyi-mumkn-256226/ (Caused by NameResolutionError(\"<urllib3.connection.HTTPSConnection object at 0x000001806B3DBDA0>: Failed to resolve 'kaz.tengrinews.kz' ([Errno 11001] getaddrinfo failed)\"))\n",
            "Error downloading https://kaz.tengrinews.kz/oner/kazakstanda-ermitajdyin-filialyi-ashyiluyi-mumkn-256226/: HTTPSConnectionPool(host='kaz.tengrinews.kz', port=443): Max retries exceeded with url: /oner/kazakstanda-ermitajdyin-filialyi-ashyiluyi-mumkn-256226/ (Caused by NameResolutionError(\"<urllib3.connection.HTTPSConnection object at 0x000001806AE4D610>: Failed to resolve 'kaz.tengrinews.kz' ([Errno 11001] getaddrinfo failed)\"))\n",
            "Error downloading https://kaz.tengrinews.kz/oner/kazakstanda-ermitajdyin-filialyi-ashyiluyi-mumkn-256226/: HTTPSConnectionPool(host='kaz.tengrinews.kz', port=443): Max retries exceeded with url: /oner/kazakstanda-ermitajdyin-filialyi-ashyiluyi-mumkn-256226/ (Caused by NameResolutionError(\"<urllib3.connection.HTTPSConnection object at 0x000001806AF08620>: Failed to resolve 'kaz.tengrinews.kz' ([Errno 11001] getaddrinfo failed)\"))\n",
            "Error downloading https://kaz.tengrinews.kz/oner/kazakstanda-ermitajdyin-filialyi-ashyiluyi-mumkn-256226/: HTTPSConnectionPool(host='kaz.tengrinews.kz', port=443): Max retries exceeded with url: /oner/kazakstanda-ermitajdyin-filialyi-ashyiluyi-mumkn-256226/ (Caused by NameResolutionError(\"<urllib3.connection.HTTPSConnection object at 0x000001806AF09DF0>: Failed to resolve 'kaz.tengrinews.kz' ([Errno 11001] getaddrinfo failed)\"))\n",
            "Error downloading https://kaz.tengrinews.kz/oner/kazakstanda-ermitajdyin-filialyi-ashyiluyi-mumkn-256226/: HTTPSConnectionPool(host='kaz.tengrinews.kz', port=443): Max retries exceeded with url: /oner/kazakstanda-ermitajdyin-filialyi-ashyiluyi-mumkn-256226/ (Caused by NameResolutionError(\"<urllib3.connection.HTTPSConnection object at 0x000001806AF09A90>: Failed to resolve 'kaz.tengrinews.kz' ([Errno 11001] getaddrinfo failed)\"))\n",
            "Error downloading https://kaz.tengrinews.kz/oner/kazakstanda-ermitajdyin-filialyi-ashyiluyi-mumkn-256226/: HTTPSConnectionPool(host='kaz.tengrinews.kz', port=443): Max retries exceeded with url: /oner/kazakstanda-ermitajdyin-filialyi-ashyiluyi-mumkn-256226/ (Caused by NameResolutionError(\"<urllib3.connection.HTTPSConnection object at 0x000001806AF0B770>: Failed to resolve 'kaz.tengrinews.kz' ([Errno 11001] getaddrinfo failed)\"))\n",
            "Error downloading https://kaz.tengrinews.kz/oner/kazakstanda-ermitajdyin-filialyi-ashyiluyi-mumkn-256226/: HTTPSConnectionPool(host='kaz.tengrinews.kz', port=443): Max retries exceeded with url: /oner/kazakstanda-ermitajdyin-filialyi-ashyiluyi-mumkn-256226/ (Caused by NameResolutionError(\"<urllib3.connection.HTTPSConnection object at 0x000001806AF0B980>: Failed to resolve 'kaz.tengrinews.kz' ([Errno 11001] getaddrinfo failed)\"))\n",
            "Error downloading https://kaz.tengrinews.kz/oner/kazakstanda-ermitajdyin-filialyi-ashyiluyi-mumkn-256226/: HTTPSConnectionPool(host='kaz.tengrinews.kz', port=443): Max retries exceeded with url: /oner/kazakstanda-ermitajdyin-filialyi-ashyiluyi-mumkn-256226/ (Caused by NameResolutionError(\"<urllib3.connection.HTTPSConnection object at 0x000001806AF0A840>: Failed to resolve 'kaz.tengrinews.kz' ([Errno 11001] getaddrinfo failed)\"))\n",
            "Error downloading https://kaz.tengrinews.kz/oner/kazakstanda-ermitajdyin-filialyi-ashyiluyi-mumkn-256226/: HTTPSConnectionPool(host='kaz.tengrinews.kz', port=443): Max retries exceeded with url: /oner/kazakstanda-ermitajdyin-filialyi-ashyiluyi-mumkn-256226/ (Caused by NameResolutionError(\"<urllib3.connection.HTTPSConnection object at 0x000001806AF09040>: Failed to resolve 'kaz.tengrinews.kz' ([Errno 11001] getaddrinfo failed)\"))\n",
            "Error downloading https://kaz.tengrinews.kz/oner/kazakstanda-ermitajdyin-filialyi-ashyiluyi-mumkn-256226/: HTTPSConnectionPool(host='kaz.tengrinews.kz', port=443): Max retries exceeded with url: /oner/kazakstanda-ermitajdyin-filialyi-ashyiluyi-mumkn-256226/ (Caused by NameResolutionError(\"<urllib3.connection.HTTPSConnection object at 0x000001806AF0A450>: Failed to resolve 'kaz.tengrinews.kz' ([Errno 11001] getaddrinfo failed)\"))\n",
            "Error downloading https://kaz.tengrinews.kz/oner/kazakstanda-ermitajdyin-filialyi-ashyiluyi-mumkn-256226/: HTTPSConnectionPool(host='kaz.tengrinews.kz', port=443): Max retries exceeded with url: /oner/kazakstanda-ermitajdyin-filialyi-ashyiluyi-mumkn-256226/ (Caused by NameResolutionError(\"<urllib3.connection.HTTPSConnection object at 0x000001806B3DBF50>: Failed to resolve 'kaz.tengrinews.kz' ([Errno 11001] getaddrinfo failed)\"))\n",
            "Error downloading https://kaz.tengrinews.kz/oner/kazakstanda-ermitajdyin-filialyi-ashyiluyi-mumkn-256226/: HTTPSConnectionPool(host='kaz.tengrinews.kz', port=443): Max retries exceeded with url: /oner/kazakstanda-ermitajdyin-filialyi-ashyiluyi-mumkn-256226/ (Caused by NameResolutionError(\"<urllib3.connection.HTTPSConnection object at 0x000001806C90CF80>: Failed to resolve 'kaz.tengrinews.kz' ([Errno 11001] getaddrinfo failed)\"))\n",
            "Error downloading https://kaz.tengrinews.kz/oner/kazakstanda-ermitajdyin-filialyi-ashyiluyi-mumkn-256226/: HTTPSConnectionPool(host='kaz.tengrinews.kz', port=443): Max retries exceeded with url: /oner/kazakstanda-ermitajdyin-filialyi-ashyiluyi-mumkn-256226/ (Caused by NameResolutionError(\"<urllib3.connection.HTTPSConnection object at 0x000001806C90C500>: Failed to resolve 'kaz.tengrinews.kz' ([Errno 11001] getaddrinfo failed)\"))\n",
            "Error downloading https://kaz.tengrinews.kz/oner/kazakstanda-ermitajdyin-filialyi-ashyiluyi-mumkn-256226/: HTTPSConnectionPool(host='kaz.tengrinews.kz', port=443): Max retries exceeded with url: /oner/kazakstanda-ermitajdyin-filialyi-ashyiluyi-mumkn-256226/ (Caused by NameResolutionError(\"<urllib3.connection.HTTPSConnection object at 0x0000018068B67A70>: Failed to resolve 'kaz.tengrinews.kz' ([Errno 11001] getaddrinfo failed)\"))\n",
            "Error downloading https://kaz.tengrinews.kz/oner/kazakstanda-ermitajdyin-filialyi-ashyiluyi-mumkn-256226/: HTTPSConnectionPool(host='kaz.tengrinews.kz', port=443): Max retries exceeded with url: /oner/kazakstanda-ermitajdyin-filialyi-ashyiluyi-mumkn-256226/ (Caused by NameResolutionError(\"<urllib3.connection.HTTPSConnection object at 0x000001806AF0AC60>: Failed to resolve 'kaz.tengrinews.kz' ([Errno 11001] getaddrinfo failed)\"))\n",
            "Error downloading https://kaz.tengrinews.kz/oner/kazakstanda-ermitajdyin-filialyi-ashyiluyi-mumkn-256226/: HTTPSConnectionPool(host='kaz.tengrinews.kz', port=443): Max retries exceeded with url: /oner/kazakstanda-ermitajdyin-filialyi-ashyiluyi-mumkn-256226/ (Caused by NameResolutionError(\"<urllib3.connection.HTTPSConnection object at 0x000001806AF0AB10>: Failed to resolve 'kaz.tengrinews.kz' ([Errno 11001] getaddrinfo failed)\"))\n",
            "Error downloading https://kaz.tengrinews.kz/oner/kazakstanda-ermitajdyin-filialyi-ashyiluyi-mumkn-256226/: HTTPSConnectionPool(host='kaz.tengrinews.kz', port=443): Max retries exceeded with url: /oner/kazakstanda-ermitajdyin-filialyi-ashyiluyi-mumkn-256226/ (Caused by NameResolutionError(\"<urllib3.connection.HTTPSConnection object at 0x000001806AF0A5D0>: Failed to resolve 'kaz.tengrinews.kz' ([Errno 11001] getaddrinfo failed)\"))\n",
            "Error downloading https://kaz.tengrinews.kz/oner/kazakstanda-ermitajdyin-filialyi-ashyiluyi-mumkn-256226/: HTTPSConnectionPool(host='kaz.tengrinews.kz', port=443): Max retries exceeded with url: /oner/kazakstanda-ermitajdyin-filialyi-ashyiluyi-mumkn-256226/ (Caused by NameResolutionError(\"<urllib3.connection.HTTPSConnection object at 0x000001806AF0BD40>: Failed to resolve 'kaz.tengrinews.kz' ([Errno 11001] getaddrinfo failed)\"))\n",
            "Error downloading https://kaz.tengrinews.kz/oner/kazakstanda-ermitajdyin-filialyi-ashyiluyi-mumkn-256226/: HTTPSConnectionPool(host='kaz.tengrinews.kz', port=443): Max retries exceeded with url: /oner/kazakstanda-ermitajdyin-filialyi-ashyiluyi-mumkn-256226/ (Caused by NameResolutionError(\"<urllib3.connection.HTTPSConnection object at 0x000001806A1C4440>: Failed to resolve 'kaz.tengrinews.kz' ([Errno 11001] getaddrinfo failed)\"))\n",
            "Error downloading https://kaz.tengrinews.kz/oner/kazakstanda-ermitajdyin-filialyi-ashyiluyi-mumkn-256226/: HTTPSConnectionPool(host='kaz.tengrinews.kz', port=443): Max retries exceeded with url: /oner/kazakstanda-ermitajdyin-filialyi-ashyiluyi-mumkn-256226/ (Caused by NameResolutionError(\"<urllib3.connection.HTTPSConnection object at 0x000001806AF0B500>: Failed to resolve 'kaz.tengrinews.kz' ([Errno 11001] getaddrinfo failed)\"))\n",
            "Error downloading https://kaz.tengrinews.kz/oner/kazakstanda-ermitajdyin-filialyi-ashyiluyi-mumkn-256226/: HTTPSConnectionPool(host='kaz.tengrinews.kz', port=443): Max retries exceeded with url: /oner/kazakstanda-ermitajdyin-filialyi-ashyiluyi-mumkn-256226/ (Caused by NameResolutionError(\"<urllib3.connection.HTTPSConnection object at 0x000001806AF08230>: Failed to resolve 'kaz.tengrinews.kz' ([Errno 11001] getaddrinfo failed)\"))\n",
            "Error downloading https://kaz.tengrinews.kz/oner/kazakstanda-ermitajdyin-filialyi-ashyiluyi-mumkn-256226/: HTTPSConnectionPool(host='kaz.tengrinews.kz', port=443): Max retries exceeded with url: /oner/kazakstanda-ermitajdyin-filialyi-ashyiluyi-mumkn-256226/ (Caused by NameResolutionError(\"<urllib3.connection.HTTPSConnection object at 0x000001806AF0A9F0>: Failed to resolve 'kaz.tengrinews.kz' ([Errno 11001] getaddrinfo failed)\"))\n",
            "Error downloading https://kaz.tengrinews.kz/oner/kazakstanda-ermitajdyin-filialyi-ashyiluyi-mumkn-256226/: HTTPSConnectionPool(host='kaz.tengrinews.kz', port=443): Max retries exceeded with url: /oner/kazakstanda-ermitajdyin-filialyi-ashyiluyi-mumkn-256226/ (Caused by NameResolutionError(\"<urllib3.connection.HTTPSConnection object at 0x000001806C6D7E00>: Failed to resolve 'kaz.tengrinews.kz' ([Errno 11001] getaddrinfo failed)\"))\n",
            "Error downloading https://kaz.tengrinews.kz/oner/kazakstanda-ermitajdyin-filialyi-ashyiluyi-mumkn-256226/: HTTPSConnectionPool(host='kaz.tengrinews.kz', port=443): Max retries exceeded with url: /oner/kazakstanda-ermitajdyin-filialyi-ashyiluyi-mumkn-256226/ (Caused by NameResolutionError(\"<urllib3.connection.HTTPSConnection object at 0x000001806B2FB3E0>: Failed to resolve 'kaz.tengrinews.kz' ([Errno 11001] getaddrinfo failed)\"))\n",
            "Error downloading https://kaz.tengrinews.kz/oner/kazakstanda-ermitajdyin-filialyi-ashyiluyi-mumkn-256226/: HTTPSConnectionPool(host='kaz.tengrinews.kz', port=443): Max retries exceeded with url: /oner/kazakstanda-ermitajdyin-filialyi-ashyiluyi-mumkn-256226/ (Caused by NameResolutionError(\"<urllib3.connection.HTTPSConnection object at 0x000001806A1C6450>: Failed to resolve 'kaz.tengrinews.kz' ([Errno 11001] getaddrinfo failed)\"))\n",
            "Error downloading https://kaz.tengrinews.kz/oner/kazakstanda-ermitajdyin-filialyi-ashyiluyi-mumkn-256226/: HTTPSConnectionPool(host='kaz.tengrinews.kz', port=443): Max retries exceeded with url: /oner/kazakstanda-ermitajdyin-filialyi-ashyiluyi-mumkn-256226/ (Caused by NameResolutionError(\"<urllib3.connection.HTTPSConnection object at 0x000001806B3D8470>: Failed to resolve 'kaz.tengrinews.kz' ([Errno 11001] getaddrinfo failed)\"))\n",
            "Error downloading https://kaz.tengrinews.kz/oner/kazakstanda-ermitajdyin-filialyi-ashyiluyi-mumkn-256226/: HTTPSConnectionPool(host='kaz.tengrinews.kz', port=443): Max retries exceeded with url: /oner/kazakstanda-ermitajdyin-filialyi-ashyiluyi-mumkn-256226/ (Caused by NameResolutionError(\"<urllib3.connection.HTTPSConnection object at 0x0000018068AE17C0>: Failed to resolve 'kaz.tengrinews.kz' ([Errno 11001] getaddrinfo failed)\"))\n",
            "Error downloading https://kaz.tengrinews.kz/oner/kazakstanda-ermitajdyin-filialyi-ashyiluyi-mumkn-256226/: HTTPSConnectionPool(host='kaz.tengrinews.kz', port=443): Max retries exceeded with url: /oner/kazakstanda-ermitajdyin-filialyi-ashyiluyi-mumkn-256226/ (Caused by NameResolutionError(\"<urllib3.connection.HTTPSConnection object at 0x000001806AF0B9B0>: Failed to resolve 'kaz.tengrinews.kz' ([Errno 11001] getaddrinfo failed)\"))\n",
            "Error downloading https://kaz.tengrinews.kz/oner/kazakstanda-ermitajdyin-filialyi-ashyiluyi-mumkn-256226/: HTTPSConnectionPool(host='kaz.tengrinews.kz', port=443): Max retries exceeded with url: /oner/kazakstanda-ermitajdyin-filialyi-ashyiluyi-mumkn-256226/ (Caused by NameResolutionError(\"<urllib3.connection.HTTPSConnection object at 0x000001806AF0B5F0>: Failed to resolve 'kaz.tengrinews.kz' ([Errno 11001] getaddrinfo failed)\"))\n",
            "Error downloading https://kaz.tengrinews.kz/oner/kazakstanda-ermitajdyin-filialyi-ashyiluyi-mumkn-256226/: HTTPSConnectionPool(host='kaz.tengrinews.kz', port=443): Max retries exceeded with url: /oner/kazakstanda-ermitajdyin-filialyi-ashyiluyi-mumkn-256226/ (Caused by NameResolutionError(\"<urllib3.connection.HTTPSConnection object at 0x000001806AF0A3F0>: Failed to resolve 'kaz.tengrinews.kz' ([Errno 11001] getaddrinfo failed)\"))\n",
            "Error downloading https://kaz.tengrinews.kz/oner/kazakstanda-ermitajdyin-filialyi-ashyiluyi-mumkn-256226/: HTTPSConnectionPool(host='kaz.tengrinews.kz', port=443): Max retries exceeded with url: /oner/kazakstanda-ermitajdyin-filialyi-ashyiluyi-mumkn-256226/ (Caused by NameResolutionError(\"<urllib3.connection.HTTPSConnection object at 0x000001806A1C5220>: Failed to resolve 'kaz.tengrinews.kz' ([Errno 11001] getaddrinfo failed)\"))\n",
            "Error downloading https://kaz.tengrinews.kz/oner/kazakstanda-ermitajdyin-filialyi-ashyiluyi-mumkn-256226/: HTTPSConnectionPool(host='kaz.tengrinews.kz', port=443): Max retries exceeded with url: /oner/kazakstanda-ermitajdyin-filialyi-ashyiluyi-mumkn-256226/ (Caused by NameResolutionError(\"<urllib3.connection.HTTPSConnection object at 0x000001806AF094C0>: Failed to resolve 'kaz.tengrinews.kz' ([Errno 11001] getaddrinfo failed)\"))\n",
            "Error downloading https://kaz.tengrinews.kz/oner/kazakstanda-ermitajdyin-filialyi-ashyiluyi-mumkn-256226/: HTTPSConnectionPool(host='kaz.tengrinews.kz', port=443): Max retries exceeded with url: /oner/kazakstanda-ermitajdyin-filialyi-ashyiluyi-mumkn-256226/ (Caused by NameResolutionError(\"<urllib3.connection.HTTPSConnection object at 0x000001806AF08A40>: Failed to resolve 'kaz.tengrinews.kz' ([Errno 11001] getaddrinfo failed)\"))\n",
            "Error downloading https://kaz.tengrinews.kz/oner/kazakstanda-ermitajdyin-filialyi-ashyiluyi-mumkn-256226/: HTTPSConnectionPool(host='kaz.tengrinews.kz', port=443): Max retries exceeded with url: /oner/kazakstanda-ermitajdyin-filialyi-ashyiluyi-mumkn-256226/ (Caused by NameResolutionError(\"<urllib3.connection.HTTPSConnection object at 0x000001806AF0BAA0>: Failed to resolve 'kaz.tengrinews.kz' ([Errno 11001] getaddrinfo failed)\"))\n",
            "Error downloading https://kaz.tengrinews.kz/oner/kazakstanda-ermitajdyin-filialyi-ashyiluyi-mumkn-256226/: HTTPSConnectionPool(host='kaz.tengrinews.kz', port=443): Max retries exceeded with url: /oner/kazakstanda-ermitajdyin-filialyi-ashyiluyi-mumkn-256226/ (Caused by NameResolutionError(\"<urllib3.connection.HTTPSConnection object at 0x000001806AE4F7A0>: Failed to resolve 'kaz.tengrinews.kz' ([Errno 11001] getaddrinfo failed)\"))\n",
            "Error downloading https://kaz.tengrinews.kz/oner/kazakstanda-ermitajdyin-filialyi-ashyiluyi-mumkn-256226/: HTTPSConnectionPool(host='kaz.tengrinews.kz', port=443): Max retries exceeded with url: /oner/kazakstanda-ermitajdyin-filialyi-ashyiluyi-mumkn-256226/ (Caused by NameResolutionError(\"<urllib3.connection.HTTPSConnection object at 0x000001806B3D8F50>: Failed to resolve 'kaz.tengrinews.kz' ([Errno 11001] getaddrinfo failed)\"))\n",
            "Error downloading https://kaz.tengrinews.kz/oner/kazakstanda-ermitajdyin-filialyi-ashyiluyi-mumkn-256226/: HTTPSConnectionPool(host='kaz.tengrinews.kz', port=443): Max retries exceeded with url: /oner/kazakstanda-ermitajdyin-filialyi-ashyiluyi-mumkn-256226/ (Caused by NameResolutionError(\"<urllib3.connection.HTTPSConnection object at 0x000001806A1C6690>: Failed to resolve 'kaz.tengrinews.kz' ([Errno 11001] getaddrinfo failed)\"))\n",
            "Error downloading https://kaz.tengrinews.kz/oner/kazakstanda-ermitajdyin-filialyi-ashyiluyi-mumkn-256226/: HTTPSConnectionPool(host='kaz.tengrinews.kz', port=443): Max retries exceeded with url: /oner/kazakstanda-ermitajdyin-filialyi-ashyiluyi-mumkn-256226/ (Caused by NameResolutionError(\"<urllib3.connection.HTTPSConnection object at 0x000001806A1C4980>: Failed to resolve 'kaz.tengrinews.kz' ([Errno 11001] getaddrinfo failed)\"))\n",
            "Error downloading https://kaz.tengrinews.kz/oner/kazakstanda-ermitajdyin-filialyi-ashyiluyi-mumkn-256226/: HTTPSConnectionPool(host='kaz.tengrinews.kz', port=443): Max retries exceeded with url: /oner/kazakstanda-ermitajdyin-filialyi-ashyiluyi-mumkn-256226/ (Caused by NameResolutionError(\"<urllib3.connection.HTTPSConnection object at 0x000001806AE93950>: Failed to resolve 'kaz.tengrinews.kz' ([Errno 11001] getaddrinfo failed)\"))\n",
            "Error downloading https://kaz.tengrinews.kz/oner/kazakstanda-ermitajdyin-filialyi-ashyiluyi-mumkn-256226/: HTTPSConnectionPool(host='kaz.tengrinews.kz', port=443): Max retries exceeded with url: /oner/kazakstanda-ermitajdyin-filialyi-ashyiluyi-mumkn-256226/ (Caused by NameResolutionError(\"<urllib3.connection.HTTPSConnection object at 0x000001806AF0B2C0>: Failed to resolve 'kaz.tengrinews.kz' ([Errno 11001] getaddrinfo failed)\"))\n",
            "Error downloading https://kaz.tengrinews.kz/oner/kazakstanda-ermitajdyin-filialyi-ashyiluyi-mumkn-256226/: HTTPSConnectionPool(host='kaz.tengrinews.kz', port=443): Max retries exceeded with url: /oner/kazakstanda-ermitajdyin-filialyi-ashyiluyi-mumkn-256226/ (Caused by NameResolutionError(\"<urllib3.connection.HTTPSConnection object at 0x000001806AF0A090>: Failed to resolve 'kaz.tengrinews.kz' ([Errno 11001] getaddrinfo failed)\"))\n",
            "Error downloading https://kaz.tengrinews.kz/oner/kazakstanda-ermitajdyin-filialyi-ashyiluyi-mumkn-256226/: HTTPSConnectionPool(host='kaz.tengrinews.kz', port=443): Max retries exceeded with url: /oner/kazakstanda-ermitajdyin-filialyi-ashyiluyi-mumkn-256226/ (Caused by NameResolutionError(\"<urllib3.connection.HTTPSConnection object at 0x000001806AF0B230>: Failed to resolve 'kaz.tengrinews.kz' ([Errno 11001] getaddrinfo failed)\"))\n",
            "Error downloading https://kaz.tengrinews.kz/oner/kazakstanda-ermitajdyin-filialyi-ashyiluyi-mumkn-256226/: HTTPSConnectionPool(host='kaz.tengrinews.kz', port=443): Max retries exceeded with url: /oner/kazakstanda-ermitajdyin-filialyi-ashyiluyi-mumkn-256226/ (Caused by NameResolutionError(\"<urllib3.connection.HTTPSConnection object at 0x000001806A1C5BE0>: Failed to resolve 'kaz.tengrinews.kz' ([Errno 11001] getaddrinfo failed)\"))\n",
            "Error downloading https://kaz.tengrinews.kz/oner/kazakstanda-ermitajdyin-filialyi-ashyiluyi-mumkn-256226/: HTTPSConnectionPool(host='kaz.tengrinews.kz', port=443): Max retries exceeded with url: /oner/kazakstanda-ermitajdyin-filialyi-ashyiluyi-mumkn-256226/ (Caused by NameResolutionError(\"<urllib3.connection.HTTPSConnection object at 0x000001806A1C7AD0>: Failed to resolve 'kaz.tengrinews.kz' ([Errno 11001] getaddrinfo failed)\"))\n",
            "Error downloading https://kaz.tengrinews.kz/oner/kazakstanda-ermitajdyin-filialyi-ashyiluyi-mumkn-256226/: HTTPSConnectionPool(host='kaz.tengrinews.kz', port=443): Max retries exceeded with url: /oner/kazakstanda-ermitajdyin-filialyi-ashyiluyi-mumkn-256226/ (Caused by NameResolutionError(\"<urllib3.connection.HTTPSConnection object at 0x000001806AF08A10>: Failed to resolve 'kaz.tengrinews.kz' ([Errno 11001] getaddrinfo failed)\"))\n",
            "Error downloading https://kaz.tengrinews.kz/oner/kazakstanda-ermitajdyin-filialyi-ashyiluyi-mumkn-256226/: HTTPSConnectionPool(host='kaz.tengrinews.kz', port=443): Max retries exceeded with url: /oner/kazakstanda-ermitajdyin-filialyi-ashyiluyi-mumkn-256226/ (Caused by NameResolutionError(\"<urllib3.connection.HTTPSConnection object at 0x000001806AF09310>: Failed to resolve 'kaz.tengrinews.kz' ([Errno 11001] getaddrinfo failed)\"))\n",
            "Error downloading https://kaz.tengrinews.kz/oner/kazakstanda-ermitajdyin-filialyi-ashyiluyi-mumkn-256226/: HTTPSConnectionPool(host='kaz.tengrinews.kz', port=443): Max retries exceeded with url: /oner/kazakstanda-ermitajdyin-filialyi-ashyiluyi-mumkn-256226/ (Caused by NameResolutionError(\"<urllib3.connection.HTTPSConnection object at 0x000001806AF0A960>: Failed to resolve 'kaz.tengrinews.kz' ([Errno 11001] getaddrinfo failed)\"))\n",
            "Error downloading https://kaz.tengrinews.kz/oner/kazakstanda-ermitajdyin-filialyi-ashyiluyi-mumkn-256226/: HTTPSConnectionPool(host='kaz.tengrinews.kz', port=443): Max retries exceeded with url: /oner/kazakstanda-ermitajdyin-filialyi-ashyiluyi-mumkn-256226/ (Caused by NameResolutionError(\"<urllib3.connection.HTTPSConnection object at 0x000001806B3DBF50>: Failed to resolve 'kaz.tengrinews.kz' ([Errno 11001] getaddrinfo failed)\"))\n",
            "Error downloading https://kaz.tengrinews.kz/oner/kazakstanda-ermitajdyin-filialyi-ashyiluyi-mumkn-256226/: HTTPSConnectionPool(host='kaz.tengrinews.kz', port=443): Max retries exceeded with url: /oner/kazakstanda-ermitajdyin-filialyi-ashyiluyi-mumkn-256226/ (Caused by NameResolutionError(\"<urllib3.connection.HTTPSConnection object at 0x000001806A1C6870>: Failed to resolve 'kaz.tengrinews.kz' ([Errno 11001] getaddrinfo failed)\"))\n",
            "Error downloading https://kaz.tengrinews.kz/oner/kazakstanda-ermitajdyin-filialyi-ashyiluyi-mumkn-256226/: HTTPSConnectionPool(host='kaz.tengrinews.kz', port=443): Max retries exceeded with url: /oner/kazakstanda-ermitajdyin-filialyi-ashyiluyi-mumkn-256226/ (Caused by NameResolutionError(\"<urllib3.connection.HTTPSConnection object at 0x000001806A1C7410>: Failed to resolve 'kaz.tengrinews.kz' ([Errno 11001] getaddrinfo failed)\"))\n",
            "Error downloading https://kaz.tengrinews.kz/oner/kazakstanda-ermitajdyin-filialyi-ashyiluyi-mumkn-256226/: HTTPSConnectionPool(host='kaz.tengrinews.kz', port=443): Max retries exceeded with url: /oner/kazakstanda-ermitajdyin-filialyi-ashyiluyi-mumkn-256226/ (Caused by NameResolutionError(\"<urllib3.connection.HTTPSConnection object at 0x0000018068AE2ED0>: Failed to resolve 'kaz.tengrinews.kz' ([Errno 11001] getaddrinfo failed)\"))\n",
            "Error downloading https://kaz.tengrinews.kz/oner/kazakstanda-ermitajdyin-filialyi-ashyiluyi-mumkn-256226/: HTTPSConnectionPool(host='kaz.tengrinews.kz', port=443): Max retries exceeded with url: /oner/kazakstanda-ermitajdyin-filialyi-ashyiluyi-mumkn-256226/ (Caused by NameResolutionError(\"<urllib3.connection.HTTPSConnection object at 0x000001806AE4EA80>: Failed to resolve 'kaz.tengrinews.kz' ([Errno 11001] getaddrinfo failed)\"))\n",
            "Error downloading https://kaz.tengrinews.kz/oner/kazakstanda-ermitajdyin-filialyi-ashyiluyi-mumkn-256226/: HTTPSConnectionPool(host='kaz.tengrinews.kz', port=443): Max retries exceeded with url: /oner/kazakstanda-ermitajdyin-filialyi-ashyiluyi-mumkn-256226/ (Caused by NameResolutionError(\"<urllib3.connection.HTTPSConnection object at 0x000001806AF0B530>: Failed to resolve 'kaz.tengrinews.kz' ([Errno 11001] getaddrinfo failed)\"))\n",
            "Error downloading https://kaz.tengrinews.kz/oner/kazakstanda-ermitajdyin-filialyi-ashyiluyi-mumkn-256226/: HTTPSConnectionPool(host='kaz.tengrinews.kz', port=443): Max retries exceeded with url: /oner/kazakstanda-ermitajdyin-filialyi-ashyiluyi-mumkn-256226/ (Caused by NameResolutionError(\"<urllib3.connection.HTTPSConnection object at 0x000001806AF0AD50>: Failed to resolve 'kaz.tengrinews.kz' ([Errno 11001] getaddrinfo failed)\"))\n",
            "Error downloading https://kaz.tengrinews.kz/oner/kazakstanda-ermitajdyin-filialyi-ashyiluyi-mumkn-256226/: HTTPSConnectionPool(host='kaz.tengrinews.kz', port=443): Max retries exceeded with url: /oner/kazakstanda-ermitajdyin-filialyi-ashyiluyi-mumkn-256226/ (Caused by NameResolutionError(\"<urllib3.connection.HTTPSConnection object at 0x000001806A1C4920>: Failed to resolve 'kaz.tengrinews.kz' ([Errno 11001] getaddrinfo failed)\"))\n",
            "Error downloading https://kaz.tengrinews.kz/oner/kazakstanda-ermitajdyin-filialyi-ashyiluyi-mumkn-256226/: HTTPSConnectionPool(host='kaz.tengrinews.kz', port=443): Max retries exceeded with url: /oner/kazakstanda-ermitajdyin-filialyi-ashyiluyi-mumkn-256226/ (Caused by NameResolutionError(\"<urllib3.connection.HTTPSConnection object at 0x000001806A1C6D50>: Failed to resolve 'kaz.tengrinews.kz' ([Errno 11001] getaddrinfo failed)\"))\n",
            "Error downloading https://kaz.tengrinews.kz/oner/kazakstanda-ermitajdyin-filialyi-ashyiluyi-mumkn-256226/: HTTPSConnectionPool(host='kaz.tengrinews.kz', port=443): Max retries exceeded with url: /oner/kazakstanda-ermitajdyin-filialyi-ashyiluyi-mumkn-256226/ (Caused by NameResolutionError(\"<urllib3.connection.HTTPSConnection object at 0x000001806A1C63F0>: Failed to resolve 'kaz.tengrinews.kz' ([Errno 11001] getaddrinfo failed)\"))\n",
            "Error downloading https://kaz.tengrinews.kz/oner/kazakstanda-ermitajdyin-filialyi-ashyiluyi-mumkn-256226/: HTTPSConnectionPool(host='kaz.tengrinews.kz', port=443): Max retries exceeded with url: /oner/kazakstanda-ermitajdyin-filialyi-ashyiluyi-mumkn-256226/ (Caused by NameResolutionError(\"<urllib3.connection.HTTPSConnection object at 0x000001806AF094F0>: Failed to resolve 'kaz.tengrinews.kz' ([Errno 11001] getaddrinfo failed)\"))\n",
            "Error downloading https://kaz.tengrinews.kz/oner/kazakstanda-ermitajdyin-filialyi-ashyiluyi-mumkn-256226/: HTTPSConnectionPool(host='kaz.tengrinews.kz', port=443): Max retries exceeded with url: /oner/kazakstanda-ermitajdyin-filialyi-ashyiluyi-mumkn-256226/ (Caused by NameResolutionError(\"<urllib3.connection.HTTPSConnection object at 0x000001806AF09460>: Failed to resolve 'kaz.tengrinews.kz' ([Errno 11001] getaddrinfo failed)\"))\n",
            "Error downloading https://kaz.tengrinews.kz/oner/kazakstanda-ermitajdyin-filialyi-ashyiluyi-mumkn-256226/: HTTPSConnectionPool(host='kaz.tengrinews.kz', port=443): Max retries exceeded with url: /oner/kazakstanda-ermitajdyin-filialyi-ashyiluyi-mumkn-256226/ (Caused by NameResolutionError(\"<urllib3.connection.HTTPSConnection object at 0x000001806B3D9A60>: Failed to resolve 'kaz.tengrinews.kz' ([Errno 11001] getaddrinfo failed)\"))\n",
            "Error downloading https://kaz.tengrinews.kz/oner/kazakstanda-ermitajdyin-filialyi-ashyiluyi-mumkn-256226/: HTTPSConnectionPool(host='kaz.tengrinews.kz', port=443): Max retries exceeded with url: /oner/kazakstanda-ermitajdyin-filialyi-ashyiluyi-mumkn-256226/ (Caused by NameResolutionError(\"<urllib3.connection.HTTPSConnection object at 0x000001806A1C4B30>: Failed to resolve 'kaz.tengrinews.kz' ([Errno 11001] getaddrinfo failed)\"))\n",
            "Error downloading https://kaz.tengrinews.kz/oner/kazakstanda-ermitajdyin-filialyi-ashyiluyi-mumkn-256226/: HTTPSConnectionPool(host='kaz.tengrinews.kz', port=443): Max retries exceeded with url: /oner/kazakstanda-ermitajdyin-filialyi-ashyiluyi-mumkn-256226/ (Caused by NameResolutionError(\"<urllib3.connection.HTTPSConnection object at 0x000001806A1C5970>: Failed to resolve 'kaz.tengrinews.kz' ([Errno 11001] getaddrinfo failed)\"))\n",
            "Error downloading https://kaz.tengrinews.kz/oner/kazakstanda-ermitajdyin-filialyi-ashyiluyi-mumkn-256226/: HTTPSConnectionPool(host='kaz.tengrinews.kz', port=443): Max retries exceeded with url: /oner/kazakstanda-ermitajdyin-filialyi-ashyiluyi-mumkn-256226/ (Caused by NameResolutionError(\"<urllib3.connection.HTTPSConnection object at 0x000001806A1C5D60>: Failed to resolve 'kaz.tengrinews.kz' ([Errno 11001] getaddrinfo failed)\"))\n",
            "Error downloading https://kaz.tengrinews.kz/oner/kazakstanda-ermitajdyin-filialyi-ashyiluyi-mumkn-256226/: HTTPSConnectionPool(host='kaz.tengrinews.kz', port=443): Max retries exceeded with url: /oner/kazakstanda-ermitajdyin-filialyi-ashyiluyi-mumkn-256226/ (Caused by NameResolutionError(\"<urllib3.connection.HTTPSConnection object at 0x000001806B3DAF60>: Failed to resolve 'kaz.tengrinews.kz' ([Errno 11001] getaddrinfo failed)\"))\n",
            "Error downloading https://kaz.tengrinews.kz/oner/kazakstanda-ermitajdyin-filialyi-ashyiluyi-mumkn-256226/: HTTPSConnectionPool(host='kaz.tengrinews.kz', port=443): Max retries exceeded with url: /oner/kazakstanda-ermitajdyin-filialyi-ashyiluyi-mumkn-256226/ (Caused by NameResolutionError(\"<urllib3.connection.HTTPSConnection object at 0x000001806AF0B9B0>: Failed to resolve 'kaz.tengrinews.kz' ([Errno 11001] getaddrinfo failed)\"))\n",
            "Error downloading https://kaz.tengrinews.kz/oner/kazakstanda-ermitajdyin-filialyi-ashyiluyi-mumkn-256226/: HTTPSConnectionPool(host='kaz.tengrinews.kz', port=443): Max retries exceeded with url: /oner/kazakstanda-ermitajdyin-filialyi-ashyiluyi-mumkn-256226/ (Caused by NameResolutionError(\"<urllib3.connection.HTTPSConnection object at 0x000001806AF0A240>: Failed to resolve 'kaz.tengrinews.kz' ([Errno 11001] getaddrinfo failed)\"))\n",
            "Error downloading https://kaz.tengrinews.kz/oner/kazakstanda-ermitajdyin-filialyi-ashyiluyi-mumkn-256226/: HTTPSConnectionPool(host='kaz.tengrinews.kz', port=443): Max retries exceeded with url: /oner/kazakstanda-ermitajdyin-filialyi-ashyiluyi-mumkn-256226/ (Caused by NameResolutionError(\"<urllib3.connection.HTTPSConnection object at 0x000001806AF0BE00>: Failed to resolve 'kaz.tengrinews.kz' ([Errno 11001] getaddrinfo failed)\"))\n",
            "Error downloading https://kaz.tengrinews.kz/oner/kazakstanda-ermitajdyin-filialyi-ashyiluyi-mumkn-256226/: HTTPSConnectionPool(host='kaz.tengrinews.kz', port=443): Max retries exceeded with url: /oner/kazakstanda-ermitajdyin-filialyi-ashyiluyi-mumkn-256226/ (Caused by NameResolutionError(\"<urllib3.connection.HTTPSConnection object at 0x000001806AF0A0F0>: Failed to resolve 'kaz.tengrinews.kz' ([Errno 11001] getaddrinfo failed)\"))\n",
            "Error downloading https://kaz.tengrinews.kz/oner/kazakstanda-ermitajdyin-filialyi-ashyiluyi-mumkn-256226/: HTTPSConnectionPool(host='kaz.tengrinews.kz', port=443): Max retries exceeded with url: /oner/kazakstanda-ermitajdyin-filialyi-ashyiluyi-mumkn-256226/ (Caused by NameResolutionError(\"<urllib3.connection.HTTPSConnection object at 0x000001806A1C54F0>: Failed to resolve 'kaz.tengrinews.kz' ([Errno 11001] getaddrinfo failed)\"))\n",
            "Error downloading https://kaz.tengrinews.kz/oner/kazakstanda-ermitajdyin-filialyi-ashyiluyi-mumkn-256226/: HTTPSConnectionPool(host='kaz.tengrinews.kz', port=443): Max retries exceeded with url: /oner/kazakstanda-ermitajdyin-filialyi-ashyiluyi-mumkn-256226/ (Caused by NameResolutionError(\"<urllib3.connection.HTTPSConnection object at 0x000001806AF08BC0>: Failed to resolve 'kaz.tengrinews.kz' ([Errno 11001] getaddrinfo failed)\"))\n",
            "Error downloading https://kaz.tengrinews.kz/oner/kazakstanda-ermitajdyin-filialyi-ashyiluyi-mumkn-256226/: HTTPSConnectionPool(host='kaz.tengrinews.kz', port=443): Max retries exceeded with url: /oner/kazakstanda-ermitajdyin-filialyi-ashyiluyi-mumkn-256226/ (Caused by NameResolutionError(\"<urllib3.connection.HTTPSConnection object at 0x000001806AF0B560>: Failed to resolve 'kaz.tengrinews.kz' ([Errno 11001] getaddrinfo failed)\"))\n",
            "Error downloading https://kaz.tengrinews.kz/oner/kazakstanda-ermitajdyin-filialyi-ashyiluyi-mumkn-256226/: HTTPSConnectionPool(host='kaz.tengrinews.kz', port=443): Max retries exceeded with url: /oner/kazakstanda-ermitajdyin-filialyi-ashyiluyi-mumkn-256226/ (Caused by NameResolutionError(\"<urllib3.connection.HTTPSConnection object at 0x000001806AF0B470>: Failed to resolve 'kaz.tengrinews.kz' ([Errno 11001] getaddrinfo failed)\"))\n",
            "Error downloading https://kaz.tengrinews.kz/oner/kazakstanda-ermitajdyin-filialyi-ashyiluyi-mumkn-256226/: HTTPSConnectionPool(host='kaz.tengrinews.kz', port=443): Max retries exceeded with url: /oner/kazakstanda-ermitajdyin-filialyi-ashyiluyi-mumkn-256226/ (Caused by NameResolutionError(\"<urllib3.connection.HTTPSConnection object at 0x000001806AF090A0>: Failed to resolve 'kaz.tengrinews.kz' ([Errno 11001] getaddrinfo failed)\"))\n",
            "Error downloading https://kaz.tengrinews.kz/oner/kazakstanda-ermitajdyin-filialyi-ashyiluyi-mumkn-256226/: HTTPSConnectionPool(host='kaz.tengrinews.kz', port=443): Max retries exceeded with url: /oner/kazakstanda-ermitajdyin-filialyi-ashyiluyi-mumkn-256226/ (Caused by NameResolutionError(\"<urllib3.connection.HTTPSConnection object at 0x000001806B3DAF60>: Failed to resolve 'kaz.tengrinews.kz' ([Errno 11001] getaddrinfo failed)\"))\n",
            "Error downloading https://kaz.tengrinews.kz/oner/kazakstanda-ermitajdyin-filialyi-ashyiluyi-mumkn-256226/: HTTPSConnectionPool(host='kaz.tengrinews.kz', port=443): Max retries exceeded with url: /oner/kazakstanda-ermitajdyin-filialyi-ashyiluyi-mumkn-256226/ (Caused by NameResolutionError(\"<urllib3.connection.HTTPSConnection object at 0x000001806A1C5BB0>: Failed to resolve 'kaz.tengrinews.kz' ([Errno 11001] getaddrinfo failed)\"))\n",
            "Error downloading https://kaz.tengrinews.kz/oner/kazakstanda-ermitajdyin-filialyi-ashyiluyi-mumkn-256226/: HTTPSConnectionPool(host='kaz.tengrinews.kz', port=443): Max retries exceeded with url: /oner/kazakstanda-ermitajdyin-filialyi-ashyiluyi-mumkn-256226/ (Caused by NameResolutionError(\"<urllib3.connection.HTTPSConnection object at 0x000001806A1C5100>: Failed to resolve 'kaz.tengrinews.kz' ([Errno 11001] getaddrinfo failed)\"))\n",
            "Error downloading https://kaz.tengrinews.kz/oner/kazakstanda-ermitajdyin-filialyi-ashyiluyi-mumkn-256226/: HTTPSConnectionPool(host='kaz.tengrinews.kz', port=443): Max retries exceeded with url: /oner/kazakstanda-ermitajdyin-filialyi-ashyiluyi-mumkn-256226/ (Caused by NameResolutionError(\"<urllib3.connection.HTTPSConnection object at 0x000001806A5DD730>: Failed to resolve 'kaz.tengrinews.kz' ([Errno 11001] getaddrinfo failed)\"))\n",
            "Error downloading https://kaz.tengrinews.kz/oner/kazakstanda-ermitajdyin-filialyi-ashyiluyi-mumkn-256226/: HTTPSConnectionPool(host='kaz.tengrinews.kz', port=443): Max retries exceeded with url: /oner/kazakstanda-ermitajdyin-filialyi-ashyiluyi-mumkn-256226/ (Caused by NameResolutionError(\"<urllib3.connection.HTTPSConnection object at 0x000001806AF0BAD0>: Failed to resolve 'kaz.tengrinews.kz' ([Errno 11001] getaddrinfo failed)\"))\n",
            "Error downloading https://kaz.tengrinews.kz/oner/kazakstanda-ermitajdyin-filialyi-ashyiluyi-mumkn-256226/: HTTPSConnectionPool(host='kaz.tengrinews.kz', port=443): Max retries exceeded with url: /oner/kazakstanda-ermitajdyin-filialyi-ashyiluyi-mumkn-256226/ (Caused by NameResolutionError(\"<urllib3.connection.HTTPSConnection object at 0x000001806AF092E0>: Failed to resolve 'kaz.tengrinews.kz' ([Errno 11001] getaddrinfo failed)\"))\n",
            "Error downloading https://kaz.tengrinews.kz/oner/kazakstanda-ermitajdyin-filialyi-ashyiluyi-mumkn-256226/: HTTPSConnectionPool(host='kaz.tengrinews.kz', port=443): Max retries exceeded with url: /oner/kazakstanda-ermitajdyin-filialyi-ashyiluyi-mumkn-256226/ (Caused by NameResolutionError(\"<urllib3.connection.HTTPSConnection object at 0x000001806AF09E80>: Failed to resolve 'kaz.tengrinews.kz' ([Errno 11001] getaddrinfo failed)\"))\n",
            "Error downloading https://kaz.tengrinews.kz/oner/kazakstanda-ermitajdyin-filialyi-ashyiluyi-mumkn-256226/: HTTPSConnectionPool(host='kaz.tengrinews.kz', port=443): Max retries exceeded with url: /oner/kazakstanda-ermitajdyin-filialyi-ashyiluyi-mumkn-256226/ (Caused by NameResolutionError(\"<urllib3.connection.HTTPSConnection object at 0x000001806A1C4680>: Failed to resolve 'kaz.tengrinews.kz' ([Errno 11001] getaddrinfo failed)\"))\n",
            "Error downloading https://kaz.tengrinews.kz/oner/kazakstanda-ermitajdyin-filialyi-ashyiluyi-mumkn-256226/: HTTPSConnectionPool(host='kaz.tengrinews.kz', port=443): Max retries exceeded with url: /oner/kazakstanda-ermitajdyin-filialyi-ashyiluyi-mumkn-256226/ (Caused by NameResolutionError(\"<urllib3.connection.HTTPSConnection object at 0x000001806A1C48F0>: Failed to resolve 'kaz.tengrinews.kz' ([Errno 11001] getaddrinfo failed)\"))\n",
            "Error downloading https://kaz.tengrinews.kz/oner/kazakstanda-ermitajdyin-filialyi-ashyiluyi-mumkn-256226/: HTTPSConnectionPool(host='kaz.tengrinews.kz', port=443): Max retries exceeded with url: /oner/kazakstanda-ermitajdyin-filialyi-ashyiluyi-mumkn-256226/ (Caused by NameResolutionError(\"<urllib3.connection.HTTPSConnection object at 0x000001806AF0B4D0>: Failed to resolve 'kaz.tengrinews.kz' ([Errno 11001] getaddrinfo failed)\"))\n",
            "Error downloading https://kaz.tengrinews.kz/oner/kazakstanda-ermitajdyin-filialyi-ashyiluyi-mumkn-256226/: HTTPSConnectionPool(host='kaz.tengrinews.kz', port=443): Max retries exceeded with url: /oner/kazakstanda-ermitajdyin-filialyi-ashyiluyi-mumkn-256226/ (Caused by NameResolutionError(\"<urllib3.connection.HTTPSConnection object at 0x000001806AF091C0>: Failed to resolve 'kaz.tengrinews.kz' ([Errno 11001] getaddrinfo failed)\"))\n",
            "Error downloading https://kaz.tengrinews.kz/oner/kazakstanda-ermitajdyin-filialyi-ashyiluyi-mumkn-256226/: HTTPSConnectionPool(host='kaz.tengrinews.kz', port=443): Max retries exceeded with url: /oner/kazakstanda-ermitajdyin-filialyi-ashyiluyi-mumkn-256226/ (Caused by NameResolutionError(\"<urllib3.connection.HTTPSConnection object at 0x000001806AF0BAD0>: Failed to resolve 'kaz.tengrinews.kz' ([Errno 11001] getaddrinfo failed)\"))\n",
            "Error downloading https://kaz.tengrinews.kz/oner/kazakstanda-ermitajdyin-filialyi-ashyiluyi-mumkn-256226/: HTTPSConnectionPool(host='kaz.tengrinews.kz', port=443): Max retries exceeded with url: /oner/kazakstanda-ermitajdyin-filialyi-ashyiluyi-mumkn-256226/ (Caused by NameResolutionError(\"<urllib3.connection.HTTPSConnection object at 0x000001806B3DBCB0>: Failed to resolve 'kaz.tengrinews.kz' ([Errno 11001] getaddrinfo failed)\"))\n",
            "Error downloading https://kaz.tengrinews.kz/oner/kazakstanda-ermitajdyin-filialyi-ashyiluyi-mumkn-256226/: HTTPSConnectionPool(host='kaz.tengrinews.kz', port=443): Max retries exceeded with url: /oner/kazakstanda-ermitajdyin-filialyi-ashyiluyi-mumkn-256226/ (Caused by NameResolutionError(\"<urllib3.connection.HTTPSConnection object at 0x000001806A1C4830>: Failed to resolve 'kaz.tengrinews.kz' ([Errno 11001] getaddrinfo failed)\"))\n",
            "Error downloading https://kaz.tengrinews.kz/oner/kazakstanda-ermitajdyin-filialyi-ashyiluyi-mumkn-256226/: HTTPSConnectionPool(host='kaz.tengrinews.kz', port=443): Max retries exceeded with url: /oner/kazakstanda-ermitajdyin-filialyi-ashyiluyi-mumkn-256226/ (Caused by NameResolutionError(\"<urllib3.connection.HTTPSConnection object at 0x000001806A1C4B00>: Failed to resolve 'kaz.tengrinews.kz' ([Errno 11001] getaddrinfo failed)\"))\n",
            "Error downloading https://kaz.tengrinews.kz/oner/kazakstanda-ermitajdyin-filialyi-ashyiluyi-mumkn-256226/: HTTPSConnectionPool(host='kaz.tengrinews.kz', port=443): Max retries exceeded with url: /oner/kazakstanda-ermitajdyin-filialyi-ashyiluyi-mumkn-256226/ (Caused by NameResolutionError(\"<urllib3.connection.HTTPSConnection object at 0x000001806A5D4D40>: Failed to resolve 'kaz.tengrinews.kz' ([Errno 11001] getaddrinfo failed)\"))\n",
            "Error downloading https://kaz.tengrinews.kz/oner/kazakstanda-ermitajdyin-filialyi-ashyiluyi-mumkn-256226/: HTTPSConnectionPool(host='kaz.tengrinews.kz', port=443): Max retries exceeded with url: /oner/kazakstanda-ermitajdyin-filialyi-ashyiluyi-mumkn-256226/ (Caused by NameResolutionError(\"<urllib3.connection.HTTPSConnection object at 0x000001806AE4E5A0>: Failed to resolve 'kaz.tengrinews.kz' ([Errno 11001] getaddrinfo failed)\"))\n",
            "Error downloading https://kaz.tengrinews.kz/oner/kazakstanda-ermitajdyin-filialyi-ashyiluyi-mumkn-256226/: HTTPSConnectionPool(host='kaz.tengrinews.kz', port=443): Max retries exceeded with url: /oner/kazakstanda-ermitajdyin-filialyi-ashyiluyi-mumkn-256226/ (Caused by NameResolutionError(\"<urllib3.connection.HTTPSConnection object at 0x000001806AF0B440>: Failed to resolve 'kaz.tengrinews.kz' ([Errno 11001] getaddrinfo failed)\"))\n",
            "Error downloading https://kaz.tengrinews.kz/oner/kazakstanda-ermitajdyin-filialyi-ashyiluyi-mumkn-256226/: HTTPSConnectionPool(host='kaz.tengrinews.kz', port=443): Max retries exceeded with url: /oner/kazakstanda-ermitajdyin-filialyi-ashyiluyi-mumkn-256226/ (Caused by NameResolutionError(\"<urllib3.connection.HTTPSConnection object at 0x000001806AF08920>: Failed to resolve 'kaz.tengrinews.kz' ([Errno 11001] getaddrinfo failed)\"))\n",
            "Error downloading https://kaz.tengrinews.kz/oner/kazakstanda-ermitajdyin-filialyi-ashyiluyi-mumkn-256226/: HTTPSConnectionPool(host='kaz.tengrinews.kz', port=443): Max retries exceeded with url: /oner/kazakstanda-ermitajdyin-filialyi-ashyiluyi-mumkn-256226/ (Caused by NameResolutionError(\"<urllib3.connection.HTTPSConnection object at 0x000001806A1C4890>: Failed to resolve 'kaz.tengrinews.kz' ([Errno 11001] getaddrinfo failed)\"))\n",
            "Error downloading https://kaz.tengrinews.kz/oner/kazakstanda-ermitajdyin-filialyi-ashyiluyi-mumkn-256226/: HTTPSConnectionPool(host='kaz.tengrinews.kz', port=443): Max retries exceeded with url: /oner/kazakstanda-ermitajdyin-filialyi-ashyiluyi-mumkn-256226/ (Caused by NameResolutionError(\"<urllib3.connection.HTTPSConnection object at 0x000001806A1C4830>: Failed to resolve 'kaz.tengrinews.kz' ([Errno 11001] getaddrinfo failed)\"))\n",
            "Error downloading https://kaz.tengrinews.kz/oner/kazakstanda-ermitajdyin-filialyi-ashyiluyi-mumkn-256226/: HTTPSConnectionPool(host='kaz.tengrinews.kz', port=443): Max retries exceeded with url: /oner/kazakstanda-ermitajdyin-filialyi-ashyiluyi-mumkn-256226/ (Caused by NameResolutionError(\"<urllib3.connection.HTTPSConnection object at 0x000001806A1C4CB0>: Failed to resolve 'kaz.tengrinews.kz' ([Errno 11001] getaddrinfo failed)\"))\n",
            "Error downloading https://kaz.tengrinews.kz/oner/kazakstanda-ermitajdyin-filialyi-ashyiluyi-mumkn-256226/: HTTPSConnectionPool(host='kaz.tengrinews.kz', port=443): Max retries exceeded with url: /oner/kazakstanda-ermitajdyin-filialyi-ashyiluyi-mumkn-256226/ (Caused by NameResolutionError(\"<urllib3.connection.HTTPSConnection object at 0x000001806AF08920>: Failed to resolve 'kaz.tengrinews.kz' ([Errno 11001] getaddrinfo failed)\"))\n",
            "Error downloading https://kaz.tengrinews.kz/oner/kazakstanda-ermitajdyin-filialyi-ashyiluyi-mumkn-256226/: HTTPSConnectionPool(host='kaz.tengrinews.kz', port=443): Max retries exceeded with url: /oner/kazakstanda-ermitajdyin-filialyi-ashyiluyi-mumkn-256226/ (Caused by NameResolutionError(\"<urllib3.connection.HTTPSConnection object at 0x000001806AF08620>: Failed to resolve 'kaz.tengrinews.kz' ([Errno 11001] getaddrinfo failed)\"))\n",
            "Error downloading https://kaz.tengrinews.kz/oner/kazakstanda-ermitajdyin-filialyi-ashyiluyi-mumkn-256226/: HTTPSConnectionPool(host='kaz.tengrinews.kz', port=443): Max retries exceeded with url: /oner/kazakstanda-ermitajdyin-filialyi-ashyiluyi-mumkn-256226/ (Caused by NameResolutionError(\"<urllib3.connection.HTTPSConnection object at 0x000001806B2FB3E0>: Failed to resolve 'kaz.tengrinews.kz' ([Errno 11001] getaddrinfo failed)\"))\n",
            "Error downloading https://kaz.tengrinews.kz/oner/kazakstanda-ermitajdyin-filialyi-ashyiluyi-mumkn-256226/: HTTPSConnectionPool(host='kaz.tengrinews.kz', port=443): Max retries exceeded with url: /oner/kazakstanda-ermitajdyin-filialyi-ashyiluyi-mumkn-256226/ (Caused by NameResolutionError(\"<urllib3.connection.HTTPSConnection object at 0x000001806A1C7770>: Failed to resolve 'kaz.tengrinews.kz' ([Errno 11001] getaddrinfo failed)\"))\n",
            "Error downloading https://kaz.tengrinews.kz/oner/kazakstanda-ermitajdyin-filialyi-ashyiluyi-mumkn-256226/: HTTPSConnectionPool(host='kaz.tengrinews.kz', port=443): Max retries exceeded with url: /oner/kazakstanda-ermitajdyin-filialyi-ashyiluyi-mumkn-256226/ (Caused by NameResolutionError(\"<urllib3.connection.HTTPSConnection object at 0x000001806A1C4620>: Failed to resolve 'kaz.tengrinews.kz' ([Errno 11001] getaddrinfo failed)\"))\n",
            "Error downloading https://kaz.tengrinews.kz/oner/kazakstanda-ermitajdyin-filialyi-ashyiluyi-mumkn-256226/: HTTPSConnectionPool(host='kaz.tengrinews.kz', port=443): Max retries exceeded with url: /oner/kazakstanda-ermitajdyin-filialyi-ashyiluyi-mumkn-256226/ (Caused by NameResolutionError(\"<urllib3.connection.HTTPSConnection object at 0x000001806A1C61E0>: Failed to resolve 'kaz.tengrinews.kz' ([Errno 11001] getaddrinfo failed)\"))\n",
            "Error downloading https://kaz.tengrinews.kz/oner/kazakstanda-ermitajdyin-filialyi-ashyiluyi-mumkn-256226/: HTTPSConnectionPool(host='kaz.tengrinews.kz', port=443): Max retries exceeded with url: /oner/kazakstanda-ermitajdyin-filialyi-ashyiluyi-mumkn-256226/ (Caused by NameResolutionError(\"<urllib3.connection.HTTPSConnection object at 0x000001806B3DB590>: Failed to resolve 'kaz.tengrinews.kz' ([Errno 11001] getaddrinfo failed)\"))\n",
            "Error downloading https://kaz.tengrinews.kz/oner/kazakstanda-ermitajdyin-filialyi-ashyiluyi-mumkn-256226/: HTTPSConnectionPool(host='kaz.tengrinews.kz', port=443): Max retries exceeded with url: /oner/kazakstanda-ermitajdyin-filialyi-ashyiluyi-mumkn-256226/ (Caused by NameResolutionError(\"<urllib3.connection.HTTPSConnection object at 0x000001806AF0BEF0>: Failed to resolve 'kaz.tengrinews.kz' ([Errno 11001] getaddrinfo failed)\"))\n",
            "Error downloading https://kaz.tengrinews.kz/oner/kazakstanda-ermitajdyin-filialyi-ashyiluyi-mumkn-256226/: HTTPSConnectionPool(host='kaz.tengrinews.kz', port=443): Max retries exceeded with url: /oner/kazakstanda-ermitajdyin-filialyi-ashyiluyi-mumkn-256226/ (Caused by NameResolutionError(\"<urllib3.connection.HTTPSConnection object at 0x000001806AF0BE60>: Failed to resolve 'kaz.tengrinews.kz' ([Errno 11001] getaddrinfo failed)\"))\n",
            "Error downloading https://kaz.tengrinews.kz/oner/kazakstanda-ermitajdyin-filialyi-ashyiluyi-mumkn-256226/: HTTPSConnectionPool(host='kaz.tengrinews.kz', port=443): Max retries exceeded with url: /oner/kazakstanda-ermitajdyin-filialyi-ashyiluyi-mumkn-256226/ (Caused by NameResolutionError(\"<urllib3.connection.HTTPSConnection object at 0x000001806AF0A750>: Failed to resolve 'kaz.tengrinews.kz' ([Errno 11001] getaddrinfo failed)\"))\n",
            "Error downloading https://kaz.tengrinews.kz/oner/kazakstanda-ermitajdyin-filialyi-ashyiluyi-mumkn-256226/: HTTPSConnectionPool(host='kaz.tengrinews.kz', port=443): Max retries exceeded with url: /oner/kazakstanda-ermitajdyin-filialyi-ashyiluyi-mumkn-256226/ (Caused by NameResolutionError(\"<urllib3.connection.HTTPSConnection object at 0x000001806A1C6900>: Failed to resolve 'kaz.tengrinews.kz' ([Errno 11001] getaddrinfo failed)\"))\n",
            "Error downloading https://kaz.tengrinews.kz/oner/kazakstanda-ermitajdyin-filialyi-ashyiluyi-mumkn-256226/: HTTPSConnectionPool(host='kaz.tengrinews.kz', port=443): Max retries exceeded with url: /oner/kazakstanda-ermitajdyin-filialyi-ashyiluyi-mumkn-256226/ (Caused by NameResolutionError(\"<urllib3.connection.HTTPSConnection object at 0x000001806A1C5970>: Failed to resolve 'kaz.tengrinews.kz' ([Errno 11001] getaddrinfo failed)\"))\n",
            "Error downloading https://kaz.tengrinews.kz/oner/kazakstanda-ermitajdyin-filialyi-ashyiluyi-mumkn-256226/: HTTPSConnectionPool(host='kaz.tengrinews.kz', port=443): Max retries exceeded with url: /oner/kazakstanda-ermitajdyin-filialyi-ashyiluyi-mumkn-256226/ (Caused by NameResolutionError(\"<urllib3.connection.HTTPSConnection object at 0x000001806AF0BFB0>: Failed to resolve 'kaz.tengrinews.kz' ([Errno 11001] getaddrinfo failed)\"))\n",
            "Error downloading https://kaz.tengrinews.kz/oner/kazakstanda-ermitajdyin-filialyi-ashyiluyi-mumkn-256226/: HTTPSConnectionPool(host='kaz.tengrinews.kz', port=443): Max retries exceeded with url: /oner/kazakstanda-ermitajdyin-filialyi-ashyiluyi-mumkn-256226/ (Caused by NameResolutionError(\"<urllib3.connection.HTTPSConnection object at 0x000001806AF0B350>: Failed to resolve 'kaz.tengrinews.kz' ([Errno 11001] getaddrinfo failed)\"))\n",
            "Error downloading https://kaz.tengrinews.kz/oner/kazakstanda-ermitajdyin-filialyi-ashyiluyi-mumkn-256226/: HTTPSConnectionPool(host='kaz.tengrinews.kz', port=443): Max retries exceeded with url: /oner/kazakstanda-ermitajdyin-filialyi-ashyiluyi-mumkn-256226/ (Caused by NameResolutionError(\"<urllib3.connection.HTTPSConnection object at 0x000001806AF09D60>: Failed to resolve 'kaz.tengrinews.kz' ([Errno 11001] getaddrinfo failed)\"))\n",
            "Error downloading https://kaz.tengrinews.kz/oner/kazakstanda-ermitajdyin-filialyi-ashyiluyi-mumkn-256226/: HTTPSConnectionPool(host='kaz.tengrinews.kz', port=443): Max retries exceeded with url: /oner/kazakstanda-ermitajdyin-filialyi-ashyiluyi-mumkn-256226/ (Caused by NameResolutionError(\"<urllib3.connection.HTTPSConnection object at 0x000001806B3DAF30>: Failed to resolve 'kaz.tengrinews.kz' ([Errno 11001] getaddrinfo failed)\"))\n",
            "Error downloading https://kaz.tengrinews.kz/oner/kazakstanda-ermitajdyin-filialyi-ashyiluyi-mumkn-256226/: HTTPSConnectionPool(host='kaz.tengrinews.kz', port=443): Max retries exceeded with url: /oner/kazakstanda-ermitajdyin-filialyi-ashyiluyi-mumkn-256226/ (Caused by NameResolutionError(\"<urllib3.connection.HTTPSConnection object at 0x000001806A1C5C10>: Failed to resolve 'kaz.tengrinews.kz' ([Errno 11001] getaddrinfo failed)\"))\n",
            "Error downloading https://kaz.tengrinews.kz/oner/kazakstanda-ermitajdyin-filialyi-ashyiluyi-mumkn-256226/: HTTPSConnectionPool(host='kaz.tengrinews.kz', port=443): Max retries exceeded with url: /oner/kazakstanda-ermitajdyin-filialyi-ashyiluyi-mumkn-256226/ (Caused by NameResolutionError(\"<urllib3.connection.HTTPSConnection object at 0x000001806A1C4320>: Failed to resolve 'kaz.tengrinews.kz' ([Errno 11001] getaddrinfo failed)\"))\n",
            "Error downloading https://kaz.tengrinews.kz/oner/kazakstanda-ermitajdyin-filialyi-ashyiluyi-mumkn-256226/: HTTPSConnectionPool(host='kaz.tengrinews.kz', port=443): Max retries exceeded with url: /oner/kazakstanda-ermitajdyin-filialyi-ashyiluyi-mumkn-256226/ (Caused by NameResolutionError(\"<urllib3.connection.HTTPSConnection object at 0x000001806A1C78F0>: Failed to resolve 'kaz.tengrinews.kz' ([Errno 11001] getaddrinfo failed)\"))\n",
            "Error downloading https://kaz.tengrinews.kz/oner/kazakstanda-ermitajdyin-filialyi-ashyiluyi-mumkn-256226/: HTTPSConnectionPool(host='kaz.tengrinews.kz', port=443): Max retries exceeded with url: /oner/kazakstanda-ermitajdyin-filialyi-ashyiluyi-mumkn-256226/ (Caused by NameResolutionError(\"<urllib3.connection.HTTPSConnection object at 0x000001806AE4D610>: Failed to resolve 'kaz.tengrinews.kz' ([Errno 11001] getaddrinfo failed)\"))\n",
            "Error downloading https://kaz.tengrinews.kz/oner/kazakstanda-ermitajdyin-filialyi-ashyiluyi-mumkn-256226/: HTTPSConnectionPool(host='kaz.tengrinews.kz', port=443): Max retries exceeded with url: /oner/kazakstanda-ermitajdyin-filialyi-ashyiluyi-mumkn-256226/ (Caused by NameResolutionError(\"<urllib3.connection.HTTPSConnection object at 0x000001806AF09670>: Failed to resolve 'kaz.tengrinews.kz' ([Errno 11001] getaddrinfo failed)\"))\n",
            "Error downloading https://kaz.tengrinews.kz/oner/kazakstanda-ermitajdyin-filialyi-ashyiluyi-mumkn-256226/: HTTPSConnectionPool(host='kaz.tengrinews.kz', port=443): Max retries exceeded with url: /oner/kazakstanda-ermitajdyin-filialyi-ashyiluyi-mumkn-256226/ (Caused by NameResolutionError(\"<urllib3.connection.HTTPSConnection object at 0x000001806AF09700>: Failed to resolve 'kaz.tengrinews.kz' ([Errno 11001] getaddrinfo failed)\"))\n",
            "Error downloading https://kaz.tengrinews.kz/oner/kazakstanda-ermitajdyin-filialyi-ashyiluyi-mumkn-256226/: HTTPSConnectionPool(host='kaz.tengrinews.kz', port=443): Max retries exceeded with url: /oner/kazakstanda-ermitajdyin-filialyi-ashyiluyi-mumkn-256226/ (Caused by NameResolutionError(\"<urllib3.connection.HTTPSConnection object at 0x000001806A1C6F30>: Failed to resolve 'kaz.tengrinews.kz' ([Errno 11001] getaddrinfo failed)\"))\n",
            "Error downloading https://kaz.tengrinews.kz/oner/kazakstanda-ermitajdyin-filialyi-ashyiluyi-mumkn-256226/: HTTPSConnectionPool(host='kaz.tengrinews.kz', port=443): Max retries exceeded with url: /oner/kazakstanda-ermitajdyin-filialyi-ashyiluyi-mumkn-256226/ (Caused by NameResolutionError(\"<urllib3.connection.HTTPSConnection object at 0x000001806A1C5970>: Failed to resolve 'kaz.tengrinews.kz' ([Errno 11001] getaddrinfo failed)\"))\n",
            "Error downloading https://kaz.tengrinews.kz/oner/kazakstanda-ermitajdyin-filialyi-ashyiluyi-mumkn-256226/: HTTPSConnectionPool(host='kaz.tengrinews.kz', port=443): Max retries exceeded with url: /oner/kazakstanda-ermitajdyin-filialyi-ashyiluyi-mumkn-256226/ (Caused by NameResolutionError(\"<urllib3.connection.HTTPSConnection object at 0x000001806A1C5AF0>: Failed to resolve 'kaz.tengrinews.kz' ([Errno 11001] getaddrinfo failed)\"))\n",
            "Error downloading https://kaz.tengrinews.kz/oner/kazakstanda-ermitajdyin-filialyi-ashyiluyi-mumkn-256226/: HTTPSConnectionPool(host='kaz.tengrinews.kz', port=443): Max retries exceeded with url: /oner/kazakstanda-ermitajdyin-filialyi-ashyiluyi-mumkn-256226/ (Caused by NameResolutionError(\"<urllib3.connection.HTTPSConnection object at 0x000001806AF0BFE0>: Failed to resolve 'kaz.tengrinews.kz' ([Errno 11001] getaddrinfo failed)\"))\n",
            "Error downloading https://kaz.tengrinews.kz/oner/kazakstanda-ermitajdyin-filialyi-ashyiluyi-mumkn-256226/: HTTPSConnectionPool(host='kaz.tengrinews.kz', port=443): Max retries exceeded with url: /oner/kazakstanda-ermitajdyin-filialyi-ashyiluyi-mumkn-256226/ (Caused by NameResolutionError(\"<urllib3.connection.HTTPSConnection object at 0x000001806AF09160>: Failed to resolve 'kaz.tengrinews.kz' ([Errno 11001] getaddrinfo failed)\"))\n",
            "Error downloading https://kaz.tengrinews.kz/oner/kazakstanda-ermitajdyin-filialyi-ashyiluyi-mumkn-256226/: HTTPSConnectionPool(host='kaz.tengrinews.kz', port=443): Max retries exceeded with url: /oner/kazakstanda-ermitajdyin-filialyi-ashyiluyi-mumkn-256226/ (Caused by NameResolutionError(\"<urllib3.connection.HTTPSConnection object at 0x000001806AE4EF60>: Failed to resolve 'kaz.tengrinews.kz' ([Errno 11001] getaddrinfo failed)\"))\n",
            "Error downloading https://kaz.tengrinews.kz/oner/kazakstanda-ermitajdyin-filialyi-ashyiluyi-mumkn-256226/: HTTPSConnectionPool(host='kaz.tengrinews.kz', port=443): Max retries exceeded with url: /oner/kazakstanda-ermitajdyin-filialyi-ashyiluyi-mumkn-256226/ (Caused by NameResolutionError(\"<urllib3.connection.HTTPSConnection object at 0x000001806A1C6FC0>: Failed to resolve 'kaz.tengrinews.kz' ([Errno 11001] getaddrinfo failed)\"))\n",
            "Error downloading https://kaz.tengrinews.kz/oner/kazakstanda-ermitajdyin-filialyi-ashyiluyi-mumkn-256226/: HTTPSConnectionPool(host='kaz.tengrinews.kz', port=443): Max retries exceeded with url: /oner/kazakstanda-ermitajdyin-filialyi-ashyiluyi-mumkn-256226/ (Caused by NameResolutionError(\"<urllib3.connection.HTTPSConnection object at 0x000001806A1C6720>: Failed to resolve 'kaz.tengrinews.kz' ([Errno 11001] getaddrinfo failed)\"))\n",
            "Error downloading https://kaz.tengrinews.kz/oner/kazakstanda-ermitajdyin-filialyi-ashyiluyi-mumkn-256226/: HTTPSConnectionPool(host='kaz.tengrinews.kz', port=443): Max retries exceeded with url: /oner/kazakstanda-ermitajdyin-filialyi-ashyiluyi-mumkn-256226/ (Caused by NameResolutionError(\"<urllib3.connection.HTTPSConnection object at 0x000001806A1C6F30>: Failed to resolve 'kaz.tengrinews.kz' ([Errno 11001] getaddrinfo failed)\"))\n",
            "Error downloading https://kaz.tengrinews.kz/oner/kazakstanda-ermitajdyin-filialyi-ashyiluyi-mumkn-256226/: HTTPSConnectionPool(host='kaz.tengrinews.kz', port=443): Max retries exceeded with url: /oner/kazakstanda-ermitajdyin-filialyi-ashyiluyi-mumkn-256226/ (Caused by NameResolutionError(\"<urllib3.connection.HTTPSConnection object at 0x000001806B3DA0F0>: Failed to resolve 'kaz.tengrinews.kz' ([Errno 11001] getaddrinfo failed)\"))\n",
            "Error downloading https://kaz.tengrinews.kz/oner/kazakstanda-ermitajdyin-filialyi-ashyiluyi-mumkn-256226/: HTTPSConnectionPool(host='kaz.tengrinews.kz', port=443): Max retries exceeded with url: /oner/kazakstanda-ermitajdyin-filialyi-ashyiluyi-mumkn-256226/ (Caused by NameResolutionError(\"<urllib3.connection.HTTPSConnection object at 0x000001806A1C5C10>: Failed to resolve 'kaz.tengrinews.kz' ([Errno 11001] getaddrinfo failed)\"))\n",
            "Error downloading https://kaz.tengrinews.kz/oner/kazakstanda-ermitajdyin-filialyi-ashyiluyi-mumkn-256226/: HTTPSConnectionPool(host='kaz.tengrinews.kz', port=443): Max retries exceeded with url: /oner/kazakstanda-ermitajdyin-filialyi-ashyiluyi-mumkn-256226/ (Caused by NameResolutionError(\"<urllib3.connection.HTTPSConnection object at 0x000001806A1C7C20>: Failed to resolve 'kaz.tengrinews.kz' ([Errno 11001] getaddrinfo failed)\"))\n",
            "Error downloading https://kaz.tengrinews.kz/oner/kazakstanda-ermitajdyin-filialyi-ashyiluyi-mumkn-256226/: HTTPSConnectionPool(host='kaz.tengrinews.kz', port=443): Max retries exceeded with url: /oner/kazakstanda-ermitajdyin-filialyi-ashyiluyi-mumkn-256226/ (Caused by NameResolutionError(\"<urllib3.connection.HTTPSConnection object at 0x000001806A1C7E60>: Failed to resolve 'kaz.tengrinews.kz' ([Errno 11001] getaddrinfo failed)\"))\n",
            "Эрмитаж ✅\n",
            "iPod\n",
            "Error no page https://kaz.tengrinews.kz/tag/iPod: HTTPSConnectionPool(host='kaz.tengrinews.kz', port=443): Max retries exceeded with url: /tag/iPod (Caused by NameResolutionError(\"<urllib3.connection.HTTPSConnection object at 0x000001806AF0A780>: Failed to resolve 'kaz.tengrinews.kz' ([Errno 11001] getaddrinfo failed)\"))\n",
            "iPod ✅\n",
            "Тянь-Шань\n",
            "Error no page https://kaz.tengrinews.kz/tag/Тянь-Шань: HTTPSConnectionPool(host='kaz.tengrinews.kz', port=443): Max retries exceeded with url: /tag/%D0%A2%D1%8F%D0%BD%D1%8C-%D0%A8%D0%B0%D0%BD%D1%8C (Caused by NameResolutionError(\"<urllib3.connection.HTTPSConnection object at 0x000001806AF081A0>: Failed to resolve 'kaz.tengrinews.kz' ([Errno 11001] getaddrinfo failed)\"))\n",
            "Тянь-Шань ✅\n",
            "Рим-Папасы\n",
            "Error no page https://kaz.tengrinews.kz/tag/Рим-Папасы: HTTPSConnectionPool(host='kaz.tengrinews.kz', port=443): Max retries exceeded with url: /tag/%D0%A0%D0%B8%D0%BC-%D0%9F%D0%B0%D0%BF%D0%B0%D1%81%D1%8B (Caused by NameResolutionError(\"<urllib3.connection.HTTPSConnection object at 0x000001806AF08080>: Failed to resolve 'kaz.tengrinews.kz' ([Errno 11001] getaddrinfo failed)\"))\n",
            "Рим-Папасы ✅\n",
            "Телеарна\n",
            "Error no page https://kaz.tengrinews.kz/tag/Телеарна: HTTPSConnectionPool(host='kaz.tengrinews.kz', port=443): Max retries exceeded with url: /tag/%D0%A2%D0%B5%D0%BB%D0%B5%D0%B0%D1%80%D0%BD%D0%B0 (Caused by NameResolutionError(\"<urllib3.connection.HTTPSConnection object at 0x000001806A1C7DA0>: Failed to resolve 'kaz.tengrinews.kz' ([Errno 11001] getaddrinfo failed)\"))\n",
            "Телеарна ✅\n",
            "Мектеп\n",
            "Error no page https://kaz.tengrinews.kz/tag/Мектеп: HTTPSConnectionPool(host='kaz.tengrinews.kz', port=443): Max retries exceeded with url: /tag/%D0%9C%D0%B5%D0%BA%D1%82%D0%B5%D0%BF (Caused by NameResolutionError(\"<urllib3.connection.HTTPSConnection object at 0x000001806A1C70E0>: Failed to resolve 'kaz.tengrinews.kz' ([Errno 11001] getaddrinfo failed)\"))\n",
            "Мектеп ✅\n",
            "әкім\n",
            "Error no page https://kaz.tengrinews.kz/tag/әкім: HTTPSConnectionPool(host='kaz.tengrinews.kz', port=443): Max retries exceeded with url: /tag/%D3%99%D0%BA%D1%96%D0%BC (Caused by NameResolutionError(\"<urllib3.connection.HTTPSConnection object at 0x000001806A1C6570>: Failed to resolve 'kaz.tengrinews.kz' ([Errno 11001] getaddrinfo failed)\"))\n",
            "әкім ✅\n",
            "Солтүстік-Осетия\n",
            "Error no page https://kaz.tengrinews.kz/tag/Солтүстік-Осетия: HTTPSConnectionPool(host='kaz.tengrinews.kz', port=443): Max retries exceeded with url: /tag/%D0%A1%D0%BE%D0%BB%D1%82%D2%AF%D1%81%D1%82%D1%96%D0%BA-%D0%9E%D1%81%D0%B5%D1%82%D0%B8%D1%8F (Caused by NameResolutionError(\"<urllib3.connection.HTTPSConnection object at 0x000001806B3DBF50>: Failed to resolve 'kaz.tengrinews.kz' ([Errno 11001] getaddrinfo failed)\"))\n",
            "Солтүстік-Осетия ✅\n",
            "Билли-Джо-Сондерс\n",
            "Error no page https://kaz.tengrinews.kz/tag/Билли-Джо-Сондерс: HTTPSConnectionPool(host='kaz.tengrinews.kz', port=443): Max retries exceeded with url: /tag/%D0%91%D0%B8%D0%BB%D0%BB%D0%B8-%D0%94%D0%B6%D0%BE-%D0%A1%D0%BE%D0%BD%D0%B4%D0%B5%D1%80%D1%81 (Caused by NameResolutionError(\"<urllib3.connection.HTTPSConnection object at 0x000001806AF0B050>: Failed to resolve 'kaz.tengrinews.kz' ([Errno 11001] getaddrinfo failed)\"))\n",
            "Билли-Джо-Сондерс ✅\n",
            "ТҮҚЖБ\n",
            "Error no page https://kaz.tengrinews.kz/tag/ТҮҚЖБ: HTTPSConnectionPool(host='kaz.tengrinews.kz', port=443): Max retries exceeded with url: /tag/%D0%A2%D2%AE%D2%9A%D0%96%D0%91 (Caused by NameResolutionError(\"<urllib3.connection.HTTPSConnection object at 0x000001806AF09E50>: Failed to resolve 'kaz.tengrinews.kz' ([Errno 11001] getaddrinfo failed)\"))\n",
            "ТҮҚЖБ ✅\n",
            "Балық-шаруашылығы\n",
            "Error no page https://kaz.tengrinews.kz/tag/Балық-шаруашылығы: HTTPSConnectionPool(host='kaz.tengrinews.kz', port=443): Max retries exceeded with url: /tag/%D0%91%D0%B0%D0%BB%D1%8B%D2%9B-%D1%88%D0%B0%D1%80%D1%83%D0%B0%D1%88%D1%8B%D0%BB%D1%8B%D2%93%D1%8B (Caused by NameResolutionError(\"<urllib3.connection.HTTPSConnection object at 0x000001806B3D9970>: Failed to resolve 'kaz.tengrinews.kz' ([Errno 11001] getaddrinfo failed)\"))\n",
            "Балық-шаруашылығы ✅\n",
            "Золото\n",
            "Error no page https://kaz.tengrinews.kz/tag/Золото: HTTPSConnectionPool(host='kaz.tengrinews.kz', port=443): Max retries exceeded with url: /tag/%D0%97%D0%BE%D0%BB%D0%BE%D1%82%D0%BE (Caused by NameResolutionError(\"<urllib3.connection.HTTPSConnection object at 0x000001806A1C4650>: Failed to resolve 'kaz.tengrinews.kz' ([Errno 11001] getaddrinfo failed)\"))\n",
            "Золото ✅\n",
            "Ұлыбритания\n",
            "Error no page https://kaz.tengrinews.kz/tag/Ұлыбритания: HTTPSConnectionPool(host='kaz.tengrinews.kz', port=443): Max retries exceeded with url: /tag/%D2%B0%D0%BB%D1%8B%D0%B1%D1%80%D0%B8%D1%82%D0%B0%D0%BD%D0%B8%D1%8F (Caused by NameResolutionError(\"<urllib3.connection.HTTPSConnection object at 0x000001806A1C7770>: Failed to resolve 'kaz.tengrinews.kz' ([Errno 11001] getaddrinfo failed)\"))\n",
            "Ұлыбритания ✅\n",
            "Босния-и-Герцеговина\n",
            "Error no page https://kaz.tengrinews.kz/tag/Босния-и-Герцеговина: HTTPSConnectionPool(host='kaz.tengrinews.kz', port=443): Max retries exceeded with url: /tag/%D0%91%D0%BE%D1%81%D0%BD%D0%B8%D1%8F-%D0%B8-%D0%93%D0%B5%D1%80%D1%86%D0%B5%D0%B3%D0%BE%D0%B2%D0%B8%D0%BD%D0%B0 (Caused by NameResolutionError(\"<urllib3.connection.HTTPSConnection object at 0x000001806A1C74D0>: Failed to resolve 'kaz.tengrinews.kz' ([Errno 11001] getaddrinfo failed)\"))\n",
            "Босния-и-Герцеговина ✅\n",
            "Көлік-саласы\n",
            "Error no page https://kaz.tengrinews.kz/tag/Көлік-саласы: HTTPSConnectionPool(host='kaz.tengrinews.kz', port=443): Max retries exceeded with url: /tag/%D0%9A%D3%A9%D0%BB%D1%96%D0%BA-%D1%81%D0%B0%D0%BB%D0%B0%D1%81%D1%8B (Caused by NameResolutionError(\"<urllib3.connection.HTTPSConnection object at 0x000001806A1C7470>: Failed to resolve 'kaz.tengrinews.kz' ([Errno 11001] getaddrinfo failed)\"))\n",
            "Көлік-саласы ✅\n",
            "Ауа-райы\n",
            "Error no page https://kaz.tengrinews.kz/tag/Ауа-райы: HTTPSConnectionPool(host='kaz.tengrinews.kz', port=443): Max retries exceeded with url: /tag/%D0%90%D1%83%D0%B0-%D1%80%D0%B0%D0%B9%D1%8B (Caused by NameResolutionError(\"<urllib3.connection.HTTPSConnection object at 0x000001806A1C7500>: Failed to resolve 'kaz.tengrinews.kz' ([Errno 11001] getaddrinfo failed)\"))\n",
            "Ауа-райы ✅\n",
            "Бали\n",
            "Error no page https://kaz.tengrinews.kz/tag/Бали: HTTPSConnectionPool(host='kaz.tengrinews.kz', port=443): Max retries exceeded with url: /tag/%D0%91%D0%B0%D0%BB%D0%B8 (Caused by NameResolutionError(\"<urllib3.connection.HTTPSConnection object at 0x000001806A517830>: Failed to resolve 'kaz.tengrinews.kz' ([Errno 11001] getaddrinfo failed)\"))\n",
            "Бали ✅\n",
            "Электронды-үкімет\n",
            "Error no page https://kaz.tengrinews.kz/tag/Электронды-үкімет: HTTPSConnectionPool(host='kaz.tengrinews.kz', port=443): Max retries exceeded with url: /tag/%D0%AD%D0%BB%D0%B5%D0%BA%D1%82%D1%80%D0%BE%D0%BD%D0%B4%D1%8B-%D2%AF%D0%BA%D1%96%D0%BC%D0%B5%D1%82 (Caused by NameResolutionError(\"<urllib3.connection.HTTPSConnection object at 0x000001806A1C6B40>: Failed to resolve 'kaz.tengrinews.kz' ([Errno 11001] getaddrinfo failed)\"))\n",
            "Электронды-үкімет ✅\n",
            "Инновациялар\n",
            "Error no page https://kaz.tengrinews.kz/tag/Инновациялар: HTTPSConnectionPool(host='kaz.tengrinews.kz', port=443): Max retries exceeded with url: /tag/%D0%98%D0%BD%D0%BD%D0%BE%D0%B2%D0%B0%D1%86%D0%B8%D1%8F%D0%BB%D0%B0%D1%80 (Caused by NameResolutionError(\"<urllib3.connection.HTTPSConnection object at 0x000001806A1C5E20>: Failed to resolve 'kaz.tengrinews.kz' ([Errno 11001] getaddrinfo failed)\"))\n",
            "Инновациялар ✅\n",
            "Тергеу\n",
            "Error no page https://kaz.tengrinews.kz/tag/Тергеу: HTTPSConnectionPool(host='kaz.tengrinews.kz', port=443): Max retries exceeded with url: /tag/%D0%A2%D0%B5%D1%80%D0%B3%D0%B5%D1%83 (Caused by NameResolutionError(\"<urllib3.connection.HTTPSConnection object at 0x000001806A1C7020>: Failed to resolve 'kaz.tengrinews.kz' ([Errno 11001] getaddrinfo failed)\"))\n",
            "Тергеу ✅\n",
            "Шешенстан\n",
            "Error no page https://kaz.tengrinews.kz/tag/Шешенстан: HTTPSConnectionPool(host='kaz.tengrinews.kz', port=443): Max retries exceeded with url: /tag/%D0%A8%D0%B5%D1%88%D0%B5%D0%BD%D1%81%D1%82%D0%B0%D0%BD (Caused by NameResolutionError(\"<urllib3.connection.HTTPSConnection object at 0x000001806A1C5100>: Failed to resolve 'kaz.tengrinews.kz' ([Errno 11001] getaddrinfo failed)\"))\n",
            "Шешенстан ✅\n",
            "Батыс-Қазақстан-облысы\n",
            "Error no page https://kaz.tengrinews.kz/tag/Батыс-Қазақстан-облысы: HTTPSConnectionPool(host='kaz.tengrinews.kz', port=443): Max retries exceeded with url: /tag/%D0%91%D0%B0%D1%82%D1%8B%D1%81-%D2%9A%D0%B0%D0%B7%D0%B0%D2%9B%D1%81%D1%82%D0%B0%D0%BD-%D0%BE%D0%B1%D0%BB%D1%8B%D1%81%D1%8B (Caused by NameResolutionError(\"<urllib3.connection.HTTPSConnection object at 0x000001806AF09370>: Failed to resolve 'kaz.tengrinews.kz' ([Errno 11001] getaddrinfo failed)\"))\n",
            "Батыс-Қазақстан-облысы ✅\n",
            "Самұрық-Қазына\n",
            "Error no page https://kaz.tengrinews.kz/tag/Самұрық-Қазына: HTTPSConnectionPool(host='kaz.tengrinews.kz', port=443): Max retries exceeded with url: /tag/%D0%A1%D0%B0%D0%BC%D2%B1%D1%80%D1%8B%D2%9B-%D2%9A%D0%B0%D0%B7%D1%8B%D0%BD%D0%B0 (Caused by NameResolutionError(\"<urllib3.connection.HTTPSConnection object at 0x000001806A1C6930>: Failed to resolve 'kaz.tengrinews.kz' ([Errno 11001] getaddrinfo failed)\"))\n",
            "Самұрық-Қазына ✅\n",
            "Ұлттық-Банк\n",
            "Error no page https://kaz.tengrinews.kz/tag/Ұлттық-Банк: HTTPSConnectionPool(host='kaz.tengrinews.kz', port=443): Max retries exceeded with url: /tag/%D2%B0%D0%BB%D1%82%D1%82%D1%8B%D2%9B-%D0%91%D0%B0%D0%BD%D0%BA (Caused by NameResolutionError(\"<urllib3.connection.HTTPSConnection object at 0x000001806A1C49E0>: Failed to resolve 'kaz.tengrinews.kz' ([Errno 11001] getaddrinfo failed)\"))\n",
            "Ұлттық-Банк ✅\n",
            "Париж\n",
            "Error no page https://kaz.tengrinews.kz/tag/Париж: HTTPSConnectionPool(host='kaz.tengrinews.kz', port=443): Max retries exceeded with url: /tag/%D0%9F%D0%B0%D1%80%D0%B8%D0%B6 (Caused by NameResolutionError(\"<urllib3.connection.HTTPSConnection object at 0x000001806A1C6210>: Failed to resolve 'kaz.tengrinews.kz' ([Errno 11001] getaddrinfo failed)\"))\n",
            "Париж ✅\n",
            "Мемлекеттік-сатып-алулар\n",
            "Error no page https://kaz.tengrinews.kz/tag/Мемлекеттік-сатып-алулар: HTTPSConnectionPool(host='kaz.tengrinews.kz', port=443): Max retries exceeded with url: /tag/%D0%9C%D0%B5%D0%BC%D0%BB%D0%B5%D0%BA%D0%B5%D1%82%D1%82%D1%96%D0%BA-%D1%81%D0%B0%D1%82%D1%8B%D0%BF-%D0%B0%D0%BB%D1%83%D0%BB%D0%B0%D1%80 (Caused by NameResolutionError(\"<urllib3.connection.HTTPSConnection object at 0x000001806848CD40>: Failed to resolve 'kaz.tengrinews.kz' ([Errno 11001] getaddrinfo failed)\"))\n",
            "Мемлекеттік-сатып-алулар ✅\n",
            "Классикалық-музыка\n",
            "Error no page https://kaz.tengrinews.kz/tag/Классикалық-музыка: HTTPSConnectionPool(host='kaz.tengrinews.kz', port=443): Max retries exceeded with url: /tag/%D0%9A%D0%BB%D0%B0%D1%81%D1%81%D0%B8%D0%BA%D0%B0%D0%BB%D1%8B%D2%9B-%D0%BC%D1%83%D0%B7%D1%8B%D0%BA%D0%B0 (Caused by NameResolutionError(\"<urllib3.connection.HTTPSConnection object at 0x000001806AF0B2C0>: Failed to resolve 'kaz.tengrinews.kz' ([Errno 11001] getaddrinfo failed)\"))\n",
            "Классикалық-музыка ✅\n",
            "Долг\n",
            "Error no page https://kaz.tengrinews.kz/tag/Долг: HTTPSConnectionPool(host='kaz.tengrinews.kz', port=443): Max retries exceeded with url: /tag/%D0%94%D0%BE%D0%BB%D0%B3 (Caused by NameResolutionError(\"<urllib3.connection.HTTPSConnection object at 0x000001806AF0A660>: Failed to resolve 'kaz.tengrinews.kz' ([Errno 11001] getaddrinfo failed)\"))\n",
            "Долг ✅\n",
            "Музыка-фестивалі\n",
            "Error no page https://kaz.tengrinews.kz/tag/Музыка-фестивалі: HTTPSConnectionPool(host='kaz.tengrinews.kz', port=443): Max retries exceeded with url: /tag/%D0%9C%D1%83%D0%B7%D1%8B%D0%BA%D0%B0-%D1%84%D0%B5%D1%81%D1%82%D0%B8%D0%B2%D0%B0%D0%BB%D1%96 (Caused by NameResolutionError(\"<urllib3.connection.HTTPSConnection object at 0x000001806A1C6FF0>: Failed to resolve 'kaz.tengrinews.kz' ([Errno 11001] getaddrinfo failed)\"))\n",
            "Музыка-фестивалі ✅\n",
            "Интернет\n",
            "Error no page https://kaz.tengrinews.kz/tag/Интернет: HTTPSConnectionPool(host='kaz.tengrinews.kz', port=443): Max retries exceeded with url: /tag/%D0%98%D0%BD%D1%82%D0%B5%D1%80%D0%BD%D0%B5%D1%82 (Caused by NameResolutionError(\"<urllib3.connection.HTTPSConnection object at 0x000001806A1C74D0>: Failed to resolve 'kaz.tengrinews.kz' ([Errno 11001] getaddrinfo failed)\"))\n",
            "Интернет ✅\n",
            "Алтын\n",
            "Error no page https://kaz.tengrinews.kz/tag/Алтын: HTTPSConnectionPool(host='kaz.tengrinews.kz', port=443): Max retries exceeded with url: /tag/%D0%90%D0%BB%D1%82%D1%8B%D0%BD (Caused by NameResolutionError(\"<urllib3.connection.HTTPSConnection object at 0x000001806A1C6690>: Failed to resolve 'kaz.tengrinews.kz' ([Errno 11001] getaddrinfo failed)\"))\n",
            "Алтын ✅\n",
            "Дискриминация\n",
            "Error no page https://kaz.tengrinews.kz/tag/Дискриминация: HTTPSConnectionPool(host='kaz.tengrinews.kz', port=443): Max retries exceeded with url: /tag/%D0%94%D0%B8%D1%81%D0%BA%D1%80%D0%B8%D0%BC%D0%B8%D0%BD%D0%B0%D1%86%D0%B8%D1%8F (Caused by NameResolutionError(\"<urllib3.connection.HTTPSConnection object at 0x000001806B3DB590>: Failed to resolve 'kaz.tengrinews.kz' ([Errno 11001] getaddrinfo failed)\"))\n",
            "Дискриминация ✅\n",
            "Муайтай\n",
            "Error no page https://kaz.tengrinews.kz/tag/Муайтай: HTTPSConnectionPool(host='kaz.tengrinews.kz', port=443): Max retries exceeded with url: /tag/%D0%9C%D1%83%D0%B0%D0%B9%D1%82%D0%B0%D0%B9 (Caused by NameResolutionError(\"<urllib3.connection.HTTPSConnection object at 0x000001806AF0AFF0>: Failed to resolve 'kaz.tengrinews.kz' ([Errno 11001] getaddrinfo failed)\"))\n",
            "Муайтай ✅\n",
            "Қарттар-үйі\n",
            "Error no page https://kaz.tengrinews.kz/tag/Қарттар-үйі: HTTPSConnectionPool(host='kaz.tengrinews.kz', port=443): Max retries exceeded with url: /tag/%D2%9A%D0%B0%D1%80%D1%82%D1%82%D0%B0%D1%80-%D2%AF%D0%B9%D1%96 (Caused by NameResolutionError(\"<urllib3.connection.HTTPSConnection object at 0x000001806AE342C0>: Failed to resolve 'kaz.tengrinews.kz' ([Errno 11001] getaddrinfo failed)\"))\n",
            "Қарттар-үйі ✅\n",
            "Еуро-2020\n",
            "Error no page https://kaz.tengrinews.kz/tag/Еуро-2020: HTTPSConnectionPool(host='kaz.tengrinews.kz', port=443): Max retries exceeded with url: /tag/%D0%95%D1%83%D1%80%D0%BE-2020 (Caused by NameResolutionError(\"<urllib3.connection.HTTPSConnection object at 0x000001806B3DA660>: Failed to resolve 'kaz.tengrinews.kz' ([Errno 11001] getaddrinfo failed)\"))\n",
            "Еуро-2020 ✅\n",
            "Терроризм\n",
            "Error no page https://kaz.tengrinews.kz/tag/Терроризм: HTTPSConnectionPool(host='kaz.tengrinews.kz', port=443): Max retries exceeded with url: /tag/%D0%A2%D0%B5%D1%80%D1%80%D0%BE%D1%80%D0%B8%D0%B7%D0%BC (Caused by NameResolutionError(\"<urllib3.connection.HTTPSConnection object at 0x000001806A1C49E0>: Failed to resolve 'kaz.tengrinews.kz' ([Errno 11001] getaddrinfo failed)\"))\n",
            "Терроризм ✅\n",
            "Кака\n",
            "Error no page https://kaz.tengrinews.kz/tag/Кака: HTTPSConnectionPool(host='kaz.tengrinews.kz', port=443): Max retries exceeded with url: /tag/%D0%9A%D0%B0%D0%BA%D0%B0 (Caused by NameResolutionError(\"<urllib3.connection.HTTPSConnection object at 0x000001806A1C77A0>: Failed to resolve 'kaz.tengrinews.kz' ([Errno 11001] getaddrinfo failed)\"))\n",
            "Кака ✅\n",
            "Тобол-ФК-(Костанай)\n",
            "Error no page https://kaz.tengrinews.kz/tag/Тобол-ФК-(Костанай): HTTPSConnectionPool(host='kaz.tengrinews.kz', port=443): Max retries exceeded with url: /tag/%D0%A2%D0%BE%D0%B1%D0%BE%D0%BB-%D0%A4%D0%9A-(%D0%9A%D0%BE%D1%81%D1%82%D0%B0%D0%BD%D0%B0%D0%B9) (Caused by NameResolutionError(\"<urllib3.connection.HTTPSConnection object at 0x000001806A1C78F0>: Failed to resolve 'kaz.tengrinews.kz' ([Errno 11001] getaddrinfo failed)\"))\n",
            "Тобол-ФК-(Костанай) ✅\n",
            "Білім-беру\n",
            "Error no page https://kaz.tengrinews.kz/tag/Білім-беру: HTTPSConnectionPool(host='kaz.tengrinews.kz', port=443): Max retries exceeded with url: /tag/%D0%91%D1%96%D0%BB%D1%96%D0%BC-%D0%B1%D0%B5%D1%80%D1%83 (Caused by NameResolutionError(\"<urllib3.connection.HTTPSConnection object at 0x000001806AE37FE0>: Failed to resolve 'kaz.tengrinews.kz' ([Errno 11001] getaddrinfo failed)\"))\n",
            "Білім-беру ✅\n",
            "Футболдан-Қазақстан-құрамасы\n",
            "Error no page https://kaz.tengrinews.kz/tag/Футболдан-Қазақстан-құрамасы: HTTPSConnectionPool(host='kaz.tengrinews.kz', port=443): Max retries exceeded with url: /tag/%D0%A4%D1%83%D1%82%D0%B1%D0%BE%D0%BB%D0%B4%D0%B0%D0%BD-%D2%9A%D0%B0%D0%B7%D0%B0%D2%9B%D1%81%D1%82%D0%B0%D0%BD-%D2%9B%D2%B1%D1%80%D0%B0%D0%BC%D0%B0%D1%81%D1%8B (Caused by NameResolutionError(\"<urllib3.connection.HTTPSConnection object at 0x000001806AE36F00>: Failed to resolve 'kaz.tengrinews.kz' ([Errno 11001] getaddrinfo failed)\"))\n",
            "Футболдан-Қазақстан-құрамасы ✅\n",
            "Саясат\n",
            "Error no page https://kaz.tengrinews.kz/tag/Саясат: HTTPSConnectionPool(host='kaz.tengrinews.kz', port=443): Max retries exceeded with url: /tag/%D0%A1%D0%B0%D1%8F%D1%81%D0%B0%D1%82 (Caused by NameResolutionError(\"<urllib3.connection.HTTPSConnection object at 0x000001806A1C7260>: Failed to resolve 'kaz.tengrinews.kz' ([Errno 11001] getaddrinfo failed)\"))\n",
            "Саясат ✅\n",
            "Porsche\n",
            "Error no page https://kaz.tengrinews.kz/tag/Porsche: HTTPSConnectionPool(host='kaz.tengrinews.kz', port=443): Max retries exceeded with url: /tag/Porsche (Caused by NameResolutionError(\"<urllib3.connection.HTTPSConnection object at 0x000001806A1C6CF0>: Failed to resolve 'kaz.tengrinews.kz' ([Errno 11001] getaddrinfo failed)\"))\n",
            "Porsche ✅\n",
            "Қазселденқорғау\n",
            "Error no page https://kaz.tengrinews.kz/tag/Қазселденқорғау: HTTPSConnectionPool(host='kaz.tengrinews.kz', port=443): Max retries exceeded with url: /tag/%D2%9A%D0%B0%D0%B7%D1%81%D0%B5%D0%BB%D0%B4%D0%B5%D0%BD%D2%9B%D0%BE%D1%80%D2%93%D0%B0%D1%83 (Caused by NameResolutionError(\"<urllib3.connection.HTTPSConnection object at 0x000001806B39F200>: Failed to resolve 'kaz.tengrinews.kz' ([Errno 11001] getaddrinfo failed)\"))\n",
            "Қазселденқорғау ✅\n",
            "Құс-тұмауы\n",
            "Error no page https://kaz.tengrinews.kz/tag/Құс-тұмауы: HTTPSConnectionPool(host='kaz.tengrinews.kz', port=443): Max retries exceeded with url: /tag/%D2%9A%D2%B1%D1%81-%D1%82%D2%B1%D0%BC%D0%B0%D1%83%D1%8B (Caused by NameResolutionError(\"<urllib3.connection.HTTPSConnection object at 0x000001806AF09100>: Failed to resolve 'kaz.tengrinews.kz' ([Errno 11001] getaddrinfo failed)\"))\n",
            "Құс-тұмауы ✅\n",
            "спорт\n",
            "Error no page https://kaz.tengrinews.kz/tag/спорт: HTTPSConnectionPool(host='kaz.tengrinews.kz', port=443): Max retries exceeded with url: /tag/%D1%81%D0%BF%D0%BE%D1%80%D1%82 (Caused by NameResolutionError(\"<urllib3.connection.HTTPSConnection object at 0x000001806AE35D60>: Failed to resolve 'kaz.tengrinews.kz' ([Errno 11001] getaddrinfo failed)\"))\n",
            "спорт ✅\n"
          ]
        }
      ],
      "source": [
        "new_tags_articles = pd.DataFrame()\n",
        "\n",
        "for tag in sample_new_tags:\n",
        "\n",
        "  print(tag)\n",
        "\n",
        "  article_of_each_tag = {\n",
        "    'text': [],\n",
        "    'tags': [],\n",
        "    'tags_list': [],\n",
        "    'url': []\n",
        "  }\n",
        "\n",
        "  all_links = get_articles_list(tag)\n",
        "  time.sleep(1)\n",
        "\n",
        "  for link in all_links:\n",
        "    text, tags = get_text_tags(link)\n",
        "    time.sleep(1)\n",
        "    tags_str = f\"[{', '.join(tags)}]\"\n",
        "    article_of_each_tag['text'].append(text)\n",
        "    article_of_each_tag['tags'].append(tags_str)\n",
        "    article_of_each_tag['tags_list'].append(tags)\n",
        "    article_of_each_tag['url'].append(link)\n",
        "\n",
        "  tag_df = pd.DataFrame(article_of_each_tag)\n",
        "  tag_adj = tag.replace('\"', '').replace('-', '_')\n",
        "  tag_df.to_csv(os.path.join('new_tags_dfs', f\"\"\"{tag_adj}.csv\"\"\"), index = False)\n",
        "  new_tags_articles = pd.concat([new_tags_articles, tag_df], ignore_index=True)\n",
        "\n",
        "  print(f'{tag} ✅')\n"
      ]
    },
    {
      "cell_type": "code",
      "execution_count": 44,
      "metadata": {},
      "outputs": [],
      "source": [
        "copy_sample_new_tag = sample_new_tags.copy()"
      ]
    },
    {
      "cell_type": "code",
      "execution_count": 46,
      "metadata": {},
      "outputs": [
        {
          "data": {
            "text/plain": [
              "['спорт']"
            ]
          },
          "execution_count": 46,
          "metadata": {},
          "output_type": "execute_result"
        }
      ],
      "source": [
        "copy_sample_new_tag[-1:]"
      ]
    },
    {
      "cell_type": "code",
      "execution_count": 52,
      "metadata": {},
      "outputs": [
        {
          "data": {
            "text/plain": [
              "'Эрмитаж'"
            ]
          },
          "execution_count": 52,
          "metadata": {},
          "output_type": "execute_result"
        }
      ],
      "source": [
        "copy_sample_new_tag[20]"
      ]
    },
    {
      "cell_type": "code",
      "execution_count": 53,
      "metadata": {},
      "outputs": [],
      "source": [
        "sample_tags_ermitage = copy_sample_new_tag[20:]"
      ]
    },
    {
      "cell_type": "code",
      "execution_count": 55,
      "metadata": {},
      "outputs": [
        {
          "data": {
            "text/plain": [
              "45"
            ]
          },
          "execution_count": 55,
          "metadata": {},
          "output_type": "execute_result"
        }
      ],
      "source": [
        "len(sample_tags_ermitage)"
      ]
    },
    {
      "cell_type": "code",
      "execution_count": 59,
      "metadata": {},
      "outputs": [
        {
          "data": {
            "text/plain": [
              "['Интернет',\n",
              " 'Алтын',\n",
              " 'Дискриминация',\n",
              " 'Муайтай',\n",
              " 'Қарттар-үйі',\n",
              " 'Еуро-2020',\n",
              " 'Терроризм',\n",
              " 'Кака',\n",
              " 'Тобол-ФК-(Костанай)',\n",
              " 'Білім-беру',\n",
              " 'Футболдан-Қазақстан-құрамасы',\n",
              " 'Саясат',\n",
              " 'Porsche',\n",
              " 'Қазселденқорғау',\n",
              " 'Құс-тұмауы',\n",
              " 'спорт']"
            ]
          },
          "execution_count": 59,
          "metadata": {},
          "output_type": "execute_result"
        }
      ],
      "source": [
        "sample_tags_ermitage[29:]"
      ]
    },
    {
      "cell_type": "code",
      "execution_count": null,
      "metadata": {},
      "outputs": [],
      "source": [
        "new_tags_articles_ermitage = pd.DataFrame()\n",
        "\n",
        "for tag in sample_tags_ermitage:\n",
        "\n",
        "  print(tag)\n",
        "\n",
        "  article_of_each_tag = {\n",
        "    'text': [],\n",
        "    'tags': [],\n",
        "    'tags_list': [],\n",
        "    'url': []\n",
        "  }\n",
        "\n",
        "  all_links = get_articles_list(tag)\n",
        "  time.sleep(1)\n",
        "\n",
        "  for link in all_links:\n",
        "    text, tags = get_text_tags(link)\n",
        "    time.sleep(1)\n",
        "    tags_str = f\"[{', '.join(tags)}]\"\n",
        "    article_of_each_tag['text'].append(text)\n",
        "    article_of_each_tag['tags'].append(tags_str)\n",
        "    article_of_each_tag['tags_list'].append(tags)\n",
        "    article_of_each_tag['url'].append(link)\n",
        "\n",
        "  tag_df = pd.DataFrame(article_of_each_tag)\n",
        "  tag_adj = tag.replace('\"', '').replace('-', '_')\n",
        "  tag_df.to_csv(os.path.join('new_tags_dfs', f\"\"\"{tag_adj}.csv\"\"\"), index = False)\n",
        "  new_tags_articles_ermitage = pd.concat([new_tags_articles_ermitage, tag_df], ignore_index=True)\n",
        "\n",
        "  print(f'{tag} ✅')\n"
      ]
    },
    {
      "cell_type": "code",
      "execution_count": 41,
      "metadata": {
        "id": "eje9XLarST87"
      },
      "outputs": [],
      "source": [
        "new_tags = new_tags_articles.copy()"
      ]
    },
    {
      "cell_type": "code",
      "execution_count": 42,
      "metadata": {
        "id": "85qq44gNjt8o"
      },
      "outputs": [],
      "source": [
        "new_tags.to_csv(os.path.join('dataset', 'new_tags_articles.csv'), index = False)"
      ]
    },
    {
      "cell_type": "markdown",
      "metadata": {},
      "source": [
        "## hello\n"
      ]
    },
    {
      "cell_type": "code",
      "execution_count": 46,
      "metadata": {
        "id": "FwTWrt3zwMY9"
      },
      "outputs": [],
      "source": [
        "new_tags_df = pd.read_csv('dataset\\\\new_tags_articles.csv')"
      ]
    },
    {
      "cell_type": "code",
      "execution_count": 47,
      "metadata": {},
      "outputs": [
        {
          "data": {
            "text/plain": [
              "(6315, 4)"
            ]
          },
          "execution_count": 47,
          "metadata": {},
          "output_type": "execute_result"
        }
      ],
      "source": [
        "new_tags_df.shape"
      ]
    },
    {
      "cell_type": "code",
      "execution_count": 48,
      "metadata": {},
      "outputs": [
        {
          "data": {
            "text/plain": [
              "'apple.csv'"
            ]
          },
          "execution_count": 48,
          "metadata": {},
          "output_type": "execute_result"
        }
      ],
      "source": [
        "os.listdir('new_tags_dfs\\\\')[0]"
      ]
    },
    {
      "cell_type": "code",
      "execution_count": 49,
      "metadata": {},
      "outputs": [],
      "source": [
        "for df in os.listdir('new_tags_dfs\\\\'):\n",
        "    df = pd.read_csv(f'''new_tags_dfs\\\\{df}''')\n",
        "    new_tags_df = pd.concat([new_tags_df, df], ignore_index=True)"
      ]
    },
    {
      "cell_type": "code",
      "execution_count": 50,
      "metadata": {},
      "outputs": [
        {
          "data": {
            "text/plain": [
              "(25892, 4)"
            ]
          },
          "execution_count": 50,
          "metadata": {},
          "output_type": "execute_result"
        }
      ],
      "source": [
        "new_tags_df.shape"
      ]
    },
    {
      "cell_type": "code",
      "execution_count": 51,
      "metadata": {},
      "outputs": [
        {
          "data": {
            "text/plain": [
              "text         478\n",
              "tags           0\n",
              "tags_list      0\n",
              "url            0\n",
              "dtype: int64"
            ]
          },
          "execution_count": 51,
          "metadata": {},
          "output_type": "execute_result"
        }
      ],
      "source": [
        "new_tags_df.isna().sum()"
      ]
    },
    {
      "cell_type": "code",
      "execution_count": 52,
      "metadata": {},
      "outputs": [],
      "source": [
        "new_tags_df.dropna(axis=0, inplace=True)"
      ]
    },
    {
      "cell_type": "code",
      "execution_count": 53,
      "metadata": {},
      "outputs": [
        {
          "data": {
            "text/plain": [
              "text         0\n",
              "tags         0\n",
              "tags_list    0\n",
              "url          0\n",
              "dtype: int64"
            ]
          },
          "execution_count": 53,
          "metadata": {},
          "output_type": "execute_result"
        }
      ],
      "source": [
        "new_tags_df.isna().sum()"
      ]
    },
    {
      "cell_type": "code",
      "execution_count": 54,
      "metadata": {},
      "outputs": [
        {
          "data": {
            "text/plain": [
              "(25414, 4)"
            ]
          },
          "execution_count": 54,
          "metadata": {},
          "output_type": "execute_result"
        }
      ],
      "source": [
        "new_tags_df.shape"
      ]
    },
    {
      "cell_type": "code",
      "execution_count": 55,
      "metadata": {},
      "outputs": [],
      "source": [
        "new_tags_df.drop_duplicates(subset='text', inplace=True)"
      ]
    },
    {
      "cell_type": "code",
      "execution_count": 56,
      "metadata": {},
      "outputs": [
        {
          "data": {
            "text/plain": [
              "(867, 4)"
            ]
          },
          "execution_count": 56,
          "metadata": {},
          "output_type": "execute_result"
        }
      ],
      "source": [
        "new_tags_df.shape"
      ]
    },
    {
      "cell_type": "code",
      "execution_count": 57,
      "metadata": {},
      "outputs": [
        {
          "data": {
            "text/html": [
              "<div>\n",
              "<style scoped>\n",
              "    .dataframe tbody tr th:only-of-type {\n",
              "        vertical-align: middle;\n",
              "    }\n",
              "\n",
              "    .dataframe tbody tr th {\n",
              "        vertical-align: top;\n",
              "    }\n",
              "\n",
              "    .dataframe thead th {\n",
              "        text-align: right;\n",
              "    }\n",
              "</style>\n",
              "<table border=\"1\" class=\"dataframe\">\n",
              "  <thead>\n",
              "    <tr style=\"text-align: right;\">\n",
              "      <th></th>\n",
              "      <th>text</th>\n",
              "      <th>tags</th>\n",
              "      <th>tags_list</th>\n",
              "      <th>url</th>\n",
              "    </tr>\n",
              "  </thead>\n",
              "  <tbody>\n",
              "    <tr>\n",
              "      <th>0</th>\n",
              "      <td>2023/2024 оқу жылында Қазақстан бойынша 24 мың...</td>\n",
              "      <td>[жоғарғы оқу орны, гранат]</td>\n",
              "      <td>['жоғарғы оқу орны', 'гранат']</td>\n",
              "      <td>https://kaz.tengrinews.kz/article/kazakstanda-...</td>\n",
              "    </tr>\n",
              "    <tr>\n",
              "      <th>1</th>\n",
              "      <td>Астанада 27-28 қараша күндері ҰҚШҰ Ұжымдық қау...</td>\n",
              "      <td>[астана, студент, жоғарғы оқу орны]</td>\n",
              "      <td>['астана', 'студент', 'жоғарғы оқу орны']</td>\n",
              "      <td>https://kaz.tengrinews.kz/kazakhstan_news/asta...</td>\n",
              "    </tr>\n",
              "    <tr>\n",
              "      <th>2</th>\n",
              "      <td>Қазақстанда елдегі жоғары оқу орындарында білі...</td>\n",
              "      <td>[несие, жоғарғы оқу орны]</td>\n",
              "      <td>['несие', 'жоғарғы оқу орны']</td>\n",
              "      <td>https://kaz.tengrinews.kz/article/kazakstandyi...</td>\n",
              "    </tr>\n",
              "    <tr>\n",
              "      <th>3</th>\n",
              "      <td>Қазақстандағы адам құқықтары жөніндегі уәкіл А...</td>\n",
              "      <td>[жоғарғы оқу орны, білім беру]</td>\n",
              "      <td>['жоғарғы оқу орны', 'білім беру']</td>\n",
              "      <td>https://kaz.tengrinews.kz/kazakhstan_news/azam...</td>\n",
              "    </tr>\n",
              "    <tr>\n",
              "      <th>4</th>\n",
              "      <td>Ғылым және жоғары білім министрі Саясат Нұрбек...</td>\n",
              "      <td>[алматы, жоғарғы оқу орны]</td>\n",
              "      <td>['алматы', 'жоғарғы оқу орны']</td>\n",
              "      <td>https://kaz.tengrinews.kz/kazakhstan_news/alma...</td>\n",
              "    </tr>\n",
              "  </tbody>\n",
              "</table>\n",
              "</div>"
            ],
            "text/plain": [
              "                                                text  \\\n",
              "0  2023/2024 оқу жылында Қазақстан бойынша 24 мың...   \n",
              "1  Астанада 27-28 қараша күндері ҰҚШҰ Ұжымдық қау...   \n",
              "2  Қазақстанда елдегі жоғары оқу орындарында білі...   \n",
              "3  Қазақстандағы адам құқықтары жөніндегі уәкіл А...   \n",
              "4  Ғылым және жоғары білім министрі Саясат Нұрбек...   \n",
              "\n",
              "                                  tags  \\\n",
              "0           [жоғарғы оқу орны, гранат]   \n",
              "1  [астана, студент, жоғарғы оқу орны]   \n",
              "2            [несие, жоғарғы оқу орны]   \n",
              "3       [жоғарғы оқу орны, білім беру]   \n",
              "4           [алматы, жоғарғы оқу орны]   \n",
              "\n",
              "                                   tags_list  \\\n",
              "0             ['жоғарғы оқу орны', 'гранат']   \n",
              "1  ['астана', 'студент', 'жоғарғы оқу орны']   \n",
              "2              ['несие', 'жоғарғы оқу орны']   \n",
              "3         ['жоғарғы оқу орны', 'білім беру']   \n",
              "4             ['алматы', 'жоғарғы оқу орны']   \n",
              "\n",
              "                                                 url  \n",
              "0  https://kaz.tengrinews.kz/article/kazakstanda-...  \n",
              "1  https://kaz.tengrinews.kz/kazakhstan_news/asta...  \n",
              "2  https://kaz.tengrinews.kz/article/kazakstandyi...  \n",
              "3  https://kaz.tengrinews.kz/kazakhstan_news/azam...  \n",
              "4  https://kaz.tengrinews.kz/kazakhstan_news/alma...  "
            ]
          },
          "execution_count": 57,
          "metadata": {},
          "output_type": "execute_result"
        }
      ],
      "source": [
        "new_tags_df.head()"
      ]
    },
    {
      "cell_type": "code",
      "execution_count": 58,
      "metadata": {},
      "outputs": [],
      "source": [
        "new_tags_df.reset_index(drop=True, inplace=True)"
      ]
    },
    {
      "cell_type": "code",
      "execution_count": 59,
      "metadata": {},
      "outputs": [
        {
          "data": {
            "text/html": [
              "<div>\n",
              "<style scoped>\n",
              "    .dataframe tbody tr th:only-of-type {\n",
              "        vertical-align: middle;\n",
              "    }\n",
              "\n",
              "    .dataframe tbody tr th {\n",
              "        vertical-align: top;\n",
              "    }\n",
              "\n",
              "    .dataframe thead th {\n",
              "        text-align: right;\n",
              "    }\n",
              "</style>\n",
              "<table border=\"1\" class=\"dataframe\">\n",
              "  <thead>\n",
              "    <tr style=\"text-align: right;\">\n",
              "      <th></th>\n",
              "      <th>text</th>\n",
              "      <th>tags_list</th>\n",
              "    </tr>\n",
              "  </thead>\n",
              "  <tbody>\n",
              "    <tr>\n",
              "      <th>0</th>\n",
              "      <td>2023/2024 оқу жылында Қазақстан бойынша 24 мың...</td>\n",
              "      <td>['жоғарғы оқу орны', 'гранат']</td>\n",
              "    </tr>\n",
              "    <tr>\n",
              "      <th>1</th>\n",
              "      <td>Астанада 27-28 қараша күндері ҰҚШҰ Ұжымдық қау...</td>\n",
              "      <td>['астана', 'студент', 'жоғарғы оқу орны']</td>\n",
              "    </tr>\n",
              "    <tr>\n",
              "      <th>2</th>\n",
              "      <td>Қазақстанда елдегі жоғары оқу орындарында білі...</td>\n",
              "      <td>['несие', 'жоғарғы оқу орны']</td>\n",
              "    </tr>\n",
              "    <tr>\n",
              "      <th>3</th>\n",
              "      <td>Қазақстандағы адам құқықтары жөніндегі уәкіл А...</td>\n",
              "      <td>['жоғарғы оқу орны', 'білім беру']</td>\n",
              "    </tr>\n",
              "    <tr>\n",
              "      <th>4</th>\n",
              "      <td>Ғылым және жоғары білім министрі Саясат Нұрбек...</td>\n",
              "      <td>['алматы', 'жоғарғы оқу орны']</td>\n",
              "    </tr>\n",
              "  </tbody>\n",
              "</table>\n",
              "</div>"
            ],
            "text/plain": [
              "                                                text  \\\n",
              "0  2023/2024 оқу жылында Қазақстан бойынша 24 мың...   \n",
              "1  Астанада 27-28 қараша күндері ҰҚШҰ Ұжымдық қау...   \n",
              "2  Қазақстанда елдегі жоғары оқу орындарында білі...   \n",
              "3  Қазақстандағы адам құқықтары жөніндегі уәкіл А...   \n",
              "4  Ғылым және жоғары білім министрі Саясат Нұрбек...   \n",
              "\n",
              "                                   tags_list  \n",
              "0             ['жоғарғы оқу орны', 'гранат']  \n",
              "1  ['астана', 'студент', 'жоғарғы оқу орны']  \n",
              "2              ['несие', 'жоғарғы оқу орны']  \n",
              "3         ['жоғарғы оқу орны', 'білім беру']  \n",
              "4             ['алматы', 'жоғарғы оқу орны']  "
            ]
          },
          "execution_count": 59,
          "metadata": {},
          "output_type": "execute_result"
        }
      ],
      "source": [
        "new_df = new_tags_df[['text', 'tags_list']]\n",
        "new_df.head()"
      ]
    },
    {
      "cell_type": "code",
      "execution_count": 60,
      "metadata": {},
      "outputs": [
        {
          "name": "stderr",
          "output_type": "stream",
          "text": [
            "C:\\Users\\dimat\\AppData\\Local\\Temp\\ipykernel_3916\\160857743.py:1: SettingWithCopyWarning: \n",
            "A value is trying to be set on a copy of a slice from a DataFrame.\n",
            "Try using .loc[row_indexer,col_indexer] = value instead\n",
            "\n",
            "See the caveats in the documentation: https://pandas.pydata.org/pandas-docs/stable/user_guide/indexing.html#returning-a-view-versus-a-copy\n",
            "  new_df[\"tags_list\"] = new_tags_df[\"tags_list\"].apply(ast.literal_eval)\n"
          ]
        },
        {
          "data": {
            "text/html": [
              "<div>\n",
              "<style scoped>\n",
              "    .dataframe tbody tr th:only-of-type {\n",
              "        vertical-align: middle;\n",
              "    }\n",
              "\n",
              "    .dataframe tbody tr th {\n",
              "        vertical-align: top;\n",
              "    }\n",
              "\n",
              "    .dataframe thead th {\n",
              "        text-align: right;\n",
              "    }\n",
              "</style>\n",
              "<table border=\"1\" class=\"dataframe\">\n",
              "  <thead>\n",
              "    <tr style=\"text-align: right;\">\n",
              "      <th></th>\n",
              "      <th>text</th>\n",
              "      <th>tags_list</th>\n",
              "    </tr>\n",
              "  </thead>\n",
              "  <tbody>\n",
              "    <tr>\n",
              "      <th>0</th>\n",
              "      <td>2023/2024 оқу жылында Қазақстан бойынша 24 мың...</td>\n",
              "      <td>[жоғарғы оқу орны, гранат]</td>\n",
              "    </tr>\n",
              "    <tr>\n",
              "      <th>1</th>\n",
              "      <td>Астанада 27-28 қараша күндері ҰҚШҰ Ұжымдық қау...</td>\n",
              "      <td>[астана, студент, жоғарғы оқу орны]</td>\n",
              "    </tr>\n",
              "    <tr>\n",
              "      <th>2</th>\n",
              "      <td>Қазақстанда елдегі жоғары оқу орындарында білі...</td>\n",
              "      <td>[несие, жоғарғы оқу орны]</td>\n",
              "    </tr>\n",
              "    <tr>\n",
              "      <th>3</th>\n",
              "      <td>Қазақстандағы адам құқықтары жөніндегі уәкіл А...</td>\n",
              "      <td>[жоғарғы оқу орны, білім беру]</td>\n",
              "    </tr>\n",
              "    <tr>\n",
              "      <th>4</th>\n",
              "      <td>Ғылым және жоғары білім министрі Саясат Нұрбек...</td>\n",
              "      <td>[алматы, жоғарғы оқу орны]</td>\n",
              "    </tr>\n",
              "  </tbody>\n",
              "</table>\n",
              "</div>"
            ],
            "text/plain": [
              "                                                text  \\\n",
              "0  2023/2024 оқу жылында Қазақстан бойынша 24 мың...   \n",
              "1  Астанада 27-28 қараша күндері ҰҚШҰ Ұжымдық қау...   \n",
              "2  Қазақстанда елдегі жоғары оқу орындарында білі...   \n",
              "3  Қазақстандағы адам құқықтары жөніндегі уәкіл А...   \n",
              "4  Ғылым және жоғары білім министрі Саясат Нұрбек...   \n",
              "\n",
              "                             tags_list  \n",
              "0           [жоғарғы оқу орны, гранат]  \n",
              "1  [астана, студент, жоғарғы оқу орны]  \n",
              "2            [несие, жоғарғы оқу орны]  \n",
              "3       [жоғарғы оқу орны, білім беру]  \n",
              "4           [алматы, жоғарғы оқу орны]  "
            ]
          },
          "execution_count": 60,
          "metadata": {},
          "output_type": "execute_result"
        }
      ],
      "source": [
        "new_df[\"tags_list\"] = new_tags_df[\"tags_list\"].apply(ast.literal_eval)\n",
        "new_df.head()"
      ]
    },
    {
      "cell_type": "code",
      "execution_count": 40,
      "metadata": {},
      "outputs": [
        {
          "data": {
            "text/html": [
              "<div>\n",
              "<style scoped>\n",
              "    .dataframe tbody tr th:only-of-type {\n",
              "        vertical-align: middle;\n",
              "    }\n",
              "\n",
              "    .dataframe tbody tr th {\n",
              "        vertical-align: top;\n",
              "    }\n",
              "\n",
              "    .dataframe thead th {\n",
              "        text-align: right;\n",
              "    }\n",
              "</style>\n",
              "<table border=\"1\" class=\"dataframe\">\n",
              "  <thead>\n",
              "    <tr style=\"text-align: right;\">\n",
              "      <th></th>\n",
              "      <th>title</th>\n",
              "      <th>url</th>\n",
              "      <th>tags</th>\n",
              "      <th>text</th>\n",
              "    </tr>\n",
              "  </thead>\n",
              "  <tbody>\n",
              "    <tr>\n",
              "      <th>0</th>\n",
              "      <td>Әлемдегі ең танымал туристік бағыттар аталды</td>\n",
              "      <td>https://kaz.tengritravel.kz/around-the-world/a...</td>\n",
              "      <td>['туризм', 'рейтинг', 'саяхат']</td>\n",
              "      <td>Tripadvisor нұсқасы бойынша Индонезияның Бали ...</td>\n",
              "    </tr>\n",
              "    <tr>\n",
              "      <th>1</th>\n",
              "      <td>2020 жылдың қорытындысы бойынша Қазақстан халқ...</td>\n",
              "      <td>https://kaz.tengrinews.kz/kazakhstan_news/2020...</td>\n",
              "      <td>['қазақстан', 'халық саны']</td>\n",
              "      <td>2021 жылы елдегі халық саны 18 миллион 877 мың...</td>\n",
              "    </tr>\n",
              "    <tr>\n",
              "      <th>2</th>\n",
              "      <td>Қазақстандықтар 2021 жылды қарсы алып жатыр</td>\n",
              "      <td>https://kaz.tengrinews.kz/kazakhstan_news/kaza...</td>\n",
              "      <td>['мереке', 'жаңа жыл']</td>\n",
              "      <td>Қазақстандықтар 2021 жылды қарсы алып жатыр. 2...</td>\n",
              "    </tr>\n",
              "    <tr>\n",
              "      <th>3</th>\n",
              "      <td>2022 жылы Балқаш көлінде демалу қанша тұрады</td>\n",
              "      <td>https://kaz.tengritravel.kz/my-country/2022-jy...</td>\n",
              "      <td>['туризм', 'балқаш', 'турист', 'саяхат']</td>\n",
              "      <td>2022 жылдың жазғы маусымында Балқаш көлінде де...</td>\n",
              "    </tr>\n",
              "    <tr>\n",
              "      <th>4</th>\n",
              "      <td>Тоқаев қазақстандықтарды 2022 жылы не күтіп тұ...</td>\n",
              "      <td>https://kaz.tengrinews.kz/kazakhstan_news/toka...</td>\n",
              "      <td>['тоқаев қасым-жомарт', 'жаңа жыл']</td>\n",
              "      <td>Президент Қасым-Жомарт Тоқаев қазақстандықтард...</td>\n",
              "    </tr>\n",
              "  </tbody>\n",
              "</table>\n",
              "</div>"
            ],
            "text/plain": [
              "                                               title  \\\n",
              "0       Әлемдегі ең танымал туристік бағыттар аталды   \n",
              "1  2020 жылдың қорытындысы бойынша Қазақстан халқ...   \n",
              "2        Қазақстандықтар 2021 жылды қарсы алып жатыр   \n",
              "3       2022 жылы Балқаш көлінде демалу қанша тұрады   \n",
              "4  Тоқаев қазақстандықтарды 2022 жылы не күтіп тұ...   \n",
              "\n",
              "                                                 url  \\\n",
              "0  https://kaz.tengritravel.kz/around-the-world/a...   \n",
              "1  https://kaz.tengrinews.kz/kazakhstan_news/2020...   \n",
              "2  https://kaz.tengrinews.kz/kazakhstan_news/kaza...   \n",
              "3  https://kaz.tengritravel.kz/my-country/2022-jy...   \n",
              "4  https://kaz.tengrinews.kz/kazakhstan_news/toka...   \n",
              "\n",
              "                                       tags  \\\n",
              "0           ['туризм', 'рейтинг', 'саяхат']   \n",
              "1               ['қазақстан', 'халық саны']   \n",
              "2                    ['мереке', 'жаңа жыл']   \n",
              "3  ['туризм', 'балқаш', 'турист', 'саяхат']   \n",
              "4       ['тоқаев қасым-жомарт', 'жаңа жыл']   \n",
              "\n",
              "                                                text  \n",
              "0  Tripadvisor нұсқасы бойынша Индонезияның Бали ...  \n",
              "1  2021 жылы елдегі халық саны 18 миллион 877 мың...  \n",
              "2  Қазақстандықтар 2021 жылды қарсы алып жатыр. 2...  \n",
              "3  2022 жылдың жазғы маусымында Балқаш көлінде де...  \n",
              "4  Президент Қасым-Жомарт Тоқаев қазақстандықтард...  "
            ]
          },
          "execution_count": 40,
          "metadata": {},
          "output_type": "execute_result"
        }
      ],
      "source": [
        "kaggle_df = pd.read_csv('dataset\\\\tengri_news.csv')\n",
        "kaggle_df.head()"
      ]
    },
    {
      "cell_type": "code",
      "execution_count": 43,
      "metadata": {},
      "outputs": [
        {
          "data": {
            "text/html": [
              "<div>\n",
              "<style scoped>\n",
              "    .dataframe tbody tr th:only-of-type {\n",
              "        vertical-align: middle;\n",
              "    }\n",
              "\n",
              "    .dataframe tbody tr th {\n",
              "        vertical-align: top;\n",
              "    }\n",
              "\n",
              "    .dataframe thead th {\n",
              "        text-align: right;\n",
              "    }\n",
              "</style>\n",
              "<table border=\"1\" class=\"dataframe\">\n",
              "  <thead>\n",
              "    <tr style=\"text-align: right;\">\n",
              "      <th></th>\n",
              "      <th>title</th>\n",
              "      <th>url</th>\n",
              "      <th>tags</th>\n",
              "      <th>text</th>\n",
              "      <th>tags_list</th>\n",
              "    </tr>\n",
              "  </thead>\n",
              "  <tbody>\n",
              "    <tr>\n",
              "      <th>0</th>\n",
              "      <td>Әлемдегі ең танымал туристік бағыттар аталды</td>\n",
              "      <td>https://kaz.tengritravel.kz/around-the-world/a...</td>\n",
              "      <td>['туризм', 'рейтинг', 'саяхат']</td>\n",
              "      <td>Tripadvisor нұсқасы бойынша Индонезияның Бали ...</td>\n",
              "      <td>[туризм, рейтинг, саяхат]</td>\n",
              "    </tr>\n",
              "    <tr>\n",
              "      <th>1</th>\n",
              "      <td>2020 жылдың қорытындысы бойынша Қазақстан халқ...</td>\n",
              "      <td>https://kaz.tengrinews.kz/kazakhstan_news/2020...</td>\n",
              "      <td>['қазақстан', 'халық саны']</td>\n",
              "      <td>2021 жылы елдегі халық саны 18 миллион 877 мың...</td>\n",
              "      <td>[қазақстан, халық саны]</td>\n",
              "    </tr>\n",
              "    <tr>\n",
              "      <th>2</th>\n",
              "      <td>Қазақстандықтар 2021 жылды қарсы алып жатыр</td>\n",
              "      <td>https://kaz.tengrinews.kz/kazakhstan_news/kaza...</td>\n",
              "      <td>['мереке', 'жаңа жыл']</td>\n",
              "      <td>Қазақстандықтар 2021 жылды қарсы алып жатыр. 2...</td>\n",
              "      <td>[мереке, жаңа жыл]</td>\n",
              "    </tr>\n",
              "    <tr>\n",
              "      <th>3</th>\n",
              "      <td>2022 жылы Балқаш көлінде демалу қанша тұрады</td>\n",
              "      <td>https://kaz.tengritravel.kz/my-country/2022-jy...</td>\n",
              "      <td>['туризм', 'балқаш', 'турист', 'саяхат']</td>\n",
              "      <td>2022 жылдың жазғы маусымында Балқаш көлінде де...</td>\n",
              "      <td>[туризм, балқаш, турист, саяхат]</td>\n",
              "    </tr>\n",
              "    <tr>\n",
              "      <th>4</th>\n",
              "      <td>Тоқаев қазақстандықтарды 2022 жылы не күтіп тұ...</td>\n",
              "      <td>https://kaz.tengrinews.kz/kazakhstan_news/toka...</td>\n",
              "      <td>['тоқаев қасым-жомарт', 'жаңа жыл']</td>\n",
              "      <td>Президент Қасым-Жомарт Тоқаев қазақстандықтард...</td>\n",
              "      <td>[тоқаев қасым-жомарт, жаңа жыл]</td>\n",
              "    </tr>\n",
              "  </tbody>\n",
              "</table>\n",
              "</div>"
            ],
            "text/plain": [
              "                                               title  \\\n",
              "0       Әлемдегі ең танымал туристік бағыттар аталды   \n",
              "1  2020 жылдың қорытындысы бойынша Қазақстан халқ...   \n",
              "2        Қазақстандықтар 2021 жылды қарсы алып жатыр   \n",
              "3       2022 жылы Балқаш көлінде демалу қанша тұрады   \n",
              "4  Тоқаев қазақстандықтарды 2022 жылы не күтіп тұ...   \n",
              "\n",
              "                                                 url  \\\n",
              "0  https://kaz.tengritravel.kz/around-the-world/a...   \n",
              "1  https://kaz.tengrinews.kz/kazakhstan_news/2020...   \n",
              "2  https://kaz.tengrinews.kz/kazakhstan_news/kaza...   \n",
              "3  https://kaz.tengritravel.kz/my-country/2022-jy...   \n",
              "4  https://kaz.tengrinews.kz/kazakhstan_news/toka...   \n",
              "\n",
              "                                       tags  \\\n",
              "0           ['туризм', 'рейтинг', 'саяхат']   \n",
              "1               ['қазақстан', 'халық саны']   \n",
              "2                    ['мереке', 'жаңа жыл']   \n",
              "3  ['туризм', 'балқаш', 'турист', 'саяхат']   \n",
              "4       ['тоқаев қасым-жомарт', 'жаңа жыл']   \n",
              "\n",
              "                                                text  \\\n",
              "0  Tripadvisor нұсқасы бойынша Индонезияның Бали ...   \n",
              "1  2021 жылы елдегі халық саны 18 миллион 877 мың...   \n",
              "2  Қазақстандықтар 2021 жылды қарсы алып жатыр. 2...   \n",
              "3  2022 жылдың жазғы маусымында Балқаш көлінде де...   \n",
              "4  Президент Қасым-Жомарт Тоқаев қазақстандықтард...   \n",
              "\n",
              "                          tags_list  \n",
              "0         [туризм, рейтинг, саяхат]  \n",
              "1           [қазақстан, халық саны]  \n",
              "2                [мереке, жаңа жыл]  \n",
              "3  [туризм, балқаш, турист, саяхат]  \n",
              "4   [тоқаев қасым-жомарт, жаңа жыл]  "
            ]
          },
          "execution_count": 43,
          "metadata": {},
          "output_type": "execute_result"
        }
      ],
      "source": [
        "kaggle_df[\"tags_list\"] = kaggle_df[\"tags\"].apply(ast.literal_eval)\n",
        "kaggle_df.head()"
      ]
    },
    {
      "cell_type": "code",
      "execution_count": 61,
      "metadata": {},
      "outputs": [],
      "source": [
        "old_df = kaggle_df[['text', 'tags_list']]"
      ]
    },
    {
      "cell_type": "code",
      "execution_count": 63,
      "metadata": {},
      "outputs": [
        {
          "name": "stderr",
          "output_type": "stream",
          "text": [
            "C:\\Users\\dimat\\AppData\\Local\\Temp\\ipykernel_3916\\1415581202.py:1: SettingWithCopyWarning: \n",
            "A value is trying to be set on a copy of a slice from a DataFrame\n",
            "\n",
            "See the caveats in the documentation: https://pandas.pydata.org/pandas-docs/stable/user_guide/indexing.html#returning-a-view-versus-a-copy\n",
            "  old_df.drop_duplicates(subset='text', inplace=True)\n"
          ]
        }
      ],
      "source": [
        "old_df.drop_duplicates(subset='text', inplace=True)"
      ]
    },
    {
      "cell_type": "code",
      "execution_count": 64,
      "metadata": {},
      "outputs": [
        {
          "data": {
            "text/plain": [
              "(27554, 2)"
            ]
          },
          "execution_count": 64,
          "metadata": {},
          "output_type": "execute_result"
        }
      ],
      "source": [
        "old_df.shape"
      ]
    },
    {
      "cell_type": "code",
      "execution_count": 68,
      "metadata": {},
      "outputs": [
        {
          "data": {
            "text/html": [
              "<div>\n",
              "<style scoped>\n",
              "    .dataframe tbody tr th:only-of-type {\n",
              "        vertical-align: middle;\n",
              "    }\n",
              "\n",
              "    .dataframe tbody tr th {\n",
              "        vertical-align: top;\n",
              "    }\n",
              "\n",
              "    .dataframe thead th {\n",
              "        text-align: right;\n",
              "    }\n",
              "</style>\n",
              "<table border=\"1\" class=\"dataframe\">\n",
              "  <thead>\n",
              "    <tr style=\"text-align: right;\">\n",
              "      <th></th>\n",
              "      <th>text</th>\n",
              "      <th>tags</th>\n",
              "      <th>tags_list</th>\n",
              "      <th>url</th>\n",
              "    </tr>\n",
              "  </thead>\n",
              "  <tbody>\n",
              "    <tr>\n",
              "      <th>0</th>\n",
              "      <td>Туризм және спорт вице-министрі Ержан Еркінбае...</td>\n",
              "      <td>[Туризм, Астана]</td>\n",
              "      <td>['Туризм', 'Астана']</td>\n",
              "      <td>https://kaz.tengrinews.kz/my-country/astanada-...</td>\n",
              "    </tr>\n",
              "    <tr>\n",
              "      <th>1</th>\n",
              "      <td>Желіде Фукуок – Астана бағытындағы ұшақ құспен...</td>\n",
              "      <td>[Туризм, оқыс оқиға]</td>\n",
              "      <td>['Туризм', 'оқыс оқиға']</td>\n",
              "      <td>https://kaz.tengrinews.kz/my-country/fukuok-as...</td>\n",
              "    </tr>\n",
              "    <tr>\n",
              "      <th>2</th>\n",
              "      <td>Шетелдік азаматтардың Қазақстандағы мәртебесін...</td>\n",
              "      <td>[Көші-қон, Туризм]</td>\n",
              "      <td>['Көші-қон', 'Туризм']</td>\n",
              "      <td>https://kaz.tengrinews.kz/my-country/sheteldk-...</td>\n",
              "    </tr>\n",
              "    <tr>\n",
              "      <th>3</th>\n",
              "      <td>Бурабай ұлттық паркі Instagram-парақшасында өз...</td>\n",
              "      <td>[табиғат, Туризм]</td>\n",
              "      <td>['табиғат', 'Туризм']</td>\n",
              "      <td>https://kaz.tengrinews.kz/my-country/burabay-a...</td>\n",
              "    </tr>\n",
              "    <tr>\n",
              "      <th>4</th>\n",
              "      <td>Президент Тоқаевтың сөзінше, туризм экономикан...</td>\n",
              "      <td>[Қасым-Жомарт Тоқаев, ақорда, Туризм]</td>\n",
              "      <td>['Қасым-Жомарт Тоқаев', 'ақорда', 'Туризм']</td>\n",
              "      <td>https://kaz.tengrinews.kz/my-country/kalyip-ba...</td>\n",
              "    </tr>\n",
              "  </tbody>\n",
              "</table>\n",
              "</div>"
            ],
            "text/plain": [
              "                                                text  \\\n",
              "0  Туризм және спорт вице-министрі Ержан Еркінбае...   \n",
              "1  Желіде Фукуок – Астана бағытындағы ұшақ құспен...   \n",
              "2  Шетелдік азаматтардың Қазақстандағы мәртебесін...   \n",
              "3  Бурабай ұлттық паркі Instagram-парақшасында өз...   \n",
              "4  Президент Тоқаевтың сөзінше, туризм экономикан...   \n",
              "\n",
              "                                    tags  \\\n",
              "0                       [Туризм, Астана]   \n",
              "1                   [Туризм, оқыс оқиға]   \n",
              "2                     [Көші-қон, Туризм]   \n",
              "3                      [табиғат, Туризм]   \n",
              "4  [Қасым-Жомарт Тоқаев, ақорда, Туризм]   \n",
              "\n",
              "                                     tags_list  \\\n",
              "0                         ['Туризм', 'Астана']   \n",
              "1                     ['Туризм', 'оқыс оқиға']   \n",
              "2                       ['Көші-қон', 'Туризм']   \n",
              "3                        ['табиғат', 'Туризм']   \n",
              "4  ['Қасым-Жомарт Тоқаев', 'ақорда', 'Туризм']   \n",
              "\n",
              "                                                 url  \n",
              "0  https://kaz.tengrinews.kz/my-country/astanada-...  \n",
              "1  https://kaz.tengrinews.kz/my-country/fukuok-as...  \n",
              "2  https://kaz.tengrinews.kz/my-country/sheteldk-...  \n",
              "3  https://kaz.tengrinews.kz/my-country/burabay-a...  \n",
              "4  https://kaz.tengrinews.kz/my-country/kalyip-ba...  "
            ]
          },
          "execution_count": 68,
          "metadata": {},
          "output_type": "execute_result"
        }
      ],
      "source": [
        "old_new_df = pd.read_csv('dataset\\\\new_all_articles.csv')\n",
        "old_new_df.head()"
      ]
    },
    {
      "cell_type": "code",
      "execution_count": 69,
      "metadata": {},
      "outputs": [],
      "source": [
        "old_new_df['tags_list'] = old_new_df['tags_list'].apply(ast.literal_eval)"
      ]
    },
    {
      "cell_type": "code",
      "execution_count": 71,
      "metadata": {},
      "outputs": [
        {
          "data": {
            "text/plain": [
              "(8700, 4)"
            ]
          },
          "execution_count": 71,
          "metadata": {},
          "output_type": "execute_result"
        }
      ],
      "source": [
        "old_new_df.shape"
      ]
    },
    {
      "cell_type": "code",
      "execution_count": 72,
      "metadata": {},
      "outputs": [],
      "source": [
        "old_new_df.drop_duplicates(subset='text', inplace=True)"
      ]
    },
    {
      "cell_type": "code",
      "execution_count": 73,
      "metadata": {},
      "outputs": [
        {
          "data": {
            "text/plain": [
              "(562, 4)"
            ]
          },
          "execution_count": 73,
          "metadata": {},
          "output_type": "execute_result"
        }
      ],
      "source": [
        "old_new_df.shape"
      ]
    },
    {
      "cell_type": "code",
      "execution_count": 74,
      "metadata": {},
      "outputs": [],
      "source": [
        "old_new_df = old_new_df[['text', 'tags_list']]"
      ]
    },
    {
      "cell_type": "code",
      "execution_count": 75,
      "metadata": {},
      "outputs": [
        {
          "data": {
            "text/html": [
              "<div>\n",
              "<style scoped>\n",
              "    .dataframe tbody tr th:only-of-type {\n",
              "        vertical-align: middle;\n",
              "    }\n",
              "\n",
              "    .dataframe tbody tr th {\n",
              "        vertical-align: top;\n",
              "    }\n",
              "\n",
              "    .dataframe thead th {\n",
              "        text-align: right;\n",
              "    }\n",
              "</style>\n",
              "<table border=\"1\" class=\"dataframe\">\n",
              "  <thead>\n",
              "    <tr style=\"text-align: right;\">\n",
              "      <th></th>\n",
              "      <th>text</th>\n",
              "      <th>tags_list</th>\n",
              "    </tr>\n",
              "  </thead>\n",
              "  <tbody>\n",
              "    <tr>\n",
              "      <th>0</th>\n",
              "      <td>Туризм және спорт вице-министрі Ержан Еркінбае...</td>\n",
              "      <td>[Туризм, Астана]</td>\n",
              "    </tr>\n",
              "    <tr>\n",
              "      <th>1</th>\n",
              "      <td>Желіде Фукуок – Астана бағытындағы ұшақ құспен...</td>\n",
              "      <td>[Туризм, оқыс оқиға]</td>\n",
              "    </tr>\n",
              "    <tr>\n",
              "      <th>2</th>\n",
              "      <td>Шетелдік азаматтардың Қазақстандағы мәртебесін...</td>\n",
              "      <td>[Көші-қон, Туризм]</td>\n",
              "    </tr>\n",
              "    <tr>\n",
              "      <th>3</th>\n",
              "      <td>Бурабай ұлттық паркі Instagram-парақшасында өз...</td>\n",
              "      <td>[табиғат, Туризм]</td>\n",
              "    </tr>\n",
              "    <tr>\n",
              "      <th>4</th>\n",
              "      <td>Президент Тоқаевтың сөзінше, туризм экономикан...</td>\n",
              "      <td>[Қасым-Жомарт Тоқаев, ақорда, Туризм]</td>\n",
              "    </tr>\n",
              "  </tbody>\n",
              "</table>\n",
              "</div>"
            ],
            "text/plain": [
              "                                                text  \\\n",
              "0  Туризм және спорт вице-министрі Ержан Еркінбае...   \n",
              "1  Желіде Фукуок – Астана бағытындағы ұшақ құспен...   \n",
              "2  Шетелдік азаматтардың Қазақстандағы мәртебесін...   \n",
              "3  Бурабай ұлттық паркі Instagram-парақшасында өз...   \n",
              "4  Президент Тоқаевтың сөзінше, туризм экономикан...   \n",
              "\n",
              "                               tags_list  \n",
              "0                       [Туризм, Астана]  \n",
              "1                   [Туризм, оқыс оқиға]  \n",
              "2                     [Көші-қон, Туризм]  \n",
              "3                      [табиғат, Туризм]  \n",
              "4  [Қасым-Жомарт Тоқаев, ақорда, Туризм]  "
            ]
          },
          "execution_count": 75,
          "metadata": {},
          "output_type": "execute_result"
        }
      ],
      "source": [
        "old_new_df.head()"
      ]
    },
    {
      "cell_type": "code",
      "execution_count": 119,
      "metadata": {},
      "outputs": [
        {
          "data": {
            "text/plain": [
              "(28983, 2)"
            ]
          },
          "execution_count": 119,
          "metadata": {},
          "output_type": "execute_result"
        }
      ],
      "source": [
        "all_df = pd.concat([old_new_df, old_df, new_df], ignore_index=True)\n",
        "all_df.shape"
      ]
    },
    {
      "cell_type": "code",
      "execution_count": 120,
      "metadata": {},
      "outputs": [
        {
          "data": {
            "text/plain": [
              "Index(['text', 'tags_list'], dtype='object')"
            ]
          },
          "execution_count": 120,
          "metadata": {},
          "output_type": "execute_result"
        }
      ],
      "source": [
        "all_df.columns"
      ]
    },
    {
      "cell_type": "code",
      "execution_count": 121,
      "metadata": {},
      "outputs": [
        {
          "data": {
            "text/plain": [
              "(28918, 2)"
            ]
          },
          "execution_count": 121,
          "metadata": {},
          "output_type": "execute_result"
        }
      ],
      "source": [
        "all_df.drop_duplicates(subset='text', inplace=True)\n",
        "all_df.shape"
      ]
    },
    {
      "cell_type": "code",
      "execution_count": 122,
      "metadata": {},
      "outputs": [
        {
          "data": {
            "text/plain": [
              "None"
            ]
          },
          "metadata": {},
          "output_type": "display_data"
        }
      ],
      "source": [
        "all_rows = []\n",
        "for row in all_df['tags_list']:\n",
        "  all_rows.extend(row)\n",
        "\n",
        "counter = Counter(all_rows)\n",
        "kaggle_topics = pd.Series(counter)\n",
        "display(kaggle_topics.sort_values(ascending=False, inplace=True))"
      ]
    },
    {
      "cell_type": "code",
      "execution_count": 123,
      "metadata": {},
      "outputs": [
        {
          "data": {
            "text/plain": [
              "тағайындау         438\n",
              "шымкент            425\n",
              "денсаулық          421\n",
              "саяхат             418\n",
              "сот                418\n",
              "турист             398\n",
              "прокуратура        389\n",
              "адам өлімі         385\n",
              "дәрігер            377\n",
              "қызмет             359\n",
              "түркия             334\n",
              "заң                332\n",
              "қаза               325\n",
              "оқушы              319\n",
              "ақтөбе облысы      314\n",
              "отбасы             313\n",
              "статистика         310\n",
              "қытай              308\n",
              "сот төрелігі       304\n",
              "тоқаев             302\n",
              "ауа райы           299\n",
              "футбол             290\n",
              "қырғызстан         289\n",
              "депутат            288\n",
              "өлім               283\n",
              "әлеуметтік желі    279\n",
              "украина            278\n",
              "полицей            276\n",
              "өрт                275\n",
              "медицина           272\n",
              "dtype: int64"
            ]
          },
          "execution_count": 123,
          "metadata": {},
          "output_type": "execute_result"
        }
      ],
      "source": [
        "kaggle_topics[30:60]"
      ]
    },
    {
      "cell_type": "code",
      "execution_count": 124,
      "metadata": {},
      "outputs": [],
      "source": [
        "kaggle_topics = kaggle_topics[kaggle_topics>=300]"
      ]
    },
    {
      "cell_type": "code",
      "execution_count": 125,
      "metadata": {},
      "outputs": [
        {
          "data": {
            "text/plain": [
              "(50,)"
            ]
          },
          "execution_count": 125,
          "metadata": {},
          "output_type": "execute_result"
        }
      ],
      "source": [
        "kaggle_topics.shape"
      ]
    },
    {
      "cell_type": "code",
      "execution_count": 126,
      "metadata": {},
      "outputs": [
        {
          "data": {
            "text/plain": [
              "коронавирус               3281\n",
              "алматы                    2412\n",
              "соңғы жаңалықтар          1813\n",
              "қазақстан                 1752\n",
              "қылмыс                    1728\n",
              "карантин                  1256\n",
              "вакцина                   1056\n",
              "ресей                      875\n",
              "жекпе-жек                  681\n",
              "қасым-жомарт тоқаев        669\n",
              "нұр-сұлтан                 665\n",
              "полиция                    646\n",
              "ақш                        624\n",
              "астана                     609\n",
              "тоқаев қасым-жомарт        607\n",
              "балалар                    563\n",
              "әкім                       557\n",
              "пандемия                   540\n",
              "ақорда                     532\n",
              "ұрлық                      522\n",
              "спорт                      513\n",
              "пневмония                  502\n",
              "құқық қорғау органдары     486\n",
              "министр                    468\n",
              "бокс                       462\n",
              "алматы облысы              449\n",
              "видеолар                   448\n",
              "туризм                     446\n",
              "мектеп                     446\n",
              "көліктер                   441\n",
              "тағайындау                 438\n",
              "шымкент                    425\n",
              "денсаулық                  421\n",
              "саяхат                     418\n",
              "сот                        418\n",
              "турист                     398\n",
              "прокуратура                389\n",
              "адам өлімі                 385\n",
              "дәрігер                    377\n",
              "қызмет                     359\n",
              "түркия                     334\n",
              "заң                        332\n",
              "қаза                       325\n",
              "оқушы                      319\n",
              "ақтөбе облысы              314\n",
              "отбасы                     313\n",
              "статистика                 310\n",
              "қытай                      308\n",
              "сот төрелігі               304\n",
              "тоқаев                     302\n",
              "dtype: int64"
            ]
          },
          "execution_count": 126,
          "metadata": {},
          "output_type": "execute_result"
        }
      ],
      "source": [
        "kaggle_topics"
      ]
    },
    {
      "cell_type": "code",
      "execution_count": 127,
      "metadata": {},
      "outputs": [
        {
          "data": {
            "text/html": [
              "<div>\n",
              "<style scoped>\n",
              "    .dataframe tbody tr th:only-of-type {\n",
              "        vertical-align: middle;\n",
              "    }\n",
              "\n",
              "    .dataframe tbody tr th {\n",
              "        vertical-align: top;\n",
              "    }\n",
              "\n",
              "    .dataframe thead th {\n",
              "        text-align: right;\n",
              "    }\n",
              "</style>\n",
              "<table border=\"1\" class=\"dataframe\">\n",
              "  <thead>\n",
              "    <tr style=\"text-align: right;\">\n",
              "      <th></th>\n",
              "      <th>text</th>\n",
              "      <th>tags_list</th>\n",
              "      <th>tags_str</th>\n",
              "    </tr>\n",
              "  </thead>\n",
              "  <tbody>\n",
              "    <tr>\n",
              "      <th>0</th>\n",
              "      <td>Туризм және спорт вице-министрі Ержан Еркінбае...</td>\n",
              "      <td>[Туризм, Астана]</td>\n",
              "      <td>['Туризм', 'Астана']</td>\n",
              "    </tr>\n",
              "    <tr>\n",
              "      <th>1</th>\n",
              "      <td>Желіде Фукуок – Астана бағытындағы ұшақ құспен...</td>\n",
              "      <td>[Туризм, оқыс оқиға]</td>\n",
              "      <td>['Туризм', 'оқыс оқиға']</td>\n",
              "    </tr>\n",
              "    <tr>\n",
              "      <th>2</th>\n",
              "      <td>Шетелдік азаматтардың Қазақстандағы мәртебесін...</td>\n",
              "      <td>[Көші-қон, Туризм]</td>\n",
              "      <td>['Көші-қон', 'Туризм']</td>\n",
              "    </tr>\n",
              "    <tr>\n",
              "      <th>3</th>\n",
              "      <td>Бурабай ұлттық паркі Instagram-парақшасында өз...</td>\n",
              "      <td>[табиғат, Туризм]</td>\n",
              "      <td>['табиғат', 'Туризм']</td>\n",
              "    </tr>\n",
              "    <tr>\n",
              "      <th>4</th>\n",
              "      <td>Президент Тоқаевтың сөзінше, туризм экономикан...</td>\n",
              "      <td>[Қасым-Жомарт Тоқаев, ақорда, Туризм]</td>\n",
              "      <td>['Қасым-Жомарт Тоқаев', 'ақорда', 'Туризм']</td>\n",
              "    </tr>\n",
              "  </tbody>\n",
              "</table>\n",
              "</div>"
            ],
            "text/plain": [
              "                                                text  \\\n",
              "0  Туризм және спорт вице-министрі Ержан Еркінбае...   \n",
              "1  Желіде Фукуок – Астана бағытындағы ұшақ құспен...   \n",
              "2  Шетелдік азаматтардың Қазақстандағы мәртебесін...   \n",
              "3  Бурабай ұлттық паркі Instagram-парақшасында өз...   \n",
              "4  Президент Тоқаевтың сөзінше, туризм экономикан...   \n",
              "\n",
              "                               tags_list  \\\n",
              "0                       [Туризм, Астана]   \n",
              "1                   [Туризм, оқыс оқиға]   \n",
              "2                     [Көші-қон, Туризм]   \n",
              "3                      [табиғат, Туризм]   \n",
              "4  [Қасым-Жомарт Тоқаев, ақорда, Туризм]   \n",
              "\n",
              "                                      tags_str  \n",
              "0                         ['Туризм', 'Астана']  \n",
              "1                     ['Туризм', 'оқыс оқиға']  \n",
              "2                       ['Көші-қон', 'Туризм']  \n",
              "3                        ['табиғат', 'Туризм']  \n",
              "4  ['Қасым-Жомарт Тоқаев', 'ақорда', 'Туризм']  "
            ]
          },
          "execution_count": 127,
          "metadata": {},
          "output_type": "execute_result"
        }
      ],
      "source": [
        "all_df['tags_str'] = all_df['tags_list'].apply(lambda x: str(x))\n",
        "all_df.head()"
      ]
    },
    {
      "cell_type": "code",
      "execution_count": 128,
      "metadata": {},
      "outputs": [
        {
          "data": {
            "text/html": [
              "<div>\n",
              "<style scoped>\n",
              "    .dataframe tbody tr th:only-of-type {\n",
              "        vertical-align: middle;\n",
              "    }\n",
              "\n",
              "    .dataframe tbody tr th {\n",
              "        vertical-align: top;\n",
              "    }\n",
              "\n",
              "    .dataframe thead th {\n",
              "        text-align: right;\n",
              "    }\n",
              "</style>\n",
              "<table border=\"1\" class=\"dataframe\">\n",
              "  <thead>\n",
              "    <tr style=\"text-align: right;\">\n",
              "      <th></th>\n",
              "      <th>text</th>\n",
              "      <th>tags_list</th>\n",
              "      <th>tags_str</th>\n",
              "    </tr>\n",
              "  </thead>\n",
              "  <tbody>\n",
              "    <tr>\n",
              "      <th>79</th>\n",
              "      <td>Қытайлық вирусологтар жарқанаттардан адамға CO...</td>\n",
              "      <td>[Қытай, коронавирус]</td>\n",
              "      <td>['Қытай', 'коронавирус']</td>\n",
              "    </tr>\n",
              "    <tr>\n",
              "      <th>80</th>\n",
              "      <td>Алматыда соңғы жеті күнде коронавирус жұқтырға...</td>\n",
              "      <td>[коронавирус, Алматы, эпидемиологиялық жағдай]</td>\n",
              "      <td>['коронавирус', 'Алматы', 'эпидемиологиялық жа...</td>\n",
              "    </tr>\n",
              "    <tr>\n",
              "      <th>81</th>\n",
              "      <td>Қазақстан денсаулық сақтау министрлігі әлеумет...</td>\n",
              "      <td>[дсм, коронавирус, ақпарат]</td>\n",
              "      <td>['дсм', 'коронавирус', 'ақпарат']</td>\n",
              "    </tr>\n",
              "    <tr>\n",
              "      <th>82</th>\n",
              "      <td>Қазақстандағы бас санитар дәрігердің м. а. Нұр...</td>\n",
              "      <td>[қаулы, бас санитар дәрігер, коронавирус, құжат]</td>\n",
              "      <td>['қаулы', 'бас санитар дәрігер', 'коронавирус'...</td>\n",
              "    </tr>\n",
              "    <tr>\n",
              "      <th>83</th>\n",
              "      <td>Денсаулық сақтау министрлігі коронавирус инфек...</td>\n",
              "      <td>[дсм, коронавирус]</td>\n",
              "      <td>['дсм', 'коронавирус']</td>\n",
              "    </tr>\n",
              "  </tbody>\n",
              "</table>\n",
              "</div>"
            ],
            "text/plain": [
              "                                                 text  \\\n",
              "79  Қытайлық вирусологтар жарқанаттардан адамға CO...   \n",
              "80  Алматыда соңғы жеті күнде коронавирус жұқтырға...   \n",
              "81  Қазақстан денсаулық сақтау министрлігі әлеумет...   \n",
              "82  Қазақстандағы бас санитар дәрігердің м. а. Нұр...   \n",
              "83  Денсаулық сақтау министрлігі коронавирус инфек...   \n",
              "\n",
              "                                           tags_list  \\\n",
              "79                              [Қытай, коронавирус]   \n",
              "80    [коронавирус, Алматы, эпидемиологиялық жағдай]   \n",
              "81                       [дсм, коронавирус, ақпарат]   \n",
              "82  [қаулы, бас санитар дәрігер, коронавирус, құжат]   \n",
              "83                                [дсм, коронавирус]   \n",
              "\n",
              "                                             tags_str  \n",
              "79                           ['Қытай', 'коронавирус']  \n",
              "80  ['коронавирус', 'Алматы', 'эпидемиологиялық жа...  \n",
              "81                  ['дсм', 'коронавирус', 'ақпарат']  \n",
              "82  ['қаулы', 'бас санитар дәрігер', 'коронавирус'...  \n",
              "83                             ['дсм', 'коронавирус']  "
            ]
          },
          "execution_count": 128,
          "metadata": {},
          "output_type": "execute_result"
        }
      ],
      "source": [
        "balanced_df = pd.DataFrame()\n",
        "for topic in kaggle_topics.index:\n",
        "  filtered_df = all_df[all_df['tags_str'].str.contains(topic, case=False, na=False)]\n",
        "  balanced_df = pd.concat([balanced_df, filtered_df])\n",
        "balanced_df.head()"
      ]
    },
    {
      "cell_type": "code",
      "execution_count": 129,
      "metadata": {},
      "outputs": [],
      "source": [
        "balanced_df.drop_duplicates(subset='text', inplace=True, ignore_index=True)"
      ]
    },
    {
      "cell_type": "code",
      "execution_count": 130,
      "metadata": {},
      "outputs": [
        {
          "data": {
            "text/plain": [
              "(21561, 3)"
            ]
          },
          "execution_count": 130,
          "metadata": {},
          "output_type": "execute_result"
        }
      ],
      "source": [
        "balanced_df.shape"
      ]
    },
    {
      "cell_type": "code",
      "execution_count": 131,
      "metadata": {},
      "outputs": [
        {
          "data": {
            "text/html": [
              "<div>\n",
              "<style scoped>\n",
              "    .dataframe tbody tr th:only-of-type {\n",
              "        vertical-align: middle;\n",
              "    }\n",
              "\n",
              "    .dataframe tbody tr th {\n",
              "        vertical-align: top;\n",
              "    }\n",
              "\n",
              "    .dataframe thead th {\n",
              "        text-align: right;\n",
              "    }\n",
              "</style>\n",
              "<table border=\"1\" class=\"dataframe\">\n",
              "  <thead>\n",
              "    <tr style=\"text-align: right;\">\n",
              "      <th></th>\n",
              "      <th>text</th>\n",
              "      <th>tags_list</th>\n",
              "      <th>tags_str</th>\n",
              "    </tr>\n",
              "  </thead>\n",
              "  <tbody>\n",
              "    <tr>\n",
              "      <th>0</th>\n",
              "      <td>Қытайлық вирусологтар жарқанаттардан адамға CO...</td>\n",
              "      <td>[коронавирус]</td>\n",
              "      <td>['Қытай', 'коронавирус']</td>\n",
              "    </tr>\n",
              "    <tr>\n",
              "      <th>1</th>\n",
              "      <td>Алматыда соңғы жеті күнде коронавирус жұқтырға...</td>\n",
              "      <td>[коронавирус]</td>\n",
              "      <td>['коронавирус', 'Алматы', 'эпидемиологиялық жа...</td>\n",
              "    </tr>\n",
              "    <tr>\n",
              "      <th>2</th>\n",
              "      <td>Қазақстан денсаулық сақтау министрлігі әлеумет...</td>\n",
              "      <td>[коронавирус]</td>\n",
              "      <td>['дсм', 'коронавирус', 'ақпарат']</td>\n",
              "    </tr>\n",
              "    <tr>\n",
              "      <th>3</th>\n",
              "      <td>Қазақстандағы бас санитар дәрігердің м. а. Нұр...</td>\n",
              "      <td>[коронавирус]</td>\n",
              "      <td>['қаулы', 'бас санитар дәрігер', 'коронавирус'...</td>\n",
              "    </tr>\n",
              "    <tr>\n",
              "      <th>4</th>\n",
              "      <td>Денсаулық сақтау министрлігі коронавирус инфек...</td>\n",
              "      <td>[коронавирус]</td>\n",
              "      <td>['дсм', 'коронавирус']</td>\n",
              "    </tr>\n",
              "  </tbody>\n",
              "</table>\n",
              "</div>"
            ],
            "text/plain": [
              "                                                text      tags_list  \\\n",
              "0  Қытайлық вирусологтар жарқанаттардан адамға CO...  [коронавирус]   \n",
              "1  Алматыда соңғы жеті күнде коронавирус жұқтырға...  [коронавирус]   \n",
              "2  Қазақстан денсаулық сақтау министрлігі әлеумет...  [коронавирус]   \n",
              "3  Қазақстандағы бас санитар дәрігердің м. а. Нұр...  [коронавирус]   \n",
              "4  Денсаулық сақтау министрлігі коронавирус инфек...  [коронавирус]   \n",
              "\n",
              "                                            tags_str  \n",
              "0                           ['Қытай', 'коронавирус']  \n",
              "1  ['коронавирус', 'Алматы', 'эпидемиологиялық жа...  \n",
              "2                  ['дсм', 'коронавирус', 'ақпарат']  \n",
              "3  ['қаулы', 'бас санитар дәрігер', 'коронавирус'...  \n",
              "4                             ['дсм', 'коронавирус']  "
            ]
          },
          "execution_count": 131,
          "metadata": {},
          "output_type": "execute_result"
        }
      ],
      "source": [
        "def drop_tags(row):\n",
        "  new_list = []\n",
        "  for topic in row:\n",
        "    if topic in kaggle_topics.index:\n",
        "      new_list.append(topic)\n",
        "  return new_list\n",
        "\n",
        "balanced_df['tags_list'] = balanced_df['tags_list'].apply(lambda x: drop_tags(x))\n",
        "balanced_df.head()"
      ]
    },
    {
      "cell_type": "code",
      "execution_count": 132,
      "metadata": {},
      "outputs": [],
      "source": [
        "balanced_df['tags_list'] = balanced_df['tags_list'].apply(lambda x: x if len(x)>0 else None)"
      ]
    },
    {
      "cell_type": "code",
      "execution_count": 133,
      "metadata": {},
      "outputs": [
        {
          "data": {
            "text/html": [
              "<div>\n",
              "<style scoped>\n",
              "    .dataframe tbody tr th:only-of-type {\n",
              "        vertical-align: middle;\n",
              "    }\n",
              "\n",
              "    .dataframe tbody tr th {\n",
              "        vertical-align: top;\n",
              "    }\n",
              "\n",
              "    .dataframe thead th {\n",
              "        text-align: right;\n",
              "    }\n",
              "</style>\n",
              "<table border=\"1\" class=\"dataframe\">\n",
              "  <thead>\n",
              "    <tr style=\"text-align: right;\">\n",
              "      <th></th>\n",
              "      <th>text</th>\n",
              "      <th>tags_list</th>\n",
              "      <th>tags_str</th>\n",
              "    </tr>\n",
              "  </thead>\n",
              "  <tbody>\n",
              "    <tr>\n",
              "      <th>0</th>\n",
              "      <td>Қытайлық вирусологтар жарқанаттардан адамға CO...</td>\n",
              "      <td>[коронавирус]</td>\n",
              "      <td>['Қытай', 'коронавирус']</td>\n",
              "    </tr>\n",
              "    <tr>\n",
              "      <th>1</th>\n",
              "      <td>Алматыда соңғы жеті күнде коронавирус жұқтырға...</td>\n",
              "      <td>[коронавирус]</td>\n",
              "      <td>['коронавирус', 'Алматы', 'эпидемиологиялық жа...</td>\n",
              "    </tr>\n",
              "    <tr>\n",
              "      <th>2</th>\n",
              "      <td>Қазақстан денсаулық сақтау министрлігі әлеумет...</td>\n",
              "      <td>[коронавирус]</td>\n",
              "      <td>['дсм', 'коронавирус', 'ақпарат']</td>\n",
              "    </tr>\n",
              "    <tr>\n",
              "      <th>3</th>\n",
              "      <td>Қазақстандағы бас санитар дәрігердің м. а. Нұр...</td>\n",
              "      <td>[коронавирус]</td>\n",
              "      <td>['қаулы', 'бас санитар дәрігер', 'коронавирус'...</td>\n",
              "    </tr>\n",
              "    <tr>\n",
              "      <th>4</th>\n",
              "      <td>Денсаулық сақтау министрлігі коронавирус инфек...</td>\n",
              "      <td>[коронавирус]</td>\n",
              "      <td>['дсм', 'коронавирус']</td>\n",
              "    </tr>\n",
              "  </tbody>\n",
              "</table>\n",
              "</div>"
            ],
            "text/plain": [
              "                                                text      tags_list  \\\n",
              "0  Қытайлық вирусологтар жарқанаттардан адамға CO...  [коронавирус]   \n",
              "1  Алматыда соңғы жеті күнде коронавирус жұқтырға...  [коронавирус]   \n",
              "2  Қазақстан денсаулық сақтау министрлігі әлеумет...  [коронавирус]   \n",
              "3  Қазақстандағы бас санитар дәрігердің м. а. Нұр...  [коронавирус]   \n",
              "4  Денсаулық сақтау министрлігі коронавирус инфек...  [коронавирус]   \n",
              "\n",
              "                                            tags_str  \n",
              "0                           ['Қытай', 'коронавирус']  \n",
              "1  ['коронавирус', 'Алматы', 'эпидемиологиялық жа...  \n",
              "2                  ['дсм', 'коронавирус', 'ақпарат']  \n",
              "3  ['қаулы', 'бас санитар дәрігер', 'коронавирус'...  \n",
              "4                             ['дсм', 'коронавирус']  "
            ]
          },
          "execution_count": 133,
          "metadata": {},
          "output_type": "execute_result"
        }
      ],
      "source": [
        "balanced_df.head()"
      ]
    },
    {
      "cell_type": "code",
      "execution_count": 134,
      "metadata": {},
      "outputs": [
        {
          "data": {
            "text/plain": [
              "text            0\n",
              "tags_list    1285\n",
              "tags_str        0\n",
              "dtype: int64"
            ]
          },
          "execution_count": 134,
          "metadata": {},
          "output_type": "execute_result"
        }
      ],
      "source": [
        "balanced_df.isna().sum()"
      ]
    },
    {
      "cell_type": "code",
      "execution_count": 135,
      "metadata": {},
      "outputs": [],
      "source": [
        "balanced_df.dropna(axis=0, inplace=True)"
      ]
    },
    {
      "cell_type": "code",
      "execution_count": 136,
      "metadata": {},
      "outputs": [],
      "source": [
        "balanced_df.reset_index(inplace=True)"
      ]
    },
    {
      "cell_type": "code",
      "execution_count": 138,
      "metadata": {},
      "outputs": [],
      "source": [
        "balanced_df.to_csv(os.path.join('dataset', 'tengrinews_df.csv'), index = False)"
      ]
    },
    {
      "cell_type": "code",
      "execution_count": null,
      "metadata": {},
      "outputs": [],
      "source": []
    }
  ],
  "metadata": {
    "colab": {
      "provenance": []
    },
    "kernelspec": {
      "display_name": "base",
      "language": "python",
      "name": "python3"
    },
    "language_info": {
      "codemirror_mode": {
        "name": "ipython",
        "version": 3
      },
      "file_extension": ".py",
      "mimetype": "text/x-python",
      "name": "python",
      "nbconvert_exporter": "python",
      "pygments_lexer": "ipython3",
      "version": "3.12.7"
    }
  },
  "nbformat": 4,
  "nbformat_minor": 0
}
