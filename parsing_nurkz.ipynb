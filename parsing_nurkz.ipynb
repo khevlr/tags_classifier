{
 "cells": [
  {
   "cell_type": "code",
   "execution_count": 62,
   "id": "6a98b84d",
   "metadata": {},
   "outputs": [],
   "source": [
    "import pandas as pd\n",
    "import os\n",
    "import requests\n",
    "from bs4 import BeautifulSoup\n",
    "import time\n",
    "import random\n",
    "import json"
   ]
  },
  {
   "cell_type": "code",
   "execution_count": 74,
   "id": "8c13b393",
   "metadata": {},
   "outputs": [],
   "source": [
    "link_to_main_page = 'https://kaz.nur.kz/latest/'"
   ]
  },
  {
   "cell_type": "code",
   "execution_count": 75,
   "id": "6811bf46",
   "metadata": {},
   "outputs": [],
   "source": [
    "r = requests.get(link_to_main_page)\n",
    "soup = BeautifulSoup(r.text, 'html.parser')\n",
    "blocks = soup.select('div.burger__menu--section.js-analytics-section')"
   ]
  },
  {
   "cell_type": "code",
   "execution_count": 76,
   "id": "1c56588d",
   "metadata": {},
   "outputs": [],
   "source": [
    "target_block = None\n",
    "for block in blocks:\n",
    "    p_tag = block.find('p', class_='burger__menu--section-title')\n",
    "    if p_tag and 'Барлық санат' in p_tag.get_text(strip=True):\n",
    "        target_block = block\n",
    "        break"
   ]
  },
  {
   "cell_type": "markdown",
   "id": "c3d4c6f2",
   "metadata": {},
   "source": [
    "## get categories links"
   ]
  },
  {
   "cell_type": "code",
   "execution_count": 157,
   "id": "3f311fe2",
   "metadata": {},
   "outputs": [],
   "source": [
    "links_set = set()"
   ]
  },
  {
   "cell_type": "code",
   "execution_count": 158,
   "id": "4ca64233",
   "metadata": {},
   "outputs": [],
   "source": [
    "links = target_block.find_all('a', class_='burger__menu--section--item-subitem-link', href=True)"
   ]
  },
  {
   "cell_type": "code",
   "execution_count": 159,
   "id": "f786ecea",
   "metadata": {},
   "outputs": [
    {
     "data": {
      "text/plain": [
       "<a class=\"burger__menu--section--item-subitem-link\" href=\"https://kaz.nur.kz/leisure/books/\">\n",
       "                      Кітап                    </a>"
      ]
     },
     "execution_count": 159,
     "metadata": {},
     "output_type": "execute_result"
    }
   ],
   "source": [
    "links[0]"
   ]
  },
  {
   "cell_type": "code",
   "execution_count": 160,
   "id": "6f93f62b",
   "metadata": {},
   "outputs": [],
   "source": [
    "links_for_reg_cat = target_block.find_all('a', class_='burger__menu--section--item--link burger__menu--section--item--link-full', href=True)"
   ]
  },
  {
   "cell_type": "code",
   "execution_count": 161,
   "id": "a9276525",
   "metadata": {},
   "outputs": [
    {
     "data": {
      "text/plain": [
       "<a class=\"burger__menu--section--item--link burger__menu--section--item--link-full\" href=\"https://kaz.nur.kz/latest/\">\n",
       "              БАРЛЫҚ ЖАҢАЛЫҚ                          </a>"
      ]
     },
     "execution_count": 161,
     "metadata": {},
     "output_type": "execute_result"
    }
   ],
   "source": [
    "links_for_reg_cat[0]"
   ]
  },
  {
   "cell_type": "code",
   "execution_count": 162,
   "id": "fabcf240",
   "metadata": {},
   "outputs": [
    {
     "data": {
      "text/plain": [
       "<a class=\"burger__menu--section--item--link burger__menu--section--item--link-full\" href=\"https://kaz.nur.kz/latest/\">\n",
       "              БАРЛЫҚ ЖАҢАЛЫҚ                          </a>"
      ]
     },
     "execution_count": 162,
     "metadata": {},
     "output_type": "execute_result"
    }
   ],
   "source": [
    "links_for_reg_cat.pop(0)"
   ]
  },
  {
   "cell_type": "code",
   "execution_count": 163,
   "id": "40b24cd6",
   "metadata": {},
   "outputs": [
    {
     "data": {
      "text/plain": [
       "[<a class=\"burger__menu--section--item--link burger__menu--section--item--link-full\" href=\"https://kaz.nur.kz/kak-rabotaet-nur-kz-kaz/\">\n",
       "               Біз қалай жұмыс істейміз                          </a>,\n",
       " <a class=\"burger__menu--section--item--link burger__menu--section--item--link-full\" href=\"https://kaz.nur.kz/kaleidoscope/\">\n",
       "               Калейдоскоп                          </a>,\n",
       " <a class=\"burger__menu--section--item--link burger__menu--section--item--link-full\" href=\"https://kaz.nur.kz/lady/\">\n",
       "               Ханшайым                          </a>,\n",
       " <a class=\"burger__menu--section--item--link burger__menu--section--item--link-full\" href=\"https://kaz.nur.kz/society/\">\n",
       "               Қоғам                          </a>,\n",
       " <a class=\"burger__menu--section--item--link burger__menu--section--item--link-full\" href=\"https://kaz.nur.kz/world/\">\n",
       "               Әлемде                          </a>]"
      ]
     },
     "execution_count": 163,
     "metadata": {},
     "output_type": "execute_result"
    }
   ],
   "source": [
    "links_for_reg_cat"
   ]
  },
  {
   "cell_type": "code",
   "execution_count": 164,
   "id": "4b295a92",
   "metadata": {},
   "outputs": [],
   "source": [
    "for link in links_for_reg_cat:\n",
    "    links_set.add(link['href'])"
   ]
  },
  {
   "cell_type": "code",
   "execution_count": 165,
   "id": "a5845196",
   "metadata": {},
   "outputs": [],
   "source": [
    "for link in links:\n",
    "    links_set.add(link['href'])"
   ]
  },
  {
   "cell_type": "code",
   "execution_count": 166,
   "id": "6547ce66",
   "metadata": {},
   "outputs": [],
   "source": [
    "links_list = list(links_set)"
   ]
  },
  {
   "cell_type": "code",
   "execution_count": 167,
   "id": "208bd80c",
   "metadata": {},
   "outputs": [],
   "source": [
    "with open(\"links_nurkz.json\", \"w\", encoding=\"utf-8\") as f:\n",
    "    json.dump(links_list, f, ensure_ascii=False, indent=2)"
   ]
  },
  {
   "cell_type": "markdown",
   "id": "a7ea759f",
   "metadata": {},
   "source": [
    "## get tags"
   ]
  },
  {
   "cell_type": "code",
   "execution_count": 168,
   "id": "1af77d75",
   "metadata": {},
   "outputs": [],
   "source": [
    "tags_set = set()"
   ]
  },
  {
   "cell_type": "code",
   "execution_count": 169,
   "id": "f9155e7a",
   "metadata": {},
   "outputs": [],
   "source": [
    "tags = target_block.find_all('a', class_='burger__menu--section--item-subitem-link')"
   ]
  },
  {
   "cell_type": "code",
   "execution_count": null,
   "id": "5e52aa39",
   "metadata": {},
   "outputs": [
    {
     "data": {
      "text/plain": [
       "<a class=\"burger__menu--section--item-subitem-link\" href=\"https://kaz.nur.kz/leisure/books/\">\n",
       "                      Кітап                    </a>"
      ]
     },
     "execution_count": 170,
     "metadata": {},
     "output_type": "execute_result"
    }
   ],
   "source": [
    "tags[0]"
   ]
  },
  {
   "cell_type": "code",
   "execution_count": 171,
   "id": "2d97f640",
   "metadata": {},
   "outputs": [],
   "source": [
    "for tag in tags:\n",
    "    tags_set.add(tag.get_text(strip=True).lower())"
   ]
  },
  {
   "cell_type": "code",
   "execution_count": 172,
   "id": "80456277",
   "metadata": {},
   "outputs": [],
   "source": [
    "tags_for_reg_cat = target_block.find_all('a', class_='burger__menu--section--item--link burger__menu--section--item--link-full')"
   ]
  },
  {
   "cell_type": "code",
   "execution_count": 173,
   "id": "fc3f74b3",
   "metadata": {},
   "outputs": [
    {
     "data": {
      "text/plain": [
       "<a class=\"burger__menu--section--item--link burger__menu--section--item--link-full\" href=\"https://kaz.nur.kz/latest/\">\n",
       "              БАРЛЫҚ ЖАҢАЛЫҚ                          </a>"
      ]
     },
     "execution_count": 173,
     "metadata": {},
     "output_type": "execute_result"
    }
   ],
   "source": [
    "tags_for_reg_cat[0]"
   ]
  },
  {
   "cell_type": "code",
   "execution_count": 174,
   "id": "68cf67f7",
   "metadata": {},
   "outputs": [
    {
     "data": {
      "text/plain": [
       "<a class=\"burger__menu--section--item--link burger__menu--section--item--link-full\" href=\"https://kaz.nur.kz/latest/\">\n",
       "              БАРЛЫҚ ЖАҢАЛЫҚ                          </a>"
      ]
     },
     "execution_count": 174,
     "metadata": {},
     "output_type": "execute_result"
    }
   ],
   "source": [
    "tags_for_reg_cat.pop(0)"
   ]
  },
  {
   "cell_type": "code",
   "execution_count": 175,
   "id": "1c1f5e54",
   "metadata": {},
   "outputs": [
    {
     "data": {
      "text/plain": [
       "[<a class=\"burger__menu--section--item--link burger__menu--section--item--link-full\" href=\"https://kaz.nur.kz/kak-rabotaet-nur-kz-kaz/\">\n",
       "               Біз қалай жұмыс істейміз                          </a>,\n",
       " <a class=\"burger__menu--section--item--link burger__menu--section--item--link-full\" href=\"https://kaz.nur.kz/kaleidoscope/\">\n",
       "               Калейдоскоп                          </a>,\n",
       " <a class=\"burger__menu--section--item--link burger__menu--section--item--link-full\" href=\"https://kaz.nur.kz/lady/\">\n",
       "               Ханшайым                          </a>,\n",
       " <a class=\"burger__menu--section--item--link burger__menu--section--item--link-full\" href=\"https://kaz.nur.kz/society/\">\n",
       "               Қоғам                          </a>,\n",
       " <a class=\"burger__menu--section--item--link burger__menu--section--item--link-full\" href=\"https://kaz.nur.kz/world/\">\n",
       "               Әлемде                          </a>]"
      ]
     },
     "execution_count": 175,
     "metadata": {},
     "output_type": "execute_result"
    }
   ],
   "source": [
    "tags_for_reg_cat"
   ]
  },
  {
   "cell_type": "code",
   "execution_count": 176,
   "id": "13ccc294",
   "metadata": {},
   "outputs": [],
   "source": [
    "for tag in tags_for_reg_cat:\n",
    "    tags_set.add(tag.get_text(strip=True).lower())"
   ]
  },
  {
   "cell_type": "code",
   "execution_count": 177,
   "id": "fa35e0d9",
   "metadata": {},
   "outputs": [],
   "source": [
    "tags_list = list(tags_set)"
   ]
  },
  {
   "cell_type": "code",
   "execution_count": 178,
   "id": "e7a4a15e",
   "metadata": {},
   "outputs": [],
   "source": [
    "with open(\"tags_nurkz.json\", \"w\", encoding=\"utf-8\") as f:\n",
    "    json.dump(tags_list, f, ensure_ascii=False, indent=2)"
   ]
  },
  {
   "cell_type": "markdown",
   "id": "c0689765",
   "metadata": {},
   "source": [
    "## parsing"
   ]
  },
  {
   "cell_type": "code",
   "execution_count": 100,
   "id": "175bdb04",
   "metadata": {},
   "outputs": [],
   "source": [
    "from selenium import webdriver\n",
    "from selenium.webdriver.common.by import By\n",
    "from selenium.webdriver.common.keys import Keys\n",
    "from selenium.webdriver.chrome.service import Service\n",
    "from webdriver_manager.chrome import ChromeDriverManager\n",
    "import time"
   ]
  },
  {
   "cell_type": "code",
   "execution_count": 198,
   "id": "2aef92d6",
   "metadata": {},
   "outputs": [],
   "source": [
    "def get_dynamic_content(url, scroll_pause_time=2):\n",
    "\n",
    "    driver = webdriver.Chrome(service=Service(ChromeDriverManager().install()))\n",
    "\n",
    "    try:\n",
    "        driver.get(url)\n",
    "        \n",
    "        scroll_height = driver.execute_script(\"return document.body.scrollHeight\")\n",
    "\n",
    "        all_links = []\n",
    "        num_links = 0\n",
    "        cnt = 0\n",
    "\n",
    "\n",
    "        while True and cnt < 21:\n",
    "\n",
    "            driver.execute_script(\"window.scrollTo(0, document.body.scrollHeight);\")\n",
    "            time.sleep(scroll_pause_time)\n",
    "            new_scroll_height = driver.execute_script(\"return document.body.scrollHeight\")\n",
    "\n",
    "            if new_scroll_height == scroll_height:\n",
    "                break\n",
    "\n",
    "            scroll_height = new_scroll_height\n",
    "\n",
    "            cnt += 1\n",
    "\n",
    "        elements = driver.find_elements(By.CSS_SELECTOR, 'a.article-card__title.js-article-link') \n",
    "\n",
    "        for element in elements:\n",
    "            num_links += 1\n",
    "            all_links.append(element.get_attribute('href'))\n",
    "            if num_links == 400:\n",
    "                break\n",
    "\n",
    "    finally:\n",
    "        driver.quit()\n",
    "\n",
    "    return all_links\n",
    "\n"
   ]
  },
  {
   "cell_type": "code",
   "execution_count": 199,
   "id": "7bd82a2e",
   "metadata": {},
   "outputs": [],
   "source": [
    "def get_text_tags(url, retries=3, delay=5):\n",
    "\n",
    "    headers = {\n",
    "            \"User-Agent\": \"Mozilla/5.0 (Windows NT 10.0; Win64; x64)\",\n",
    "            \"Accept-Language\": \"en-US,en;q=0.9\",\n",
    "            }\n",
    "\n",
    "    try:\n",
    "\n",
    "        r = requests.get(url, timeout=(3,5), headers=headers)\n",
    "\n",
    "        r.raise_for_status()\n",
    "\n",
    "    except requests.exceptions.Timeout:\n",
    "\n",
    "        print(f\"Timeout при загрузке: {url}\")\n",
    "        \n",
    "        if retries > 0:\n",
    "            print(f\"Повтор через {delay} сек... Осталось попыток: {retries}\")\n",
    "            time.sleep(delay)\n",
    "            return get_text_tags(url, retries - 1, delay)\n",
    "        else:\n",
    "            return \"\", []\n",
    "    \n",
    "    except requests.exceptions.RequestException as e:\n",
    "\n",
    "        print(f\"Error downloading {url}: {e}\")\n",
    "        return \"\", []\n",
    "    \n",
    "    soup = BeautifulSoup(r.text, 'html.parser')\n",
    "    \n",
    "    paragraphs = soup.select('p.formatted-body__paragraph')\n",
    "\n",
    "    article_text = ''''''\n",
    "\n",
    "    for p in paragraphs:\n",
    "\n",
    "        for el in p.find_all(['a', 'img', 'em', 'strong', 'span']):\n",
    "            el.replace_with(f''' {el.get_text(strip=True)}''')\n",
    "\n",
    "        text = p.get_text()\n",
    "\n",
    "        if text:\n",
    "            article_text += f''' {text}'''\n",
    "\n",
    "    tags_element = soup.select_one('a.breadcrumbs-item.breadcrumbs-item--secondary')\n",
    "\n",
    "    if tags_element:\n",
    "        tag_of_article = tags_element.get_text(strip=True).lower()\n",
    "    else:\n",
    "        tag_of_article = None\n",
    "\n",
    "    return article_text, tag_of_article\n"
   ]
  },
  {
   "cell_type": "code",
   "execution_count": 200,
   "id": "e1eb1ebd",
   "metadata": {},
   "outputs": [
    {
     "name": "stdout",
     "output_type": "stream",
     "text": [
      "health_healthy-lifestyle\n",
      "health_healthy-lifestyle ✅\n",
      "leisure_holidays\n",
      "leisure_holidays ✅\n",
      "sport_other-sports\n",
      "sport_other-sports ✅\n",
      "sport_mma\n",
      "sport_mma ✅\n",
      "accidents_road-accident\n",
      "accidents_road-accident ✅\n",
      "lady_\n",
      "lady_ ✅\n",
      "sport_olympiad\n",
      "sport_olympiad ✅\n",
      "kaleidoscope_\n",
      "kaleidoscope_ ✅\n",
      "showbiz_incidents\n",
      "showbiz_incidents ✅\n",
      "kak-rabotaet-nur-kz-kaz_\n",
      "kak-rabotaet-nur-kz-kaz_ ✅\n",
      "esoterics_interesting\n",
      "esoterics_interesting ✅\n",
      "sport_fight\n",
      "sport_fight ✅\n",
      "family_beauty\n",
      "family_beauty ✅\n",
      "accidents_crime\n",
      "accidents_crime ✅\n",
      "nurfin_stock\n",
      "nurfin_stock ✅\n",
      "accidents_emergency\n",
      "Timeout при загрузке: https://kaz.nur.kz/accidents/emergency/2206014-azerbaijan-airlines-kompaniiasynyng-reseige-bet-algan-ushagy-bakuge-oraluga-mazhbur-boldy/\n",
      "Повтор через 5 сек... Осталось попыток: 3\n",
      "accidents_emergency ✅\n",
      "nurfin_insurance\n",
      "nurfin_insurance ✅\n",
      "leisure_books\n",
      "leisure_books ✅\n",
      "sport_boxing\n",
      "sport_boxing ✅\n",
      "food_recipes\n",
      "food_recipes ✅\n",
      "politics_kazakhstan\n",
      "politics_kazakhstan ✅\n",
      "society_\n",
      "Error downloading https://kaz.nur.kz/society/2230961-almaty-oblysynda-oblystyq-mangyzy-bar-avtozholdar-1-aiga-zhabylady/: HTTPSConnectionPool(host='kaz.nur.kz', port=443): Max retries exceeded with url: /society/2230961-almaty-oblysynda-oblystyq-mangyzy-bar-avtozholdar-1-aiga-zhabylady/ (Caused by NameResolutionError(\"<urllib3.connection.HTTPSConnection object at 0x000001C9A31E7890>: Failed to resolve 'kaz.nur.kz' ([Errno 11001] getaddrinfo failed)\"))\n",
      "society_ ✅\n",
      "nurfin_pension\n",
      "Timeout при загрузке: https://kaz.nur.kz/nurfin/pension/2087387-su-tasqynynan-zardap-sekken-keibir-qazaqstandyq-birzolgy-otemaqy-ala-almauy-mumkin/\n",
      "Повтор через 5 сек... Осталось попыток: 3\n",
      "Timeout при загрузке: https://kaz.nur.kz/nurfin/pension/2080511-su-tasqynynan-zardap-sekkenderge-tolenetin-otemaqy-enbekmin-malimdeme-zasady/\n",
      "Повтор через 5 сек... Осталось попыток: 3\n",
      "Timeout при загрузке: https://kaz.nur.kz/nurfin/pension/2055769-2024-zyly-ulttyq-qor-balalarga-bagdarlamasy-boiynsa-tolem-alatyndardyn-tizimi-zasaldy/\n",
      "Повтор через 5 сек... Осталось попыток: 3\n",
      "Timeout при загрузке: https://kaz.nur.kz/nurfin/pension/2055769-2024-zyly-ulttyq-qor-balalarga-bagdarlamasy-boiynsa-tolem-alatyndardyn-tizimi-zasaldy/\n",
      "Повтор через 5 сек... Осталось попыток: 2\n",
      "Timeout при загрузке: https://kaz.nur.kz/nurfin/pension/2055769-2024-zyly-ulttyq-qor-balalarga-bagdarlamasy-boiynsa-tolem-alatyndardyn-tizimi-zasaldy/\n",
      "Повтор через 5 сек... Осталось попыток: 1\n",
      "Error downloading https://kaz.nur.kz/nurfin/pension/2055769-2024-zyly-ulttyq-qor-balalarga-bagdarlamasy-boiynsa-tolem-alatyndardyn-tizimi-zasaldy/: HTTPSConnectionPool(host='kaz.nur.kz', port=443): Read timed out.\n",
      "nurfin_pension ✅\n",
      "family_school\n",
      "family_school ✅\n",
      "family_psychology\n",
      "family_psychology ✅\n",
      "world_\n",
      "world_ ✅\n",
      "showbiz_scandals\n",
      "Timeout при загрузке: https://kaz.nur.kz/showbiz/scandals/2090096-zhuregim-auyrady-zhazira-baiyrbekova-otandyq-bagdarlamada-koz-zhasyna-erik-berdi/\n",
      "Повтор через 5 сек... Осталось попыток: 3\n",
      "Timeout при загрузке: https://kaz.nur.kz/showbiz/scandals/2081297-apattan-abyroi-zinamaiyq-abdiraiymov-su-tasqynyn-azilge-ainaldyrgandarga-suilikti-foto/\n",
      "Повтор через 5 сек... Осталось попыток: 3\n",
      "Timeout при загрузке: https://kaz.nur.kz/showbiz/scandals/2081297-apattan-abyroi-zinamaiyq-abdiraiymov-su-tasqynyn-azilge-ainaldyrgandarga-suilikti-foto/\n",
      "Повтор через 5 сек... Осталось попыток: 2\n",
      "Timeout при загрузке: https://kaz.nur.kz/showbiz/scandals/2081297-apattan-abyroi-zinamaiyq-abdiraiymov-su-tasqynyn-azilge-ainaldyrgandarga-suilikti-foto/\n",
      "Повтор через 5 сек... Осталось попыток: 1\n",
      "Timeout при загрузке: https://kaz.nur.kz/showbiz/scandals/2081297-apattan-abyroi-zinamaiyq-abdiraiymov-su-tasqynyn-azilge-ainaldyrgandarga-suilikti-foto/\n",
      "Timeout при загрузке: https://kaz.nur.kz/showbiz/scandals/2081270-sygynyn-memleket-tolyq-otep-beredi-madina-saduaqasova-su-tasqynynan-zardap-sekken-xalyqqa-basu-aitty/\n",
      "Повтор через 5 сек... Осталось попыток: 3\n",
      "Timeout при загрузке: https://kaz.nur.kz/showbiz/scandals/2081270-sygynyn-memleket-tolyq-otep-beredi-madina-saduaqasova-su-tasqynynan-zardap-sekken-xalyqqa-basu-aitty/\n",
      "Повтор через 5 сек... Осталось попыток: 2\n",
      "Timeout при загрузке: https://kaz.nur.kz/showbiz/scandals/2081270-sygynyn-memleket-tolyq-otep-beredi-madina-saduaqasova-su-tasqynynan-zardap-sekken-xalyqqa-basu-aitty/\n",
      "Повтор через 5 сек... Осталось попыток: 1\n",
      "Timeout при загрузке: https://kaz.nur.kz/showbiz/scandals/2081270-sygynyn-memleket-tolyq-otep-beredi-madina-saduaqasova-su-tasqynynan-zardap-sekken-xalyqqa-basu-aitty/\n",
      "showbiz_scandals ✅\n",
      "nurfin_economy\n",
      "nurfin_economy ✅\n",
      "nurfin_fines-and-taxes\n",
      "nurfin_fines-and-taxes ✅\n",
      "leisure_entertainment\n",
      "leisure_entertainment ✅\n",
      "food_healthy-eating\n",
      "food_healthy-eating ✅\n",
      "showbiz_personal-life\n",
      "showbiz_personal-life ✅\n",
      "nurfin_banks\n",
      "nurfin_banks ✅\n",
      "health_coronavirus\n",
      "health_coronavirus ✅\n",
      "health_motherhood\n",
      "health_motherhood ✅\n",
      "showbiz_career\n",
      "showbiz_career ✅\n",
      "health_healthcare\n",
      "health_healthcare ✅\n",
      "nurfin_personal\n",
      "nurfin_personal ✅\n",
      "sport_football\n",
      "sport_football ✅\n",
      "politics_appointments\n",
      "politics_appointments ✅\n",
      "sport_hockey\n",
      "sport_hockey ✅\n",
      "family_household\n",
      "family_household ✅\n",
      "politics_universe\n",
      "politics_universe ✅\n",
      "showbiz_image\n",
      "showbiz_image ✅\n",
      "esoterics_dream-books\n",
      "esoterics_dream-books ✅\n",
      "health_medical-conditions\n",
      "health_medical-conditions ✅\n",
      "accidents_accident\n",
      "accidents_accident ✅\n",
      "sport_about-sports\n",
      "sport_about-sports ✅\n",
      "esoterics_astrology\n",
      "esoterics_astrology ✅\n"
     ]
    }
   ],
   "source": [
    "nurkz_df = pd.DataFrame()\n",
    "\n",
    "for link in links_list:\n",
    "\n",
    "  for_file_name = link.replace('https://kaz.nur.kz/', '').replace('/', '_', 1).replace('/','')\n",
    "\n",
    "  print(for_file_name)\n",
    "\n",
    "  article_of_each_tag = {\n",
    "    'text': [],\n",
    "    'tags': [],\n",
    "    'url': []\n",
    "  }\n",
    "\n",
    "  all_links = get_dynamic_content(link)\n",
    "  time.sleep(1)\n",
    "\n",
    "  for link in all_links:\n",
    "    text, tag = get_text_tags(link)\n",
    "    time.sleep(1)\n",
    "    article_of_each_tag['text'].append(text)\n",
    "    article_of_each_tag['tags'].append(tag)\n",
    "    article_of_each_tag['url'].append(link)\n",
    "\n",
    "  tag_df = pd.DataFrame(article_of_each_tag)\n",
    "  tag_df.to_csv(os.path.join('nurkz_articles', f\"\"\"{for_file_name}.csv\"\"\"), index = False)\n",
    "  nurkz_df = pd.concat([nurkz_df, tag_df], ignore_index=True)\n",
    "\n",
    "  print(f'{for_file_name} ✅')\n"
   ]
  },
  {
   "cell_type": "code",
   "execution_count": 203,
   "id": "dea87173",
   "metadata": {},
   "outputs": [
    {
     "data": {
      "text/html": [
       "<div>\n",
       "<style scoped>\n",
       "    .dataframe tbody tr th:only-of-type {\n",
       "        vertical-align: middle;\n",
       "    }\n",
       "\n",
       "    .dataframe tbody tr th {\n",
       "        vertical-align: top;\n",
       "    }\n",
       "\n",
       "    .dataframe thead th {\n",
       "        text-align: right;\n",
       "    }\n",
       "</style>\n",
       "<table border=\"1\" class=\"dataframe\">\n",
       "  <thead>\n",
       "    <tr style=\"text-align: right;\">\n",
       "      <th></th>\n",
       "      <th>text</th>\n",
       "      <th>tags</th>\n",
       "      <th>url</th>\n",
       "    </tr>\n",
       "  </thead>\n",
       "  <tbody>\n",
       "    <tr>\n",
       "      <th>0</th>\n",
       "      <td>Бие сүтін адам өмірін ұзартатын сусын ретінд...</td>\n",
       "      <td>салауатты өмір салты</td>\n",
       "      <td>https://kaz.nur.kz/health/healthy-lifestyle/22...</td>\n",
       "    </tr>\n",
       "    <tr>\n",
       "      <th>1</th>\n",
       "      <td>Қыстың аязды күндерінде көлікті дұрыс қыздыр...</td>\n",
       "      <td>салауатты өмір салты</td>\n",
       "      <td>https://kaz.nur.kz/health/healthy-lifestyle/22...</td>\n",
       "    </tr>\n",
       "    <tr>\n",
       "      <th>2</th>\n",
       "      <td>АҚШ-тың Азық-түлік және дәрі-дәрмек сапасын ...</td>\n",
       "      <td>салауатты өмір салты</td>\n",
       "      <td>https://kaz.nur.kz/health/healthy-lifestyle/21...</td>\n",
       "    </tr>\n",
       "    <tr>\n",
       "      <th>3</th>\n",
       "      <td>Е дәрумені терінің саулығы мен мидың қызметі...</td>\n",
       "      <td>салауатты өмір салты</td>\n",
       "      <td>https://kaz.nur.kz/health/healthy-lifestyle/21...</td>\n",
       "    </tr>\n",
       "    <tr>\n",
       "      <th>4</th>\n",
       "      <td>Сынаптан жасалған дене қызуын өлшейтін құрал...</td>\n",
       "      <td>салауатты өмір салты</td>\n",
       "      <td>https://kaz.nur.kz/health/healthy-lifestyle/21...</td>\n",
       "    </tr>\n",
       "    <tr>\n",
       "      <th>5</th>\n",
       "      <td>\"Маңғыстау облыстық тұтынушылардың құқықтары...</td>\n",
       "      <td>салауатты өмір салты</td>\n",
       "      <td>https://kaz.nur.kz/health/healthy-lifestyle/21...</td>\n",
       "    </tr>\n",
       "    <tr>\n",
       "      <th>6</th>\n",
       "      <td>Көптеген мәдениетте алғашқы неке түнінде жай...</td>\n",
       "      <td>салауатты өмір салты</td>\n",
       "      <td>https://kaz.nur.kz/health/healthy-lifestyle/21...</td>\n",
       "    </tr>\n",
       "    <tr>\n",
       "      <th>7</th>\n",
       "      <td>Кегель жаттығуларының жамбас бұлшықеттеріне ...</td>\n",
       "      <td>салауатты өмір салты</td>\n",
       "      <td>https://kaz.nur.kz/health/healthy-lifestyle/21...</td>\n",
       "    </tr>\n",
       "    <tr>\n",
       "      <th>8</th>\n",
       "      <td>Мия тамыры асқазан проблемалары мен жөтелге ...</td>\n",
       "      <td>салауатты өмір салты</td>\n",
       "      <td>https://kaz.nur.kz/health/healthy-lifestyle/21...</td>\n",
       "    </tr>\n",
       "    <tr>\n",
       "      <th>9</th>\n",
       "      <td>Денсаулықтың мықты болуының негізі - дұрыс т...</td>\n",
       "      <td>салауатты өмір салты</td>\n",
       "      <td>https://kaz.nur.kz/health/healthy-lifestyle/21...</td>\n",
       "    </tr>\n",
       "  </tbody>\n",
       "</table>\n",
       "</div>"
      ],
      "text/plain": [
       "                                                text                  tags  \\\n",
       "0    Бие сүтін адам өмірін ұзартатын сусын ретінд...  салауатты өмір салты   \n",
       "1    Қыстың аязды күндерінде көлікті дұрыс қыздыр...  салауатты өмір салты   \n",
       "2    АҚШ-тың Азық-түлік және дәрі-дәрмек сапасын ...  салауатты өмір салты   \n",
       "3    Е дәрумені терінің саулығы мен мидың қызметі...  салауатты өмір салты   \n",
       "4    Сынаптан жасалған дене қызуын өлшейтін құрал...  салауатты өмір салты   \n",
       "5    \"Маңғыстау облыстық тұтынушылардың құқықтары...  салауатты өмір салты   \n",
       "6    Көптеген мәдениетте алғашқы неке түнінде жай...  салауатты өмір салты   \n",
       "7    Кегель жаттығуларының жамбас бұлшықеттеріне ...  салауатты өмір салты   \n",
       "8    Мия тамыры асқазан проблемалары мен жөтелге ...  салауатты өмір салты   \n",
       "9    Денсаулықтың мықты болуының негізі - дұрыс т...  салауатты өмір салты   \n",
       "\n",
       "                                                 url  \n",
       "0  https://kaz.nur.kz/health/healthy-lifestyle/22...  \n",
       "1  https://kaz.nur.kz/health/healthy-lifestyle/22...  \n",
       "2  https://kaz.nur.kz/health/healthy-lifestyle/21...  \n",
       "3  https://kaz.nur.kz/health/healthy-lifestyle/21...  \n",
       "4  https://kaz.nur.kz/health/healthy-lifestyle/21...  \n",
       "5  https://kaz.nur.kz/health/healthy-lifestyle/21...  \n",
       "6  https://kaz.nur.kz/health/healthy-lifestyle/21...  \n",
       "7  https://kaz.nur.kz/health/healthy-lifestyle/21...  \n",
       "8  https://kaz.nur.kz/health/healthy-lifestyle/21...  \n",
       "9  https://kaz.nur.kz/health/healthy-lifestyle/21...  "
      ]
     },
     "execution_count": 203,
     "metadata": {},
     "output_type": "execute_result"
    }
   ],
   "source": [
    "nurkz_df.head(10)"
   ]
  },
  {
   "cell_type": "code",
   "execution_count": 202,
   "id": "7f7d7358",
   "metadata": {},
   "outputs": [],
   "source": [
    "nurkz_df.to_csv(os.path.join('dataset', 'nurkz_df.csv'), index = False)"
   ]
  },
  {
   "cell_type": "code",
   "execution_count": 204,
   "id": "a8c08f01",
   "metadata": {},
   "outputs": [
    {
     "data": {
      "text/plain": [
       "(15624, 3)"
      ]
     },
     "execution_count": 204,
     "metadata": {},
     "output_type": "execute_result"
    }
   ],
   "source": [
    "nurkz_df.shape"
   ]
  },
  {
   "cell_type": "code",
   "execution_count": 207,
   "id": "2a24d6c6",
   "metadata": {},
   "outputs": [],
   "source": [
    "import matplotlib.pyplot as plt"
   ]
  },
  {
   "cell_type": "code",
   "execution_count": 208,
   "id": "03b1d4dd",
   "metadata": {},
   "outputs": [],
   "source": [
    "tags_series = nurkz_df['tags']"
   ]
  },
  {
   "cell_type": "code",
   "execution_count": 209,
   "id": "5bdb7cb6",
   "metadata": {},
   "outputs": [],
   "source": [
    "cnt_tags = tags_series.value_counts(ascending=False)"
   ]
  },
  {
   "cell_type": "code",
   "execution_count": 211,
   "id": "fb041a39",
   "metadata": {},
   "outputs": [],
   "source": [
    "cnt_tags = cnt_tags[:-2]"
   ]
  },
  {
   "cell_type": "code",
   "execution_count": 223,
   "id": "ccae7ac9",
   "metadata": {},
   "outputs": [
    {
     "data": {
      "image/png": "[encoded data removed]",
      "text/plain": [
       "<Figure size 1000x300 with 1 Axes>"
      ]
     },
     "metadata": {},
     "output_type": "display_data"
    }
   ],
   "source": [
    "plt.figure(figsize=(10,3))\n",
    "cnt_tags.plot(kind='bar')\n",
    "plt.show()"
   ]
  },
  {
   "cell_type": "code",
   "execution_count": null,
   "id": "a09d6747",
   "metadata": {},
   "outputs": [],
   "source": []
  }
 ],
 "metadata": {
  "kernelspec": {
   "display_name": "base",
   "language": "python",
   "name": "python3"
  },
  "language_info": {
   "codemirror_mode": {
    "name": "ipython",
    "version": 3
   },
   "file_extension": ".py",
   "mimetype": "text/x-python",
   "name": "python",
   "nbconvert_exporter": "python",
   "pygments_lexer": "ipython3",
   "version": "3.12.7"
  }
 },
 "nbformat": 4,
 "nbformat_minor": 5
}
